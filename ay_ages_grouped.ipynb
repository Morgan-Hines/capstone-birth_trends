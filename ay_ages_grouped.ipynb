{
 "cells": [
  {
   "cell_type": "code",
   "execution_count": 1,
   "id": "f0f88fbe",
   "metadata": {},
   "outputs": [],
   "source": [
    "import pandas as pd\n",
    "import matplotlib.pyplot as plt\n",
    "import seaborn as sns\n",
    "\n",
    "%matplotlib inline"
   ]
  },
  {
   "cell_type": "markdown",
   "id": "d19cb269",
   "metadata": {},
   "source": [
    "### PULLING IN TABLES"
   ]
  },
  {
   "cell_type": "code",
   "execution_count": 2,
   "id": "685db9c4",
   "metadata": {},
   "outputs": [],
   "source": [
    "ages_grouped_2016 = pd.read_csv('organized_data/us_births_2016_grouped_age_counts.csv')\n",
    "ages_grouped_2017 = pd.read_csv('organized_data/us_births_2017_grouped_age_counts.csv')\n",
    "ages_grouped_2018 = pd.read_csv('organized_data/us_births_2018_grouped_age_counts.csv')\n",
    "ages_grouped_2019 = pd.read_csv('organized_data/us_births_2019_grouped_age_counts.csv')\n",
    "ages_grouped_2020 = pd.read_csv('organized_data/us_births_2020_grouped_age_counts.csv')"
   ]
  },
  {
   "cell_type": "markdown",
   "id": "4bfbe656",
   "metadata": {},
   "source": [
    "### MERGING"
   ]
  },
  {
   "cell_type": "code",
   "execution_count": 3,
   "id": "662da19b",
   "metadata": {},
   "outputs": [],
   "source": [
    "all_years_ages_grouped = pd.concat([ages_grouped_2016,ages_grouped_2017,ages_grouped_2018,ages_grouped_2019,ages_grouped_2020])"
   ]
  },
  {
   "cell_type": "code",
   "execution_count": 4,
   "id": "d2682606",
   "metadata": {},
   "outputs": [],
   "source": [
    "all_years_ages_grouped = all_years_ages_grouped.reset_index(drop=True)[['age_group_code','pct_births','year','age_group']]"
   ]
  },
  {
   "cell_type": "code",
   "execution_count": 5,
   "id": "17d35bde",
   "metadata": {},
   "outputs": [],
   "source": [
    "all_years_ages_grouped.pct_births = round((all_years_ages_grouped.pct_births * 100),2)"
   ]
  },
  {
   "cell_type": "code",
   "execution_count": 8,
   "id": "2210a432",
   "metadata": {},
   "outputs": [],
   "source": [
    "all_years_ages_grouped.to_csv('viz_tables/all_years_ages_grouped.csv')"
   ]
  },
  {
   "cell_type": "markdown",
   "id": "dffb0cba",
   "metadata": {},
   "source": [
    "### VISUALIZATIONS"
   ]
  },
  {
   "cell_type": "code",
   "execution_count": 6,
   "id": "2cfceb04",
   "metadata": {},
   "outputs": [],
   "source": [
    "import matplotlib.ticker as mtick"
   ]
  },
  {
   "cell_type": "code",
   "execution_count": 7,
   "id": "91798ebd",
   "metadata": {},
   "outputs": [
    {
     "data": {
      "text/plain": [
       "Text(0.5, 0, '')"
      ]
     },
     "execution_count": 7,
     "metadata": {},
     "output_type": "execute_result"
    },
    {
     "data": {
      "image/png": "[encoded data removed]",
      "text/plain": [
       "<Figure size 936x576 with 1 Axes>"
      ]
     },
     "metadata": {
      "needs_background": "light"
     },
     "output_type": "display_data"
    }
   ],
   "source": [
    "fig, ax = plt.subplots(figsize=(13,8))\n",
    "sns.barplot(data=all_years_ages_grouped,\n",
    "            x= 'age_group',\n",
    "            y= 'pct_births',\n",
    "            hue = 'year',\n",
    "            palette = 'colorblind')\n",
    "           #orient = 'h')\n",
    "ax.yaxis.set_major_formatter('%{x:1.0f}')\n",
    "ax.yaxis.set_major_formatter(mtick.PercentFormatter())\n",
    "plt.ylabel('Percent of Births',fontsize = 12)\n",
    "plt.xlabel('')"
   ]
  },
  {
   "cell_type": "code",
   "execution_count": null,
   "id": "dd66a263",
   "metadata": {},
   "outputs": [],
   "source": []
  }
 ],
 "metadata": {
  "kernelspec": {
   "display_name": "Python 3 (ipykernel)",
   "language": "python",
   "name": "python3"
  },
  "language_info": {
   "codemirror_mode": {
    "name": "ipython",
    "version": 3
   },
   "file_extension": ".py",
   "mimetype": "text/x-python",
   "name": "python",
   "nbconvert_exporter": "python",
   "pygments_lexer": "ipython3",
   "version": "3.9.7"
  }
 },
 "nbformat": 4,
 "nbformat_minor": 5
}
