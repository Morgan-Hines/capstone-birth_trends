{
 "cells": [
  {
   "cell_type": "code",
   "execution_count": null,
   "id": "40214b65",
   "metadata": {},
   "outputs": [],
   "source": [
    "import pandas as pd\n",
    "import matplotlib.pyplot as plt\n",
    "import seaborn as sns\n",
    "\n",
    "%matplotlib inline"
   ]
  },
  {
   "cell_type": "markdown",
   "id": "495751ce",
   "metadata": {},
   "source": [
    "### BIRTH'S 2016"
   ]
  },
  {
   "cell_type": "code",
   "execution_count": null,
   "id": "a09e2c58",
   "metadata": {},
   "outputs": [],
   "source": [
    "fi = open('data/us_births_2016.txt', 'r')"
   ]
  },
  {
   "cell_type": "code",
   "execution_count": null,
   "id": "796b9bb1",
   "metadata": {},
   "outputs": [],
   "source": [
    "row = fi.readline()"
   ]
  },
  {
   "cell_type": "code",
   "execution_count": null,
   "id": "f680187e",
   "metadata": {},
   "outputs": [],
   "source": [
    "values = [\n",
    "    (9, 12, 'dob_year'),\n",
    "    (75, 76, 'mothers_age'),\n",
    "    (79, 79, 'mothers_age_grouped'),\n",
    "    (117, 117, 'mothers_race'),\n",
    "    (120, 120, 'marital_status'),\n",
    "    (124, 124, 'mothers_education'),\n",
    "    (251, 251, 'wic')\n",
    "]"
   ]
  },
  {
   "cell_type": "code",
   "execution_count": null,
   "id": "496a9b0b",
   "metadata": {},
   "outputs": [],
   "source": [
    "results = []\n",
    "for row in fi:\n",
    "    row_values = {}\n",
    "\n",
    "    for start, stop, label in values:\n",
    "        if label != 'FILLER':\n",
    "            row_values[label] = row[start-1:stop]\n",
    "            \n",
    "    results.append(row_values)"
   ]
  },
  {
   "cell_type": "code",
   "execution_count": null,
   "id": "cb423ff3",
   "metadata": {},
   "outputs": [],
   "source": [
    "us_births_2016 = pd.DataFrame(results)"
   ]
  },
  {
   "cell_type": "code",
   "execution_count": null,
   "id": "0fa8da13",
   "metadata": {},
   "outputs": [],
   "source": [
    "fi.close()"
   ]
  },
  {
   "cell_type": "markdown",
   "id": "bca9e786",
   "metadata": {},
   "source": [
    "### Organizing DFs"
   ]
  },
  {
   "cell_type": "code",
   "execution_count": null,
   "id": "b0b1fcde",
   "metadata": {},
   "outputs": [],
   "source": [
    "us_births_2016.mothers_age = us_births_2016.mothers_age.astype(int)"
   ]
  },
  {
   "cell_type": "markdown",
   "id": "472a9f84",
   "metadata": {},
   "source": [
    "### AGE "
   ]
  },
  {
   "cell_type": "code",
   "execution_count": null,
   "id": "bdbc3104",
   "metadata": {},
   "outputs": [],
   "source": [
    "us_births_2016_age_counts = us_births_2016.mothers_age.value_counts(normalize=True).to_frame().reset_index().sort_values('index').rename(columns = {'index':'age','mothers_age':'pct_births'})"
   ]
  },
  {
   "cell_type": "code",
   "execution_count": null,
   "id": "6caa807a",
   "metadata": {},
   "outputs": [],
   "source": [
    "us_births_2016_age_counts['year'] = 2016"
   ]
  },
  {
   "cell_type": "code",
   "execution_count": null,
   "id": "b03a7fd2",
   "metadata": {},
   "outputs": [],
   "source": [
    "us_births_2016_age_counts.to_csv('organized_data/us_births_2016_age_counts.csv')"
   ]
  },
  {
   "cell_type": "code",
   "execution_count": null,
   "id": "4897a7ca",
   "metadata": {},
   "outputs": [],
   "source": [
    "us_births_2016_grouped_age_counts = us_births_2016.mothers_age_grouped.value_counts(normalize=True).to_frame().reset_index().sort_values('index').rename(columns = {'index':'age_group_code','mothers_age_grouped':'pct_births'})"
   ]
  },
  {
   "cell_type": "code",
   "execution_count": null,
   "id": "1da3c084",
   "metadata": {},
   "outputs": [],
   "source": [
    "us_births_2016_grouped_age_counts['year'] = 2016"
   ]
  },
  {
   "cell_type": "code",
   "execution_count": null,
   "id": "25041e34",
   "metadata": {},
   "outputs": [],
   "source": [
    "for index, row in us_births_2016_grouped_age_counts.iterrows():\n",
    "    if row.age_group_code == \"1\":\n",
    "        us_births_2016_grouped_age_counts.loc[index, 'age_group'] = 'Under 15 years'\n",
    "    elif row.age_group_code == \"2\":\n",
    "        us_births_2016_grouped_age_counts.loc[index, 'age_group'] = '15-19 years'\n",
    "    elif row.age_group_code == \"3\":\n",
    "        us_births_2016_grouped_age_counts.loc[index, 'age_group'] = '20-24 years'\n",
    "    elif row.age_group_code == \"4\":\n",
    "        us_births_2016_grouped_age_counts.loc[index, 'age_group'] = '25-29 years'\n",
    "    elif row.age_group_code == \"5\":\n",
    "        us_births_2016_grouped_age_counts.loc[index, 'age_group'] = '30-34 years'\n",
    "    elif row.age_group_code == \"6\":\n",
    "        us_births_2016_grouped_age_counts.loc[index, 'age_group'] = '35-39 years'\n",
    "    elif row.age_group_code == \"7\":\n",
    "        us_births_2016_grouped_age_counts.loc[index, 'age_group'] = '40-44 years'\n",
    "    elif row.age_group_code == \"8\":\n",
    "        us_births_2016_grouped_age_counts.loc[index, 'age_group'] = '45-49 years'\n",
    "    elif row.age_group_code == \"9\":\n",
    "        us_births_2016_grouped_age_counts.loc[index, 'age_group'] = '50-54 years'"
   ]
  },
  {
   "cell_type": "code",
   "execution_count": null,
   "id": "7a4380be",
   "metadata": {},
   "outputs": [],
   "source": [
    "us_births_2016_grouped_age_counts.to_csv('organized_data/us_births_2016_grouped_age_counts.csv')"
   ]
  },
  {
   "cell_type": "markdown",
   "id": "4bb9ab84",
   "metadata": {},
   "source": [
    "### EDUCATION"
   ]
  },
  {
   "cell_type": "code",
   "execution_count": null,
   "id": "2014fbb1",
   "metadata": {},
   "outputs": [],
   "source": [
    "us_births_2016_ed_counts = us_births_2016.mothers_education.value_counts(normalize=True).to_frame().reset_index().sort_values('index').head(8).rename(columns = {'index':'ed_code','mothers_education':'pct_births'})"
   ]
  },
  {
   "cell_type": "code",
   "execution_count": null,
   "id": "8200b70f",
   "metadata": {},
   "outputs": [],
   "source": [
    "us_births_2016_ed_counts['year'] = 2016"
   ]
  },
  {
   "cell_type": "code",
   "execution_count": null,
   "id": "ff13bb0a",
   "metadata": {},
   "outputs": [],
   "source": [
    "for index, row in us_births_2016_ed_counts.iterrows():\n",
    "    if row.ed_code == \"1\":\n",
    "        us_births_2016_ed_counts.loc[index, 'age_group'] = '8th grade or less'\n",
    "    elif row.ed_code == \"2\":\n",
    "        us_births_2016_ed_counts.loc[index, 'age_group'] = '9th through 12th grade with no diploma'\n",
    "    elif row.ed_code == \"3\":\n",
    "        us_births_2016_ed_counts.loc[index, 'age_group'] = 'High school graduate or GED completed'\n",
    "    elif row.ed_code == \"4\":\n",
    "        us_births_2016_ed_counts.loc[index, 'age_group'] = 'Some college credit, but not a degree'\n",
    "    elif row.ed_code == \"5\":\n",
    "        us_births_2016_ed_counts.loc[index, 'age_group'] = 'Associate degree (AA,AS)'\n",
    "    elif row.ed_code == \"6\":\n",
    "        us_births_2016_ed_counts.loc[index, 'age_group'] = 'Bachelor’s degree (BA, AB, BS)'\n",
    "    elif row.ed_code == \"7\":\n",
    "        us_births_2016_ed_counts.loc[index, 'age_group'] = 'Master’s degree (MA, MS, MEng, MEd, MSW, MBA)'\n",
    "    elif row.ed_code == \"8\":\n",
    "        us_births_2016_ed_counts.loc[index, 'age_group'] = 'Doctorate (PhD, EdD) or Professional Degree (MD, DDS,DVM, LLB, JD)'"
   ]
  },
  {
   "cell_type": "code",
   "execution_count": null,
   "id": "b4c55d22",
   "metadata": {},
   "outputs": [],
   "source": [
    "us_births_2016_ed_counts.to_csv('organized_data/us_births_2016_ed_counts.csv')"
   ]
  },
  {
   "cell_type": "markdown",
   "id": "7e0e5b3b",
   "metadata": {},
   "source": [
    "### WIC"
   ]
  },
  {
   "cell_type": "code",
   "execution_count": null,
   "id": "f00a4806",
   "metadata": {},
   "outputs": [],
   "source": [
    "us_births_2016_wic_counts = us_births_2016.wic.value_counts(normalize=True).head(2).to_frame().reset_index().rename(columns = {'index':'wic','wic':'pct_births'})"
   ]
  },
  {
   "cell_type": "code",
   "execution_count": null,
   "id": "48045781",
   "metadata": {},
   "outputs": [],
   "source": [
    "us_births_2016_wic_counts['year']=2016"
   ]
  },
  {
   "cell_type": "code",
   "execution_count": null,
   "id": "7b806320",
   "metadata": {},
   "outputs": [],
   "source": [
    "us_births_2016_wic_counts.to_csv('organized_data/us_births_2016_wic_counts.csv')"
   ]
  },
  {
   "cell_type": "markdown",
   "id": "a5aa10ca",
   "metadata": {},
   "source": [
    "### DEMO"
   ]
  },
  {
   "cell_type": "code",
   "execution_count": null,
   "id": "f8d7388e",
   "metadata": {},
   "outputs": [],
   "source": [
    "us_births_2016_demo_counts = us_births_2016.mothers_race.value_counts(normalize=True).to_frame().reset_index().rename(columns = {'index':'demo_code','mothers_race':'pct_births'})"
   ]
  },
  {
   "cell_type": "code",
   "execution_count": null,
   "id": "302f1108",
   "metadata": {},
   "outputs": [],
   "source": [
    "for index, row in us_births_2016_demo_counts.iterrows():\n",
    "    if row.demo_code == \"1\":\n",
    "        us_births_2016_demo_counts.loc[index, 'demo'] = 'White'\n",
    "    elif row.demo_code == \"2\":\n",
    "        us_births_2016_demo_counts.loc[index, 'demo'] = 'Black or African American'\n",
    "    elif row.demo_code == \"3\":\n",
    "        us_births_2016_demo_counts.loc[index, 'demo'] = 'AIAN'\n",
    "    elif row.demo_code == \"4\":\n",
    "        us_births_2016_demo_counts.loc[index, 'demo'] = 'Asian'\n",
    "    elif row.demo_code == \"5\":\n",
    "        us_births_2016_demo_counts.loc[index, 'demo'] = 'NHOPI'\n",
    "    elif row.demo_code == \"6\":\n",
    "        us_births_2016_demo_counts.loc[index, 'demo'] = 'More than one race'\n",
    "    elif row.demo_code == \"7\":\n",
    "        us_births_2016_demo_counts.loc[index, 'demo'] = 'Hispanic'\n",
    "    elif row.demo_code == \"8\":\n",
    "        us_births_2016_demo_counts.loc[index, 'demo'] = 'Unknown/Not Stated'"
   ]
  },
  {
   "cell_type": "code",
   "execution_count": null,
   "id": "a9598aac",
   "metadata": {},
   "outputs": [],
   "source": [
    "us_births_2016_demo_counts['year']=2016"
   ]
  },
  {
   "cell_type": "code",
   "execution_count": null,
   "id": "a6fbe7ad",
   "metadata": {},
   "outputs": [],
   "source": [
    "us_births_2016_demo_birth_count = us_births_2016.mothers_race.value_counts().to_frame().reset_index().rename(columns = {'index':'demo_code','mothers_race':'births_count'})"
   ]
  },
  {
   "cell_type": "code",
   "execution_count": null,
   "id": "d7cfba30",
   "metadata": {},
   "outputs": [],
   "source": [
    "us_births_2016_demo_counts = pd.merge(us_births_2016_demo_birth_count,us_births_2016_demo_counts, on='demo_code', how='inner')"
   ]
  },
  {
   "cell_type": "code",
   "execution_count": null,
   "id": "efaf4ebf",
   "metadata": {},
   "outputs": [],
   "source": [
    "us_births_2016_demo_counts.to_csv('organized_data/us_births_2016_demo_counts.csv')"
   ]
  },
  {
   "cell_type": "markdown",
   "id": "06f07540",
   "metadata": {},
   "source": [
    "### MARITAL STATUS"
   ]
  },
  {
   "cell_type": "code",
   "execution_count": null,
   "id": "59e02c43",
   "metadata": {},
   "outputs": [],
   "source": [
    "us_births_2016_marital_status = us_births_2016.marital_status.value_counts(normalize=True).reset_index().rename(columns = {'index':'status_code','marital_status':'pct_births'})"
   ]
  },
  {
   "cell_type": "code",
   "execution_count": null,
   "id": "266b6914",
   "metadata": {},
   "outputs": [],
   "source": [
    "for index, row in us_births_2016_marital_status.iterrows():\n",
    "    if row.status_code == \"1\":\n",
    "        us_births_2016_marital_status.loc[index, 'demo'] = 'Married'\n",
    "    elif row.status_code == \"2\":\n",
    "        us_births_2016_marital_status.loc[index, 'demo'] = 'Unmarried'"
   ]
  },
  {
   "cell_type": "code",
   "execution_count": null,
   "id": "33a12540",
   "metadata": {},
   "outputs": [],
   "source": [
    "us_births_2016_marital_status['year']=2016"
   ]
  },
  {
   "cell_type": "code",
   "execution_count": null,
   "id": "89df29ca",
   "metadata": {},
   "outputs": [],
   "source": [
    "us_births_2016_marital_status.to_csv('organized_data/us_births_2016_marital_status.csv')"
   ]
  }
 ],
 "metadata": {
  "kernelspec": {
   "display_name": "Python 3 (ipykernel)",
   "language": "python",
   "name": "python3"
  },
  "language_info": {
   "codemirror_mode": {
    "name": "ipython",
    "version": 3
   },
   "file_extension": ".py",
   "mimetype": "text/x-python",
   "name": "python",
   "nbconvert_exporter": "python",
   "pygments_lexer": "ipython3",
   "version": "3.9.7"
  }
 },
 "nbformat": 4,
 "nbformat_minor": 5
}
