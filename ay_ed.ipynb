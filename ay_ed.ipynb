{
 "cells": [
  {
   "cell_type": "code",
   "execution_count": 1,
   "id": "76d51b1d",
   "metadata": {},
   "outputs": [],
   "source": [
    "import pandas as pd\n",
    "import matplotlib.pyplot as plt\n",
    "import seaborn as sns\n",
    "\n",
    "%matplotlib inline"
   ]
  },
  {
   "cell_type": "markdown",
   "id": "6f74417a",
   "metadata": {},
   "source": [
    "### PULLING IN TABLES"
   ]
  },
  {
   "cell_type": "code",
   "execution_count": 2,
   "id": "8926da67",
   "metadata": {},
   "outputs": [],
   "source": [
    "ed_2016 = pd.read_csv('organized_data/us_births_2016_ed_counts.csv')\n",
    "ed_2017 = pd.read_csv('organized_data/us_births_2017_ed_counts.csv')\n",
    "ed_2018 = pd.read_csv('organized_data/us_births_2018_ed_counts.csv')\n",
    "ed_2019 = pd.read_csv('organized_data/us_births_2019_ed_counts.csv')\n",
    "ed_2020 = pd.read_csv('organized_data/us_births_2020_ed_counts.csv')"
   ]
  },
  {
   "cell_type": "code",
   "execution_count": 3,
   "id": "b34fe692",
   "metadata": {},
   "outputs": [],
   "source": [
    "education_2016 = pd.read_csv('actual_data/education_2016.csv')\n",
    "education_2017 = pd.read_csv('actual_data/education_2017.csv')\n",
    "education_2018 = pd.read_csv('actual_data/education_2018.csv')\n",
    "education_2019 = pd.read_csv('actual_data/education_2019.csv')\n",
    "education_2020 = pd.read_csv('actual_data/education_2020.csv')"
   ]
  },
  {
   "cell_type": "markdown",
   "id": "4f362c3d",
   "metadata": {},
   "source": [
    "### CLEANING CENSUS DATA"
   ]
  },
  {
   "cell_type": "code",
   "execution_count": 4,
   "id": "3ecd3ad0",
   "metadata": {},
   "outputs": [],
   "source": [
    "education_2016 = education_2016.tail(41).reset_index(drop=True)\n",
    "education_2017 = education_2017.tail(41).reset_index(drop=True)\n",
    "education_2018 = education_2018.tail(41).reset_index(drop=True)\n",
    "education_2019 = education_2019.tail(41).reset_index(drop=True)\n",
    "education_2020 = education_2020.tail(41).reset_index(drop=True)"
   ]
  },
  {
   "cell_type": "code",
   "execution_count": 5,
   "id": "aa1109d6",
   "metadata": {},
   "outputs": [],
   "source": [
    "education_2016['United States!!Estimate']=education_2016['United States!!Estimate'].str.replace(',','').astype(int)\n",
    "education_2017['United States!!Estimate']=education_2017['United States!!Estimate'].str.replace(',','').astype(int)\n",
    "education_2018['United States!!Estimate']=education_2018['United States!!Estimate'].str.replace(',','').astype(int)\n",
    "education_2019['United States!!Estimate']=education_2019['United States!!Estimate'].str.replace(',','').astype(int)\n",
    "education_2020['United States!!Estimate']=education_2020['United States!!Estimate'].str.replace(',','').astype(int)"
   ]
  },
  {
   "cell_type": "code",
   "execution_count": 6,
   "id": "2a89e0c4",
   "metadata": {},
   "outputs": [],
   "source": [
    "education_2016 = education_2016.rename(columns = {'Label (Grouping)': 'ed_level','United States!!Estimate':'us_total'})\n",
    "education_2017 = education_2017.rename(columns = {'Label (Grouping)': 'ed_level','United States!!Estimate':'us_total'})\n",
    "education_2018 = education_2018.rename(columns = {'Label (Grouping)': 'ed_level','United States!!Estimate':'us_total'})\n",
    "education_2019 = education_2019.rename(columns = {'Label (Grouping)': 'ed_level','United States!!Estimate':'us_total'})\n",
    "education_2020 = education_2020.rename(columns = {'Label (Grouping)': 'ed_level','United States!!Estimate':'us_total'})"
   ]
  },
  {
   "cell_type": "code",
   "execution_count": 7,
   "id": "8f7bb874",
   "metadata": {},
   "outputs": [],
   "source": [
    "education_2016.ed_level = education_2016.ed_level.str.strip()\n",
    "education_2017.ed_level = education_2017.ed_level.str.strip()\n",
    "education_2018.ed_level = education_2018.ed_level.str.strip()\n",
    "education_2019.ed_level = education_2019.ed_level.str.strip()\n",
    "education_2020.ed_level = education_2020.ed_level.str.strip()"
   ]
  },
  {
   "cell_type": "markdown",
   "id": "33027e01",
   "metadata": {},
   "source": [
    "### CALCS"
   ]
  },
  {
   "cell_type": "code",
   "execution_count": 8,
   "id": "d6b56352",
   "metadata": {
    "scrolled": false
   },
   "outputs": [],
   "source": [
    "education_levels_2016 = education_2016.groupby('ed_level')['us_total'].sum().tail(8).to_frame().reset_index().drop(index=[3]).reset_index(drop=True)"
   ]
  },
  {
   "cell_type": "code",
   "execution_count": 9,
   "id": "2d4bd6c4",
   "metadata": {},
   "outputs": [],
   "source": [
    "education_levels_2017 = education_2017.groupby('ed_level')['us_total'].sum().tail(8).to_frame().reset_index().drop(index=[3]).reset_index(drop=True)"
   ]
  },
  {
   "cell_type": "code",
   "execution_count": 10,
   "id": "50c560f5",
   "metadata": {},
   "outputs": [],
   "source": [
    "education_levels_2018 = education_2018.groupby('ed_level')['us_total'].sum().tail(8).to_frame().reset_index().drop(index=[3]).reset_index(drop=True)"
   ]
  },
  {
   "cell_type": "code",
   "execution_count": 11,
   "id": "31178c17",
   "metadata": {},
   "outputs": [],
   "source": [
    "education_levels_2019 = education_2019.groupby('ed_level')['us_total'].sum().tail(8).to_frame().reset_index().drop(index=[3]).reset_index(drop=True)"
   ]
  },
  {
   "cell_type": "code",
   "execution_count": 12,
   "id": "1eaab769",
   "metadata": {},
   "outputs": [],
   "source": [
    "education_levels_2020 = education_2020.groupby('ed_level')['us_total'].sum().tail(8).to_frame().reset_index().drop(index=[3]).reset_index(drop=True)"
   ]
  },
  {
   "cell_type": "code",
   "execution_count": 13,
   "id": "0e6631c3",
   "metadata": {},
   "outputs": [],
   "source": [
    "education_levels_2016['year'] = 2016\n",
    "education_levels_2017['year'] = 2017\n",
    "education_levels_2018['year'] = 2018\n",
    "education_levels_2019['year'] = 2019\n",
    "education_levels_2020['year'] = 2020"
   ]
  },
  {
   "cell_type": "code",
   "execution_count": 14,
   "id": "bd18c55e",
   "metadata": {},
   "outputs": [],
   "source": [
    "education_levels_2016['female_pop'] = education_2016.us_total[0]\n",
    "education_levels_2017['female_pop'] = education_2017.us_total[0]\n",
    "education_levels_2018['female_pop'] = education_2018.us_total[0]\n",
    "education_levels_2019['female_pop'] = education_2019.us_total[0]\n",
    "education_levels_2020['female_pop'] = education_2020.us_total[0]"
   ]
  },
  {
   "cell_type": "code",
   "execution_count": 15,
   "id": "bd68904c",
   "metadata": {},
   "outputs": [],
   "source": [
    "education_levels_2016['pct_of_females_over_18'] = round(((education_levels_2016.us_total / education_levels_2016.female_pop)*100),2)\n",
    "education_levels_2017['pct_of_females_over_18'] = round(((education_levels_2017.us_total / education_levels_2017.female_pop)*100),2)\n",
    "education_levels_2018['pct_of_females_over_18'] = round(((education_levels_2018.us_total / education_levels_2018.female_pop)*100),2)\n",
    "education_levels_2019['pct_of_females_over_18'] = round(((education_levels_2019.us_total / education_levels_2019.female_pop)*100),2)\n",
    "education_levels_2020['pct_of_females_over_18'] = round(((education_levels_2020.us_total / education_levels_2020.female_pop)*100),2)"
   ]
  },
  {
   "cell_type": "markdown",
   "id": "6ddf1bad",
   "metadata": {},
   "source": [
    "### MERGING"
   ]
  },
  {
   "cell_type": "code",
   "execution_count": 16,
   "id": "51059376",
   "metadata": {},
   "outputs": [],
   "source": [
    "all_year_ed = pd.concat([ed_2016,ed_2017,ed_2018,ed_2019,ed_2020]).reset_index(drop=True)[['ed_code','pct_births','year','age_group']]"
   ]
  },
  {
   "cell_type": "code",
   "execution_count": 17,
   "id": "378003bb",
   "metadata": {},
   "outputs": [],
   "source": [
    "all_year_ed = all_year_ed.rename(columns = {'age_group':'ed_level'})"
   ]
  },
  {
   "cell_type": "code",
   "execution_count": 18,
   "id": "ab47c8ea",
   "metadata": {},
   "outputs": [],
   "source": [
    "all_year_ed.pct_births = round((all_year_ed.pct_births * 100),2)"
   ]
  },
  {
   "cell_type": "code",
   "execution_count": 19,
   "id": "9d86ef32",
   "metadata": {},
   "outputs": [],
   "source": [
    "ay_ed_levels = pd.concat([education_levels_2016,education_levels_2017,education_levels_2018,education_levels_2019,education_levels_2020])"
   ]
  },
  {
   "cell_type": "markdown",
   "id": "465dd21e",
   "metadata": {},
   "source": [
    "### VISUALIZATIONS"
   ]
  },
  {
   "cell_type": "code",
   "execution_count": 20,
   "id": "aefdba96",
   "metadata": {},
   "outputs": [],
   "source": [
    "import matplotlib.ticker as mtick"
   ]
  },
  {
   "cell_type": "code",
   "execution_count": 21,
   "id": "b2ae9b76",
   "metadata": {},
   "outputs": [
    {
     "data": {
      "text/plain": [
       "(array([0, 1, 2, 3, 4, 5, 6, 7]),\n",
       " [Text(0, 0, '8th grade or less'),\n",
       "  Text(0, 1, '9th through 12th grade with no diploma'),\n",
       "  Text(0, 2, 'High school graduate or GED completed'),\n",
       "  Text(0, 3, 'Some college credit, but not a degree'),\n",
       "  Text(0, 4, 'Associate degree (AA,AS)'),\n",
       "  Text(0, 5, 'Bachelor’s degree (BA, AB, BS)'),\n",
       "  Text(0, 6, 'Master’s degree (MA, MS, MEng, MEd, MSW, MBA)'),\n",
       "  Text(0, 7, 'Doctorate (PhD, EdD) or Professional Degree (MD, DDS,DVM, LLB, JD)')])"
      ]
     },
     "execution_count": 21,
     "metadata": {},
     "output_type": "execute_result"
    },
    {
     "data": {
      "image/png": "[encoded data removed]",
      "text/plain": [
       "<Figure size 1080x648 with 1 Axes>"
      ]
     },
     "metadata": {
      "needs_background": "light"
     },
     "output_type": "display_data"
    }
   ],
   "source": [
    "fig, ax = plt.subplots(figsize=(15,9))\n",
    "sns.barplot(data=all_year_ed,\n",
    "            y= 'ed_level',\n",
    "            x= 'pct_births',\n",
    "            hue = 'year',\n",
    "            palette = 'colorblind')\n",
    "ax.xaxis.set_major_formatter('%{x:1f}')\n",
    "ax.xaxis.set_major_formatter(mtick.PercentFormatter())\n",
    "plt.xlabel('Percent of Births',fontsize = 18)\n",
    "plt.ylabel('')\n",
    "plt.xticks(fontsize = 15)\n",
    "plt.yticks(fontsize = 15)"
   ]
  },
  {
   "cell_type": "code",
   "execution_count": 22,
   "id": "af6c051b",
   "metadata": {},
   "outputs": [],
   "source": [
    "ay_ed_levels.ed_level = ay_ed_levels.ed_level.str.replace('Less than 9th grade','8th grade or less')"
   ]
  },
  {
   "cell_type": "code",
   "execution_count": 23,
   "id": "23feade5",
   "metadata": {},
   "outputs": [],
   "source": [
    "ed_order = ['8th grade or less','9th to 12th grade, no diploma','High school graduate (includes equivalency)','Some college, no degree',\n",
    "           \"Associate's degree\",\"Bachelor's degree\",'Graduate or professional degree']"
   ]
  },
  {
   "cell_type": "code",
   "execution_count": 24,
   "id": "0ec3b3b7",
   "metadata": {},
   "outputs": [
    {
     "data": {
      "text/plain": [
       "(array([0, 1, 2, 3, 4, 5, 6]),\n",
       " [Text(0, 0, '8th grade or less'),\n",
       "  Text(0, 1, '9th to 12th grade, no diploma'),\n",
       "  Text(0, 2, 'High school graduate (includes equivalency)'),\n",
       "  Text(0, 3, 'Some college, no degree'),\n",
       "  Text(0, 4, \"Associate's degree\"),\n",
       "  Text(0, 5, \"Bachelor's degree\"),\n",
       "  Text(0, 6, 'Graduate or professional degree')])"
      ]
     },
     "execution_count": 24,
     "metadata": {},
     "output_type": "execute_result"
    },
    {
     "data": {
      "image/png": "[encoded data removed]",
      "text/plain": [
       "<Figure size 1080x648 with 1 Axes>"
      ]
     },
     "metadata": {
      "needs_background": "light"
     },
     "output_type": "display_data"
    }
   ],
   "source": [
    "fig, ax = plt.subplots(figsize=(15,9))\n",
    "sns.barplot(data=ay_ed_levels,\n",
    "            y= 'ed_level',\n",
    "            x= 'pct_of_females_over_18',\n",
    "            hue = 'year',\n",
    "            palette = 'colorblind',\n",
    "            orient = 'h',\n",
    "            order = ed_order)\n",
    "ax.xaxis.set_major_formatter('%{x:1f}')\n",
    "ax.xaxis.set_major_formatter(mtick.PercentFormatter())\n",
    "\n",
    "plt.xlabel('Percent of Female Population (Over 18)',fontsize = 18)\n",
    "plt.ylabel('')\n",
    "plt.xticks(fontsize = 15)\n",
    "plt.yticks(fontsize = 15)"
   ]
  },
  {
   "cell_type": "code",
   "execution_count": 25,
   "id": "20c7b06d",
   "metadata": {},
   "outputs": [],
   "source": [
    "all_year_ed.to_csv('viz_tables/all_year_ed.csv')"
   ]
  },
  {
   "cell_type": "code",
   "execution_count": 26,
   "id": "0e04fefb",
   "metadata": {},
   "outputs": [],
   "source": [
    "ay_ed_levels.to_csv('viz_tables/ay_ed_levels.csv')"
   ]
  },
  {
   "cell_type": "code",
   "execution_count": 27,
   "id": "fdd1a8e6",
   "metadata": {},
   "outputs": [
    {
     "data": {
      "text/html": [
       "<div>\n",
       "<style scoped>\n",
       "    .dataframe tbody tr th:only-of-type {\n",
       "        vertical-align: middle;\n",
       "    }\n",
       "\n",
       "    .dataframe tbody tr th {\n",
       "        vertical-align: top;\n",
       "    }\n",
       "\n",
       "    .dataframe thead th {\n",
       "        text-align: right;\n",
       "    }\n",
       "</style>\n",
       "<table border=\"1\" class=\"dataframe\">\n",
       "  <thead>\n",
       "    <tr style=\"text-align: right;\">\n",
       "      <th></th>\n",
       "      <th>ed_code</th>\n",
       "      <th>pct_births</th>\n",
       "      <th>year</th>\n",
       "      <th>ed_level</th>\n",
       "    </tr>\n",
       "  </thead>\n",
       "  <tbody>\n",
       "    <tr>\n",
       "      <th>0</th>\n",
       "      <td>1</td>\n",
       "      <td>3.35</td>\n",
       "      <td>2016</td>\n",
       "      <td>8th grade or less</td>\n",
       "    </tr>\n",
       "    <tr>\n",
       "      <th>1</th>\n",
       "      <td>2</td>\n",
       "      <td>10.30</td>\n",
       "      <td>2016</td>\n",
       "      <td>9th through 12th grade with no diploma</td>\n",
       "    </tr>\n",
       "    <tr>\n",
       "      <th>2</th>\n",
       "      <td>3</td>\n",
       "      <td>24.81</td>\n",
       "      <td>2016</td>\n",
       "      <td>High school graduate or GED completed</td>\n",
       "    </tr>\n",
       "    <tr>\n",
       "      <th>3</th>\n",
       "      <td>4</td>\n",
       "      <td>20.45</td>\n",
       "      <td>2016</td>\n",
       "      <td>Some college credit, but not a degree</td>\n",
       "    </tr>\n",
       "    <tr>\n",
       "      <th>4</th>\n",
       "      <td>5</td>\n",
       "      <td>8.16</td>\n",
       "      <td>2016</td>\n",
       "      <td>Associate degree (AA,AS)</td>\n",
       "    </tr>\n",
       "    <tr>\n",
       "      <th>5</th>\n",
       "      <td>6</td>\n",
       "      <td>19.93</td>\n",
       "      <td>2016</td>\n",
       "      <td>Bachelor’s degree (BA, AB, BS)</td>\n",
       "    </tr>\n",
       "    <tr>\n",
       "      <th>6</th>\n",
       "      <td>7</td>\n",
       "      <td>9.10</td>\n",
       "      <td>2016</td>\n",
       "      <td>Master’s degree (MA, MS, MEng, MEd, MSW, MBA)</td>\n",
       "    </tr>\n",
       "    <tr>\n",
       "      <th>7</th>\n",
       "      <td>8</td>\n",
       "      <td>2.60</td>\n",
       "      <td>2016</td>\n",
       "      <td>Doctorate (PhD, EdD) or Professional Degree (M...</td>\n",
       "    </tr>\n",
       "    <tr>\n",
       "      <th>8</th>\n",
       "      <td>1</td>\n",
       "      <td>3.23</td>\n",
       "      <td>2017</td>\n",
       "      <td>8th grade or less</td>\n",
       "    </tr>\n",
       "    <tr>\n",
       "      <th>9</th>\n",
       "      <td>2</td>\n",
       "      <td>9.88</td>\n",
       "      <td>2017</td>\n",
       "      <td>9th through 12th grade with no diploma</td>\n",
       "    </tr>\n",
       "    <tr>\n",
       "      <th>10</th>\n",
       "      <td>3</td>\n",
       "      <td>25.21</td>\n",
       "      <td>2017</td>\n",
       "      <td>High school graduate or GED completed</td>\n",
       "    </tr>\n",
       "    <tr>\n",
       "      <th>11</th>\n",
       "      <td>4</td>\n",
       "      <td>20.22</td>\n",
       "      <td>2017</td>\n",
       "      <td>Some college credit, but not a degree</td>\n",
       "    </tr>\n",
       "    <tr>\n",
       "      <th>12</th>\n",
       "      <td>5</td>\n",
       "      <td>8.20</td>\n",
       "      <td>2017</td>\n",
       "      <td>Associate degree (AA,AS)</td>\n",
       "    </tr>\n",
       "    <tr>\n",
       "      <th>13</th>\n",
       "      <td>6</td>\n",
       "      <td>20.10</td>\n",
       "      <td>2017</td>\n",
       "      <td>Bachelor’s degree (BA, AB, BS)</td>\n",
       "    </tr>\n",
       "    <tr>\n",
       "      <th>14</th>\n",
       "      <td>7</td>\n",
       "      <td>9.20</td>\n",
       "      <td>2017</td>\n",
       "      <td>Master’s degree (MA, MS, MEng, MEd, MSW, MBA)</td>\n",
       "    </tr>\n",
       "    <tr>\n",
       "      <th>15</th>\n",
       "      <td>8</td>\n",
       "      <td>2.66</td>\n",
       "      <td>2017</td>\n",
       "      <td>Doctorate (PhD, EdD) or Professional Degree (M...</td>\n",
       "    </tr>\n",
       "    <tr>\n",
       "      <th>16</th>\n",
       "      <td>1</td>\n",
       "      <td>3.11</td>\n",
       "      <td>2018</td>\n",
       "      <td>8th grade or less</td>\n",
       "    </tr>\n",
       "    <tr>\n",
       "      <th>17</th>\n",
       "      <td>2</td>\n",
       "      <td>9.44</td>\n",
       "      <td>2018</td>\n",
       "      <td>9th through 12th grade with no diploma</td>\n",
       "    </tr>\n",
       "    <tr>\n",
       "      <th>18</th>\n",
       "      <td>3</td>\n",
       "      <td>25.47</td>\n",
       "      <td>2018</td>\n",
       "      <td>High school graduate or GED completed</td>\n",
       "    </tr>\n",
       "    <tr>\n",
       "      <th>19</th>\n",
       "      <td>4</td>\n",
       "      <td>19.79</td>\n",
       "      <td>2018</td>\n",
       "      <td>Some college credit, but not a degree</td>\n",
       "    </tr>\n",
       "    <tr>\n",
       "      <th>20</th>\n",
       "      <td>5</td>\n",
       "      <td>8.27</td>\n",
       "      <td>2018</td>\n",
       "      <td>Associate degree (AA,AS)</td>\n",
       "    </tr>\n",
       "    <tr>\n",
       "      <th>21</th>\n",
       "      <td>6</td>\n",
       "      <td>20.44</td>\n",
       "      <td>2018</td>\n",
       "      <td>Bachelor’s degree (BA, AB, BS)</td>\n",
       "    </tr>\n",
       "    <tr>\n",
       "      <th>22</th>\n",
       "      <td>7</td>\n",
       "      <td>9.44</td>\n",
       "      <td>2018</td>\n",
       "      <td>Master’s degree (MA, MS, MEng, MEd, MSW, MBA)</td>\n",
       "    </tr>\n",
       "    <tr>\n",
       "      <th>23</th>\n",
       "      <td>8</td>\n",
       "      <td>2.75</td>\n",
       "      <td>2018</td>\n",
       "      <td>Doctorate (PhD, EdD) or Professional Degree (M...</td>\n",
       "    </tr>\n",
       "    <tr>\n",
       "      <th>24</th>\n",
       "      <td>1</td>\n",
       "      <td>3.09</td>\n",
       "      <td>2019</td>\n",
       "      <td>8th grade or less</td>\n",
       "    </tr>\n",
       "    <tr>\n",
       "      <th>25</th>\n",
       "      <td>2</td>\n",
       "      <td>9.00</td>\n",
       "      <td>2019</td>\n",
       "      <td>9th through 12th grade with no diploma</td>\n",
       "    </tr>\n",
       "    <tr>\n",
       "      <th>26</th>\n",
       "      <td>3</td>\n",
       "      <td>25.74</td>\n",
       "      <td>2019</td>\n",
       "      <td>High school graduate or GED completed</td>\n",
       "    </tr>\n",
       "    <tr>\n",
       "      <th>27</th>\n",
       "      <td>4</td>\n",
       "      <td>19.43</td>\n",
       "      <td>2019</td>\n",
       "      <td>Some college credit, but not a degree</td>\n",
       "    </tr>\n",
       "    <tr>\n",
       "      <th>28</th>\n",
       "      <td>5</td>\n",
       "      <td>8.26</td>\n",
       "      <td>2019</td>\n",
       "      <td>Associate degree (AA,AS)</td>\n",
       "    </tr>\n",
       "    <tr>\n",
       "      <th>29</th>\n",
       "      <td>6</td>\n",
       "      <td>20.63</td>\n",
       "      <td>2019</td>\n",
       "      <td>Bachelor’s degree (BA, AB, BS)</td>\n",
       "    </tr>\n",
       "    <tr>\n",
       "      <th>30</th>\n",
       "      <td>7</td>\n",
       "      <td>9.61</td>\n",
       "      <td>2019</td>\n",
       "      <td>Master’s degree (MA, MS, MEng, MEd, MSW, MBA)</td>\n",
       "    </tr>\n",
       "    <tr>\n",
       "      <th>31</th>\n",
       "      <td>8</td>\n",
       "      <td>2.79</td>\n",
       "      <td>2019</td>\n",
       "      <td>Doctorate (PhD, EdD) or Professional Degree (M...</td>\n",
       "    </tr>\n",
       "    <tr>\n",
       "      <th>32</th>\n",
       "      <td>1</td>\n",
       "      <td>3.06</td>\n",
       "      <td>2020</td>\n",
       "      <td>8th grade or less</td>\n",
       "    </tr>\n",
       "    <tr>\n",
       "      <th>33</th>\n",
       "      <td>2</td>\n",
       "      <td>8.64</td>\n",
       "      <td>2020</td>\n",
       "      <td>9th through 12th grade with no diploma</td>\n",
       "    </tr>\n",
       "    <tr>\n",
       "      <th>34</th>\n",
       "      <td>3</td>\n",
       "      <td>26.13</td>\n",
       "      <td>2020</td>\n",
       "      <td>High school graduate or GED completed</td>\n",
       "    </tr>\n",
       "    <tr>\n",
       "      <th>35</th>\n",
       "      <td>4</td>\n",
       "      <td>18.96</td>\n",
       "      <td>2020</td>\n",
       "      <td>Some college credit, but not a degree</td>\n",
       "    </tr>\n",
       "    <tr>\n",
       "      <th>36</th>\n",
       "      <td>5</td>\n",
       "      <td>8.28</td>\n",
       "      <td>2020</td>\n",
       "      <td>Associate degree (AA,AS)</td>\n",
       "    </tr>\n",
       "    <tr>\n",
       "      <th>37</th>\n",
       "      <td>6</td>\n",
       "      <td>20.87</td>\n",
       "      <td>2020</td>\n",
       "      <td>Bachelor’s degree (BA, AB, BS)</td>\n",
       "    </tr>\n",
       "    <tr>\n",
       "      <th>38</th>\n",
       "      <td>7</td>\n",
       "      <td>9.76</td>\n",
       "      <td>2020</td>\n",
       "      <td>Master’s degree (MA, MS, MEng, MEd, MSW, MBA)</td>\n",
       "    </tr>\n",
       "    <tr>\n",
       "      <th>39</th>\n",
       "      <td>8</td>\n",
       "      <td>2.86</td>\n",
       "      <td>2020</td>\n",
       "      <td>Doctorate (PhD, EdD) or Professional Degree (M...</td>\n",
       "    </tr>\n",
       "  </tbody>\n",
       "</table>\n",
       "</div>"
      ],
      "text/plain": [
       "    ed_code  pct_births  year  \\\n",
       "0         1        3.35  2016   \n",
       "1         2       10.30  2016   \n",
       "2         3       24.81  2016   \n",
       "3         4       20.45  2016   \n",
       "4         5        8.16  2016   \n",
       "5         6       19.93  2016   \n",
       "6         7        9.10  2016   \n",
       "7         8        2.60  2016   \n",
       "8         1        3.23  2017   \n",
       "9         2        9.88  2017   \n",
       "10        3       25.21  2017   \n",
       "11        4       20.22  2017   \n",
       "12        5        8.20  2017   \n",
       "13        6       20.10  2017   \n",
       "14        7        9.20  2017   \n",
       "15        8        2.66  2017   \n",
       "16        1        3.11  2018   \n",
       "17        2        9.44  2018   \n",
       "18        3       25.47  2018   \n",
       "19        4       19.79  2018   \n",
       "20        5        8.27  2018   \n",
       "21        6       20.44  2018   \n",
       "22        7        9.44  2018   \n",
       "23        8        2.75  2018   \n",
       "24        1        3.09  2019   \n",
       "25        2        9.00  2019   \n",
       "26        3       25.74  2019   \n",
       "27        4       19.43  2019   \n",
       "28        5        8.26  2019   \n",
       "29        6       20.63  2019   \n",
       "30        7        9.61  2019   \n",
       "31        8        2.79  2019   \n",
       "32        1        3.06  2020   \n",
       "33        2        8.64  2020   \n",
       "34        3       26.13  2020   \n",
       "35        4       18.96  2020   \n",
       "36        5        8.28  2020   \n",
       "37        6       20.87  2020   \n",
       "38        7        9.76  2020   \n",
       "39        8        2.86  2020   \n",
       "\n",
       "                                             ed_level  \n",
       "0                                   8th grade or less  \n",
       "1              9th through 12th grade with no diploma  \n",
       "2               High school graduate or GED completed  \n",
       "3               Some college credit, but not a degree  \n",
       "4                            Associate degree (AA,AS)  \n",
       "5                      Bachelor’s degree (BA, AB, BS)  \n",
       "6       Master’s degree (MA, MS, MEng, MEd, MSW, MBA)  \n",
       "7   Doctorate (PhD, EdD) or Professional Degree (M...  \n",
       "8                                   8th grade or less  \n",
       "9              9th through 12th grade with no diploma  \n",
       "10              High school graduate or GED completed  \n",
       "11              Some college credit, but not a degree  \n",
       "12                           Associate degree (AA,AS)  \n",
       "13                     Bachelor’s degree (BA, AB, BS)  \n",
       "14      Master’s degree (MA, MS, MEng, MEd, MSW, MBA)  \n",
       "15  Doctorate (PhD, EdD) or Professional Degree (M...  \n",
       "16                                  8th grade or less  \n",
       "17             9th through 12th grade with no diploma  \n",
       "18              High school graduate or GED completed  \n",
       "19              Some college credit, but not a degree  \n",
       "20                           Associate degree (AA,AS)  \n",
       "21                     Bachelor’s degree (BA, AB, BS)  \n",
       "22      Master’s degree (MA, MS, MEng, MEd, MSW, MBA)  \n",
       "23  Doctorate (PhD, EdD) or Professional Degree (M...  \n",
       "24                                  8th grade or less  \n",
       "25             9th through 12th grade with no diploma  \n",
       "26              High school graduate or GED completed  \n",
       "27              Some college credit, but not a degree  \n",
       "28                           Associate degree (AA,AS)  \n",
       "29                     Bachelor’s degree (BA, AB, BS)  \n",
       "30      Master’s degree (MA, MS, MEng, MEd, MSW, MBA)  \n",
       "31  Doctorate (PhD, EdD) or Professional Degree (M...  \n",
       "32                                  8th grade or less  \n",
       "33             9th through 12th grade with no diploma  \n",
       "34              High school graduate or GED completed  \n",
       "35              Some college credit, but not a degree  \n",
       "36                           Associate degree (AA,AS)  \n",
       "37                     Bachelor’s degree (BA, AB, BS)  \n",
       "38      Master’s degree (MA, MS, MEng, MEd, MSW, MBA)  \n",
       "39  Doctorate (PhD, EdD) or Professional Degree (M...  "
      ]
     },
     "execution_count": 27,
     "metadata": {},
     "output_type": "execute_result"
    }
   ],
   "source": [
    "all_year_ed"
   ]
  },
  {
   "cell_type": "code",
   "execution_count": null,
   "id": "8d6d2cf0",
   "metadata": {},
   "outputs": [],
   "source": []
  }
 ],
 "metadata": {
  "kernelspec": {
   "display_name": "Python 3 (ipykernel)",
   "language": "python",
   "name": "python3"
  },
  "language_info": {
   "codemirror_mode": {
    "name": "ipython",
    "version": 3
   },
   "file_extension": ".py",
   "mimetype": "text/x-python",
   "name": "python",
   "nbconvert_exporter": "python",
   "pygments_lexer": "ipython3",
   "version": "3.9.7"
  }
 },
 "nbformat": 4,
 "nbformat_minor": 5
}
