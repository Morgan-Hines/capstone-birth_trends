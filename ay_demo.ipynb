{
 "cells": [
  {
   "cell_type": "code",
   "execution_count": 1,
   "id": "fcee7a5d",
   "metadata": {},
   "outputs": [],
   "source": [
    "import pandas as pd\n",
    "import matplotlib.pyplot as plt\n",
    "import seaborn as sns\n",
    "\n",
    "%matplotlib inline"
   ]
  },
  {
   "cell_type": "code",
   "execution_count": 2,
   "id": "7806652d",
   "metadata": {},
   "outputs": [],
   "source": [
    "import matplotlib.ticker as mtick"
   ]
  },
  {
   "cell_type": "markdown",
   "id": "e63a62ea",
   "metadata": {},
   "source": [
    "### PULLING IN TABLES"
   ]
  },
  {
   "cell_type": "code",
   "execution_count": 3,
   "id": "e80fd288",
   "metadata": {},
   "outputs": [],
   "source": [
    "demo_2016 = pd.read_csv('organized_data/us_births_2016_demo_counts.csv')\n",
    "demo_2017 = pd.read_csv('organized_data/us_births_2017_demo_counts.csv')\n",
    "demo_2018 = pd.read_csv('organized_data/us_births_2018_demo_counts.csv')\n",
    "demo_2019 = pd.read_csv('organized_data/us_births_2019_demo_counts.csv')\n",
    "demo_2020 = pd.read_csv('organized_data/us_births_2020_demo_counts.csv')"
   ]
  },
  {
   "cell_type": "code",
   "execution_count": 4,
   "id": "18d08c16",
   "metadata": {},
   "outputs": [],
   "source": [
    "census_demos = pd.read_csv('organized_data/final_census_pop.csv')"
   ]
  },
  {
   "cell_type": "markdown",
   "id": "d3241de9",
   "metadata": {},
   "source": [
    "### MERGING TABLES"
   ]
  },
  {
   "cell_type": "code",
   "execution_count": 5,
   "id": "8810e49b",
   "metadata": {},
   "outputs": [],
   "source": [
    "all_years_demo = pd.concat([demo_2016,demo_2017,demo_2018,demo_2019,demo_2020]).reset_index(drop=True)[['demo_code','births_count','pct_births','demo','year']]"
   ]
  },
  {
   "cell_type": "markdown",
   "id": "a303bafb",
   "metadata": {},
   "source": [
    "### Normalizing Births to Pop "
   ]
  },
  {
   "cell_type": "code",
   "execution_count": 6,
   "id": "411fa23f",
   "metadata": {
    "scrolled": false
   },
   "outputs": [],
   "source": [
    "yt_female = all_years_demo.loc[all_years_demo.demo == 'White']"
   ]
  },
  {
   "cell_type": "code",
   "execution_count": 7,
   "id": "ae5626ea",
   "metadata": {},
   "outputs": [],
   "source": [
    "his_female = all_years_demo.loc[all_years_demo.demo == 'Hispanic']"
   ]
  },
  {
   "cell_type": "code",
   "execution_count": 8,
   "id": "921f2e67",
   "metadata": {},
   "outputs": [],
   "source": [
    "aa_female = all_years_demo.loc[all_years_demo.demo == 'Black or African American']"
   ]
  },
  {
   "cell_type": "code",
   "execution_count": 9,
   "id": "475d1db2",
   "metadata": {},
   "outputs": [],
   "source": [
    "asian_female = all_years_demo.loc[all_years_demo.demo == 'Asian']"
   ]
  },
  {
   "cell_type": "code",
   "execution_count": 10,
   "id": "d557efbe",
   "metadata": {},
   "outputs": [],
   "source": [
    "two_female = all_years_demo.loc[all_years_demo.demo == 'More than one race']"
   ]
  },
  {
   "cell_type": "code",
   "execution_count": 11,
   "id": "0a40e64b",
   "metadata": {},
   "outputs": [],
   "source": [
    "aian_female = all_years_demo.loc[all_years_demo.demo == 'AIAN']"
   ]
  },
  {
   "cell_type": "code",
   "execution_count": 12,
   "id": "85b07376",
   "metadata": {},
   "outputs": [],
   "source": [
    "nhopi_female = all_years_demo.loc[all_years_demo.demo == 'NHOPI']"
   ]
  },
  {
   "cell_type": "code",
   "execution_count": 13,
   "id": "200551ba",
   "metadata": {},
   "outputs": [],
   "source": [
    "yt_female_by_year = census_demos.groupby('year')['yt_female_pop_15_54'].sum().to_frame().reset_index()"
   ]
  },
  {
   "cell_type": "code",
   "execution_count": 14,
   "id": "264db570",
   "metadata": {},
   "outputs": [],
   "source": [
    "his_female_by_year = census_demos.groupby('year')['his_female_pop_15_54'].sum().to_frame().reset_index()"
   ]
  },
  {
   "cell_type": "code",
   "execution_count": 15,
   "id": "023c6612",
   "metadata": {},
   "outputs": [],
   "source": [
    "aa_female_by_year = census_demos.groupby('year')['aa_female_pop_15_54'].sum().to_frame().reset_index()"
   ]
  },
  {
   "cell_type": "code",
   "execution_count": 16,
   "id": "979629fb",
   "metadata": {},
   "outputs": [],
   "source": [
    "asian_female_by_year = census_demos.groupby('year')['asian_female_pop_15_54'].sum().to_frame().reset_index()"
   ]
  },
  {
   "cell_type": "code",
   "execution_count": 17,
   "id": "8713bdf0",
   "metadata": {},
   "outputs": [],
   "source": [
    "two_female_by_year = census_demos.groupby('year')['two_female_pop_15_54'].sum().to_frame().reset_index()"
   ]
  },
  {
   "cell_type": "code",
   "execution_count": 18,
   "id": "51429599",
   "metadata": {},
   "outputs": [],
   "source": [
    "aian_female_by_year = census_demos.groupby('year')['aian_female_pop_15_54'].sum().to_frame().reset_index()"
   ]
  },
  {
   "cell_type": "code",
   "execution_count": 19,
   "id": "4845406e",
   "metadata": {},
   "outputs": [],
   "source": [
    "nhopi_female_by_year = census_demos.groupby('year')['nhopi_female_pop_15_54'].sum().to_frame().reset_index()"
   ]
  },
  {
   "cell_type": "code",
   "execution_count": 20,
   "id": "613dfbd7",
   "metadata": {},
   "outputs": [],
   "source": [
    "yt_demo = pd.merge(yt_female, yt_female_by_year, how='inner', on='year')"
   ]
  },
  {
   "cell_type": "code",
   "execution_count": 21,
   "id": "00a0b917",
   "metadata": {},
   "outputs": [],
   "source": [
    "aa_demo = pd.merge(aa_female, aa_female_by_year, how='inner', on='year')"
   ]
  },
  {
   "cell_type": "code",
   "execution_count": 22,
   "id": "e56689c1",
   "metadata": {},
   "outputs": [],
   "source": [
    "aian_demo = pd.merge(aian_female, aian_female_by_year, how='inner', on='year')"
   ]
  },
  {
   "cell_type": "code",
   "execution_count": 23,
   "id": "78d0b72f",
   "metadata": {},
   "outputs": [],
   "source": [
    "asian_demo = pd.merge(asian_female, asian_female_by_year, how='inner', on='year')"
   ]
  },
  {
   "cell_type": "code",
   "execution_count": 24,
   "id": "efb916a2",
   "metadata": {},
   "outputs": [],
   "source": [
    "two_demo = pd.merge(two_female, two_female_by_year, how='inner', on='year')"
   ]
  },
  {
   "cell_type": "code",
   "execution_count": 25,
   "id": "7f320f68",
   "metadata": {},
   "outputs": [],
   "source": [
    "his_demo = pd.merge(his_female, his_female_by_year, how='inner', on='year')"
   ]
  },
  {
   "cell_type": "code",
   "execution_count": 26,
   "id": "b331b20f",
   "metadata": {},
   "outputs": [],
   "source": [
    "nhopi_demo = pd.merge(nhopi_female, nhopi_female_by_year, how='inner', on='year')"
   ]
  },
  {
   "cell_type": "code",
   "execution_count": 27,
   "id": "3091261b",
   "metadata": {},
   "outputs": [],
   "source": [
    "yt_demo['pct_of_age_pop'] = yt_demo.births_count / yt_demo.yt_female_pop_15_54"
   ]
  },
  {
   "cell_type": "code",
   "execution_count": 28,
   "id": "8f87f081",
   "metadata": {},
   "outputs": [],
   "source": [
    "aa_demo['pct_of_age_pop'] = aa_demo.births_count / aa_demo.aa_female_pop_15_54"
   ]
  },
  {
   "cell_type": "code",
   "execution_count": 29,
   "id": "c08996c8",
   "metadata": {},
   "outputs": [],
   "source": [
    "his_demo['pct_of_age_pop'] = his_demo.births_count / his_demo.his_female_pop_15_54"
   ]
  },
  {
   "cell_type": "code",
   "execution_count": 30,
   "id": "60c74574",
   "metadata": {},
   "outputs": [],
   "source": [
    "aian_demo['pct_of_age_pop'] = aian_demo.births_count / aian_demo.aian_female_pop_15_54"
   ]
  },
  {
   "cell_type": "code",
   "execution_count": 31,
   "id": "6d211c1d",
   "metadata": {},
   "outputs": [],
   "source": [
    "two_demo['pct_of_age_pop'] = two_demo.births_count / two_demo.two_female_pop_15_54"
   ]
  },
  {
   "cell_type": "code",
   "execution_count": 32,
   "id": "53c874fd",
   "metadata": {},
   "outputs": [],
   "source": [
    "asian_demo['pct_of_age_pop'] = asian_demo.births_count / asian_demo.asian_female_pop_15_54"
   ]
  },
  {
   "cell_type": "code",
   "execution_count": 33,
   "id": "a805c029",
   "metadata": {},
   "outputs": [],
   "source": [
    "nhopi_demo['pct_of_age_pop'] = nhopi_demo.births_count / nhopi_demo.nhopi_female_pop_15_54"
   ]
  },
  {
   "cell_type": "code",
   "execution_count": 34,
   "id": "fdf65ce4",
   "metadata": {},
   "outputs": [],
   "source": [
    "yt_demo = yt_demo.rename(columns = {'yt_female_pop_15_54':'female_pop_15_54'})\n",
    "aa_demo = aa_demo.rename(columns = {'aa_female_pop_15_54':'female_pop_15_54'})\n",
    "aian_demo = aian_demo.rename(columns = {'aian_female_pop_15_54':'female_pop_15_54'})\n",
    "his_demo = his_demo.rename(columns = {'his_female_pop_15_54':'female_pop_15_54'})\n",
    "asian_demo = asian_demo.rename(columns = {'asian_female_pop_15_54':'female_pop_15_54'})\n",
    "two_demo = two_demo.rename(columns = {'two_female_pop_15_54':'female_pop_15_54'})\n",
    "nhopi_demo = nhopi_demo.rename(columns = {'nhopi_female_pop_15_54':'female_pop_15_54'})"
   ]
  },
  {
   "cell_type": "code",
   "execution_count": 35,
   "id": "a28efba8",
   "metadata": {},
   "outputs": [],
   "source": [
    "pct_of_female_pop = pd.concat([yt_demo,aa_demo,aian_demo,his_demo,asian_demo,two_demo,nhopi_demo]).reset_index(drop=True)"
   ]
  },
  {
   "cell_type": "markdown",
   "id": "4f6038f5",
   "metadata": {},
   "source": [
    "### FORMATTING FOR VISUALIZATIONS"
   ]
  },
  {
   "cell_type": "code",
   "execution_count": 36,
   "id": "082eb678",
   "metadata": {},
   "outputs": [],
   "source": [
    "pct_of_female_pop.pct_of_age_pop = round((pct_of_female_pop.pct_of_age_pop * 100),2)"
   ]
  },
  {
   "cell_type": "code",
   "execution_count": 37,
   "id": "e20bab17",
   "metadata": {},
   "outputs": [],
   "source": [
    "all_years_demo.pct_births = round((all_years_demo.pct_births * 100),2)"
   ]
  },
  {
   "cell_type": "markdown",
   "id": "e5746bf4",
   "metadata": {},
   "source": [
    "### VISUALIZATIONS"
   ]
  },
  {
   "cell_type": "code",
   "execution_count": 38,
   "id": "cbef3c42",
   "metadata": {},
   "outputs": [],
   "source": [
    "all_years_demo.to_csv('viz_tables/all_years_demo.csv')"
   ]
  },
  {
   "cell_type": "code",
   "execution_count": 39,
   "id": "156a9244",
   "metadata": {},
   "outputs": [
    {
     "data": {
      "image/png": "[encoded data removed]",
      "text/plain": [
       "<Figure size 720x432 with 1 Axes>"
      ]
     },
     "metadata": {
      "needs_background": "light"
     },
     "output_type": "display_data"
    }
   ],
   "source": [
    "#plt.figure(figsize = (10,6))\n",
    "fig, ax = plt.subplots(figsize=(10,6))\n",
    "sns.barplot(data=all_years_demo,\n",
    "            y= 'demo',\n",
    "            x= 'pct_births',\n",
    "            hue = 'year',\n",
    "            palette = 'colorblind',\n",
    "            orient = 'h')\n",
    "ax.xaxis.set_major_formatter('%{x:1.0f}')\n",
    "ax.set(ylabel='')\n",
    "plt.xlabel('Percent of Births',fontsize = 12)\n",
    "\n",
    "ax.xaxis.set_major_formatter(mtick.PercentFormatter())\n",
    "#plt.xticks(rotation='vertical')"
   ]
  },
  {
   "cell_type": "markdown",
   "id": "ebd4d59d",
   "metadata": {},
   "source": [
    "### Normalized Demo"
   ]
  },
  {
   "cell_type": "code",
   "execution_count": 40,
   "id": "2a063080",
   "metadata": {},
   "outputs": [
    {
     "data": {
      "text/html": [
       "<div>\n",
       "<style scoped>\n",
       "    .dataframe tbody tr th:only-of-type {\n",
       "        vertical-align: middle;\n",
       "    }\n",
       "\n",
       "    .dataframe tbody tr th {\n",
       "        vertical-align: top;\n",
       "    }\n",
       "\n",
       "    .dataframe thead th {\n",
       "        text-align: right;\n",
       "    }\n",
       "</style>\n",
       "<table border=\"1\" class=\"dataframe\">\n",
       "  <thead>\n",
       "    <tr style=\"text-align: right;\">\n",
       "      <th></th>\n",
       "      <th>demo_code</th>\n",
       "      <th>births_count</th>\n",
       "      <th>pct_births</th>\n",
       "      <th>demo</th>\n",
       "      <th>year</th>\n",
       "      <th>female_pop_15_54</th>\n",
       "      <th>pct_of_age_pop</th>\n",
       "    </tr>\n",
       "  </thead>\n",
       "  <tbody>\n",
       "    <tr>\n",
       "      <th>0</th>\n",
       "      <td>1</td>\n",
       "      <td>2057310</td>\n",
       "      <td>0.520033</td>\n",
       "      <td>White</td>\n",
       "      <td>2016</td>\n",
       "      <td>14629731</td>\n",
       "      <td>14.06</td>\n",
       "    </tr>\n",
       "    <tr>\n",
       "      <th>1</th>\n",
       "      <td>1</td>\n",
       "      <td>1993312</td>\n",
       "      <td>0.515767</td>\n",
       "      <td>White</td>\n",
       "      <td>2017</td>\n",
       "      <td>14522234</td>\n",
       "      <td>13.73</td>\n",
       "    </tr>\n",
       "    <tr>\n",
       "      <th>2</th>\n",
       "      <td>1</td>\n",
       "      <td>1957260</td>\n",
       "      <td>0.514861</td>\n",
       "      <td>White</td>\n",
       "      <td>2018</td>\n",
       "      <td>14415970</td>\n",
       "      <td>13.58</td>\n",
       "    </tr>\n",
       "    <tr>\n",
       "      <th>3</th>\n",
       "      <td>1</td>\n",
       "      <td>1917034</td>\n",
       "      <td>0.510178</td>\n",
       "      <td>White</td>\n",
       "      <td>2019</td>\n",
       "      <td>14294407</td>\n",
       "      <td>13.41</td>\n",
       "    </tr>\n",
       "    <tr>\n",
       "      <th>4</th>\n",
       "      <td>1</td>\n",
       "      <td>1844160</td>\n",
       "      <td>0.509461</td>\n",
       "      <td>White</td>\n",
       "      <td>2020</td>\n",
       "      <td>13794644</td>\n",
       "      <td>13.37</td>\n",
       "    </tr>\n",
       "    <tr>\n",
       "      <th>5</th>\n",
       "      <td>2</td>\n",
       "      <td>559235</td>\n",
       "      <td>0.141360</td>\n",
       "      <td>Black or African American</td>\n",
       "      <td>2016</td>\n",
       "      <td>3236903</td>\n",
       "      <td>17.28</td>\n",
       "    </tr>\n",
       "    <tr>\n",
       "      <th>6</th>\n",
       "      <td>2</td>\n",
       "      <td>561296</td>\n",
       "      <td>0.145235</td>\n",
       "      <td>Black or African American</td>\n",
       "      <td>2017</td>\n",
       "      <td>3201030</td>\n",
       "      <td>17.53</td>\n",
       "    </tr>\n",
       "    <tr>\n",
       "      <th>7</th>\n",
       "      <td>2</td>\n",
       "      <td>552630</td>\n",
       "      <td>0.145370</td>\n",
       "      <td>Black or African American</td>\n",
       "      <td>2018</td>\n",
       "      <td>3154161</td>\n",
       "      <td>17.52</td>\n",
       "    </tr>\n",
       "    <tr>\n",
       "      <th>8</th>\n",
       "      <td>2</td>\n",
       "      <td>548719</td>\n",
       "      <td>0.146030</td>\n",
       "      <td>Black or African American</td>\n",
       "      <td>2019</td>\n",
       "      <td>3110965</td>\n",
       "      <td>17.64</td>\n",
       "    </tr>\n",
       "    <tr>\n",
       "      <th>9</th>\n",
       "      <td>2</td>\n",
       "      <td>530036</td>\n",
       "      <td>0.146426</td>\n",
       "      <td>Black or African American</td>\n",
       "      <td>2020</td>\n",
       "      <td>3042914</td>\n",
       "      <td>17.42</td>\n",
       "    </tr>\n",
       "    <tr>\n",
       "      <th>10</th>\n",
       "      <td>3</td>\n",
       "      <td>31465</td>\n",
       "      <td>0.007954</td>\n",
       "      <td>AIAN</td>\n",
       "      <td>2016</td>\n",
       "      <td>207144</td>\n",
       "      <td>15.19</td>\n",
       "    </tr>\n",
       "    <tr>\n",
       "      <th>11</th>\n",
       "      <td>3</td>\n",
       "      <td>29967</td>\n",
       "      <td>0.007754</td>\n",
       "      <td>AIAN</td>\n",
       "      <td>2017</td>\n",
       "      <td>206754</td>\n",
       "      <td>14.49</td>\n",
       "    </tr>\n",
       "    <tr>\n",
       "      <th>12</th>\n",
       "      <td>3</td>\n",
       "      <td>29115</td>\n",
       "      <td>0.007659</td>\n",
       "      <td>AIAN</td>\n",
       "      <td>2018</td>\n",
       "      <td>207832</td>\n",
       "      <td>14.01</td>\n",
       "    </tr>\n",
       "    <tr>\n",
       "      <th>13</th>\n",
       "      <td>3</td>\n",
       "      <td>28492</td>\n",
       "      <td>0.007583</td>\n",
       "      <td>AIAN</td>\n",
       "      <td>2019</td>\n",
       "      <td>209689</td>\n",
       "      <td>13.59</td>\n",
       "    </tr>\n",
       "    <tr>\n",
       "      <th>14</th>\n",
       "      <td>3</td>\n",
       "      <td>26822</td>\n",
       "      <td>0.007410</td>\n",
       "      <td>AIAN</td>\n",
       "      <td>2020</td>\n",
       "      <td>204553</td>\n",
       "      <td>13.11</td>\n",
       "    </tr>\n",
       "    <tr>\n",
       "      <th>15</th>\n",
       "      <td>7</td>\n",
       "      <td>926461</td>\n",
       "      <td>0.234185</td>\n",
       "      <td>Hispanic</td>\n",
       "      <td>2016</td>\n",
       "      <td>4531445</td>\n",
       "      <td>20.45</td>\n",
       "    </tr>\n",
       "    <tr>\n",
       "      <th>16</th>\n",
       "      <td>7</td>\n",
       "      <td>905998</td>\n",
       "      <td>0.234426</td>\n",
       "      <td>Hispanic</td>\n",
       "      <td>2017</td>\n",
       "      <td>4608432</td>\n",
       "      <td>19.66</td>\n",
       "    </tr>\n",
       "    <tr>\n",
       "      <th>17</th>\n",
       "      <td>7</td>\n",
       "      <td>893897</td>\n",
       "      <td>0.235141</td>\n",
       "      <td>Hispanic</td>\n",
       "      <td>2018</td>\n",
       "      <td>4665265</td>\n",
       "      <td>19.16</td>\n",
       "    </tr>\n",
       "    <tr>\n",
       "      <th>18</th>\n",
       "      <td>7</td>\n",
       "      <td>893901</td>\n",
       "      <td>0.237893</td>\n",
       "      <td>Hispanic</td>\n",
       "      <td>2019</td>\n",
       "      <td>4721378</td>\n",
       "      <td>18.93</td>\n",
       "    </tr>\n",
       "    <tr>\n",
       "      <th>19</th>\n",
       "      <td>7</td>\n",
       "      <td>871385</td>\n",
       "      <td>0.240726</td>\n",
       "      <td>Hispanic</td>\n",
       "      <td>2020</td>\n",
       "      <td>4780318</td>\n",
       "      <td>18.23</td>\n",
       "    </tr>\n",
       "    <tr>\n",
       "      <th>20</th>\n",
       "      <td>4</td>\n",
       "      <td>254870</td>\n",
       "      <td>0.064424</td>\n",
       "      <td>Asian</td>\n",
       "      <td>2016</td>\n",
       "      <td>1098060</td>\n",
       "      <td>23.21</td>\n",
       "    </tr>\n",
       "    <tr>\n",
       "      <th>21</th>\n",
       "      <td>4</td>\n",
       "      <td>249616</td>\n",
       "      <td>0.064588</td>\n",
       "      <td>Asian</td>\n",
       "      <td>2017</td>\n",
       "      <td>1116714</td>\n",
       "      <td>22.35</td>\n",
       "    </tr>\n",
       "    <tr>\n",
       "      <th>22</th>\n",
       "      <td>4</td>\n",
       "      <td>241223</td>\n",
       "      <td>0.063454</td>\n",
       "      <td>Asian</td>\n",
       "      <td>2018</td>\n",
       "      <td>1135480</td>\n",
       "      <td>21.24</td>\n",
       "    </tr>\n",
       "    <tr>\n",
       "      <th>23</th>\n",
       "      <td>4</td>\n",
       "      <td>239189</td>\n",
       "      <td>0.063655</td>\n",
       "      <td>Asian</td>\n",
       "      <td>2019</td>\n",
       "      <td>1142041</td>\n",
       "      <td>20.94</td>\n",
       "    </tr>\n",
       "    <tr>\n",
       "      <th>24</th>\n",
       "      <td>4</td>\n",
       "      <td>219309</td>\n",
       "      <td>0.060586</td>\n",
       "      <td>Asian</td>\n",
       "      <td>2020</td>\n",
       "      <td>1140106</td>\n",
       "      <td>19.24</td>\n",
       "    </tr>\n",
       "    <tr>\n",
       "      <th>25</th>\n",
       "      <td>6</td>\n",
       "      <td>80954</td>\n",
       "      <td>0.020463</td>\n",
       "      <td>More than one race</td>\n",
       "      <td>2016</td>\n",
       "      <td>912085</td>\n",
       "      <td>8.88</td>\n",
       "    </tr>\n",
       "    <tr>\n",
       "      <th>26</th>\n",
       "      <td>6</td>\n",
       "      <td>82455</td>\n",
       "      <td>0.021335</td>\n",
       "      <td>More than one race</td>\n",
       "      <td>2017</td>\n",
       "      <td>933754</td>\n",
       "      <td>8.83</td>\n",
       "    </tr>\n",
       "    <tr>\n",
       "      <th>27</th>\n",
       "      <td>6</td>\n",
       "      <td>83889</td>\n",
       "      <td>0.022067</td>\n",
       "      <td>More than one race</td>\n",
       "      <td>2018</td>\n",
       "      <td>960015</td>\n",
       "      <td>8.74</td>\n",
       "    </tr>\n",
       "    <tr>\n",
       "      <th>28</th>\n",
       "      <td>6</td>\n",
       "      <td>84358</td>\n",
       "      <td>0.022450</td>\n",
       "      <td>More than one race</td>\n",
       "      <td>2019</td>\n",
       "      <td>983922</td>\n",
       "      <td>8.57</td>\n",
       "    </tr>\n",
       "    <tr>\n",
       "      <th>29</th>\n",
       "      <td>6</td>\n",
       "      <td>84266</td>\n",
       "      <td>0.023279</td>\n",
       "      <td>More than one race</td>\n",
       "      <td>2020</td>\n",
       "      <td>1430024</td>\n",
       "      <td>5.89</td>\n",
       "    </tr>\n",
       "    <tr>\n",
       "      <th>30</th>\n",
       "      <td>5</td>\n",
       "      <td>9350</td>\n",
       "      <td>0.002363</td>\n",
       "      <td>NHOPI</td>\n",
       "      <td>2016</td>\n",
       "      <td>44902</td>\n",
       "      <td>20.82</td>\n",
       "    </tr>\n",
       "    <tr>\n",
       "      <th>31</th>\n",
       "      <td>5</td>\n",
       "      <td>9436</td>\n",
       "      <td>0.002442</td>\n",
       "      <td>NHOPI</td>\n",
       "      <td>2017</td>\n",
       "      <td>45600</td>\n",
       "      <td>20.69</td>\n",
       "    </tr>\n",
       "    <tr>\n",
       "      <th>32</th>\n",
       "      <td>5</td>\n",
       "      <td>9481</td>\n",
       "      <td>0.002494</td>\n",
       "      <td>NHOPI</td>\n",
       "      <td>2018</td>\n",
       "      <td>46080</td>\n",
       "      <td>20.58</td>\n",
       "    </tr>\n",
       "    <tr>\n",
       "      <th>33</th>\n",
       "      <td>5</td>\n",
       "      <td>9778</td>\n",
       "      <td>0.002602</td>\n",
       "      <td>NHOPI</td>\n",
       "      <td>2019</td>\n",
       "      <td>46179</td>\n",
       "      <td>21.17</td>\n",
       "    </tr>\n",
       "    <tr>\n",
       "      <th>34</th>\n",
       "      <td>5</td>\n",
       "      <td>9630</td>\n",
       "      <td>0.002660</td>\n",
       "      <td>NHOPI</td>\n",
       "      <td>2020</td>\n",
       "      <td>45647</td>\n",
       "      <td>21.10</td>\n",
       "    </tr>\n",
       "  </tbody>\n",
       "</table>\n",
       "</div>"
      ],
      "text/plain": [
       "    demo_code  births_count  pct_births                       demo  year  \\\n",
       "0           1       2057310    0.520033                      White  2016   \n",
       "1           1       1993312    0.515767                      White  2017   \n",
       "2           1       1957260    0.514861                      White  2018   \n",
       "3           1       1917034    0.510178                      White  2019   \n",
       "4           1       1844160    0.509461                      White  2020   \n",
       "5           2        559235    0.141360  Black or African American  2016   \n",
       "6           2        561296    0.145235  Black or African American  2017   \n",
       "7           2        552630    0.145370  Black or African American  2018   \n",
       "8           2        548719    0.146030  Black or African American  2019   \n",
       "9           2        530036    0.146426  Black or African American  2020   \n",
       "10          3         31465    0.007954                       AIAN  2016   \n",
       "11          3         29967    0.007754                       AIAN  2017   \n",
       "12          3         29115    0.007659                       AIAN  2018   \n",
       "13          3         28492    0.007583                       AIAN  2019   \n",
       "14          3         26822    0.007410                       AIAN  2020   \n",
       "15          7        926461    0.234185                   Hispanic  2016   \n",
       "16          7        905998    0.234426                   Hispanic  2017   \n",
       "17          7        893897    0.235141                   Hispanic  2018   \n",
       "18          7        893901    0.237893                   Hispanic  2019   \n",
       "19          7        871385    0.240726                   Hispanic  2020   \n",
       "20          4        254870    0.064424                      Asian  2016   \n",
       "21          4        249616    0.064588                      Asian  2017   \n",
       "22          4        241223    0.063454                      Asian  2018   \n",
       "23          4        239189    0.063655                      Asian  2019   \n",
       "24          4        219309    0.060586                      Asian  2020   \n",
       "25          6         80954    0.020463         More than one race  2016   \n",
       "26          6         82455    0.021335         More than one race  2017   \n",
       "27          6         83889    0.022067         More than one race  2018   \n",
       "28          6         84358    0.022450         More than one race  2019   \n",
       "29          6         84266    0.023279         More than one race  2020   \n",
       "30          5          9350    0.002363                      NHOPI  2016   \n",
       "31          5          9436    0.002442                      NHOPI  2017   \n",
       "32          5          9481    0.002494                      NHOPI  2018   \n",
       "33          5          9778    0.002602                      NHOPI  2019   \n",
       "34          5          9630    0.002660                      NHOPI  2020   \n",
       "\n",
       "    female_pop_15_54  pct_of_age_pop  \n",
       "0           14629731           14.06  \n",
       "1           14522234           13.73  \n",
       "2           14415970           13.58  \n",
       "3           14294407           13.41  \n",
       "4           13794644           13.37  \n",
       "5            3236903           17.28  \n",
       "6            3201030           17.53  \n",
       "7            3154161           17.52  \n",
       "8            3110965           17.64  \n",
       "9            3042914           17.42  \n",
       "10            207144           15.19  \n",
       "11            206754           14.49  \n",
       "12            207832           14.01  \n",
       "13            209689           13.59  \n",
       "14            204553           13.11  \n",
       "15           4531445           20.45  \n",
       "16           4608432           19.66  \n",
       "17           4665265           19.16  \n",
       "18           4721378           18.93  \n",
       "19           4780318           18.23  \n",
       "20           1098060           23.21  \n",
       "21           1116714           22.35  \n",
       "22           1135480           21.24  \n",
       "23           1142041           20.94  \n",
       "24           1140106           19.24  \n",
       "25            912085            8.88  \n",
       "26            933754            8.83  \n",
       "27            960015            8.74  \n",
       "28            983922            8.57  \n",
       "29           1430024            5.89  \n",
       "30             44902           20.82  \n",
       "31             45600           20.69  \n",
       "32             46080           20.58  \n",
       "33             46179           21.17  \n",
       "34             45647           21.10  "
      ]
     },
     "execution_count": 40,
     "metadata": {},
     "output_type": "execute_result"
    }
   ],
   "source": [
    "pct_of_female_pop"
   ]
  },
  {
   "cell_type": "code",
   "execution_count": 41,
   "id": "cc87abc5",
   "metadata": {},
   "outputs": [],
   "source": [
    "pct_of_female_pop.to_csv('viz_tables/pct_of_female_pop.csv')"
   ]
  },
  {
   "cell_type": "code",
   "execution_count": 42,
   "id": "d2696052",
   "metadata": {},
   "outputs": [
    {
     "data": {
      "image/png": "[encoded data removed]",
      "text/plain": [
       "<Figure size 720x432 with 1 Axes>"
      ]
     },
     "metadata": {
      "needs_background": "light"
     },
     "output_type": "display_data"
    }
   ],
   "source": [
    "fig, ax = plt.subplots(figsize=(10,6))\n",
    "sns.lineplot(data=pct_of_female_pop,\n",
    "            y= 'pct_of_age_pop',\n",
    "            x= 'year',\n",
    "            hue = 'demo',\n",
    "            palette = 'Set2',\n",
    "            linewidth = 3.5)\n",
    "            #orient = 'h')\n",
    "ax.yaxis.set_major_formatter('%{y:1.0f}')\n",
    "ax.set_xticks([2016,2017,2018,2019,2020])\n",
    "plt.legend(loc='upper right', bbox_to_anchor=(1.31, 1))\n",
    "plt.ylabel('Percent of Corresponding Female Population (Ages 15-54)',fontsize = 12)\n",
    "plt.xlabel('Year',fontsize = 12)\n",
    "#plt.xticks(rotation='vertical')\n",
    "\n",
    "ax.yaxis.set_major_formatter(mtick.PercentFormatter())"
   ]
  },
  {
   "cell_type": "code",
   "execution_count": null,
   "id": "a583975e",
   "metadata": {},
   "outputs": [],
   "source": []
  }
 ],
 "metadata": {
  "kernelspec": {
   "display_name": "Python 3 (ipykernel)",
   "language": "python",
   "name": "python3"
  },
  "language_info": {
   "codemirror_mode": {
    "name": "ipython",
    "version": 3
   },
   "file_extension": ".py",
   "mimetype": "text/x-python",
   "name": "python",
   "nbconvert_exporter": "python",
   "pygments_lexer": "ipython3",
   "version": "3.9.7"
  }
 },
 "nbformat": 4,
 "nbformat_minor": 5
}
