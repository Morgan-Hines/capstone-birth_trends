{
 "cells": [
  {
   "cell_type": "code",
   "execution_count": 1,
   "id": "5eb74bf7",
   "metadata": {},
   "outputs": [],
   "source": [
    "import pandas as pd\n",
    "import matplotlib.pyplot as plt\n",
    "import seaborn as sns\n",
    "\n",
    "%matplotlib inline"
   ]
  },
  {
   "cell_type": "markdown",
   "id": "2a6d8f91",
   "metadata": {},
   "source": [
    "### PULLING IN TABLES"
   ]
  },
  {
   "cell_type": "code",
   "execution_count": 2,
   "id": "99fe53fe",
   "metadata": {},
   "outputs": [],
   "source": [
    "ages_2016 = pd.read_csv('organized_data/us_births_2016_age_counts.csv')"
   ]
  },
  {
   "cell_type": "code",
   "execution_count": 3,
   "id": "8704b830",
   "metadata": {},
   "outputs": [],
   "source": [
    "ages_2017 = pd.read_csv('organized_data/us_births_2017_age_counts.csv')"
   ]
  },
  {
   "cell_type": "code",
   "execution_count": 4,
   "id": "d1b3e74d",
   "metadata": {},
   "outputs": [],
   "source": [
    "ages_2018 = pd.read_csv('organized_data/us_births_2018_age_counts.csv')"
   ]
  },
  {
   "cell_type": "code",
   "execution_count": 5,
   "id": "b7c9cd63",
   "metadata": {},
   "outputs": [],
   "source": [
    "ages_2019 = pd.read_csv('organized_data/us_births_2019_age_counts.csv')"
   ]
  },
  {
   "cell_type": "code",
   "execution_count": 6,
   "id": "03d0be64",
   "metadata": {},
   "outputs": [],
   "source": [
    "ages_2020 = pd.read_csv('organized_data/us_births_2020_age_counts.csv')"
   ]
  },
  {
   "cell_type": "code",
   "execution_count": 7,
   "id": "f2c137a1",
   "metadata": {},
   "outputs": [],
   "source": [
    "ages_2016 = ages_2016.rename(columns = {'pct_births':'birth_count'})"
   ]
  },
  {
   "cell_type": "markdown",
   "id": "2510b5f1",
   "metadata": {},
   "source": [
    "### MERGING"
   ]
  },
  {
   "cell_type": "code",
   "execution_count": 8,
   "id": "23aeba22",
   "metadata": {},
   "outputs": [],
   "source": [
    "all_years_ages = pd.concat([ages_2016,ages_2017,ages_2018,ages_2019,ages_2020])"
   ]
  },
  {
   "cell_type": "code",
   "execution_count": 9,
   "id": "de50fab8",
   "metadata": {},
   "outputs": [],
   "source": [
    "all_years_ages = all_years_ages[['age','birth_count','year']]"
   ]
  },
  {
   "cell_type": "code",
   "execution_count": 10,
   "id": "5f2465a0",
   "metadata": {},
   "outputs": [],
   "source": [
    "all_years_ages = all_years_ages.reset_index(drop=True)"
   ]
  },
  {
   "cell_type": "code",
   "execution_count": 11,
   "id": "c39e0190",
   "metadata": {},
   "outputs": [],
   "source": [
    "all_years_ages = all_years_ages.rename(columns = {'birth_count':'pct_births'})"
   ]
  },
  {
   "cell_type": "code",
   "execution_count": null,
   "id": "d9e94626",
   "metadata": {},
   "outputs": [],
   "source": [
    "all_years_ages.pct_births = round((all_years_ages.pct_births * 100),2)"
   ]
  },
  {
   "cell_type": "code",
   "execution_count": null,
   "id": "5f088fec",
   "metadata": {},
   "outputs": [],
   "source": [
    "all_years_ages.to_csv('viz_tables/all_years_ages.csv')"
   ]
  },
  {
   "cell_type": "code",
   "execution_count": null,
   "id": "2f5a71e0",
   "metadata": {},
   "outputs": [],
   "source": [
    "all_years_ages.head()"
   ]
  },
  {
   "cell_type": "markdown",
   "id": "8cae8ada",
   "metadata": {},
   "source": [
    "### VISUALIZATIONS"
   ]
  },
  {
   "cell_type": "code",
   "execution_count": null,
   "id": "867a35d2",
   "metadata": {},
   "outputs": [],
   "source": [
    "import matplotlib.ticker as mtick"
   ]
  },
  {
   "cell_type": "code",
   "execution_count": null,
   "id": "7a7b1778",
   "metadata": {
    "scrolled": false
   },
   "outputs": [],
   "source": [
    "fig, ax = plt.subplots(figsize=(13,8))\n",
    "sns.lineplot(data=all_years_ages,\n",
    "            x= 'age',\n",
    "            y= 'pct_births',\n",
    "            hue = 'year',\n",
    "            palette = 'colorblind')\n",
    "ax.yaxis.set_major_formatter('%{x:1f}')\n",
    "ax.yaxis.set_major_formatter(mtick.PercentFormatter())\n",
    "plt.ylabel('Percent of Births',fontsize = 12)\n",
    "plt.xlabel('Age',fontsize = 12)"
   ]
  },
  {
   "cell_type": "code",
   "execution_count": null,
   "id": "01b0ef4f",
   "metadata": {},
   "outputs": [],
   "source": []
  }
 ],
 "metadata": {
  "kernelspec": {
   "display_name": "Python 3 (ipykernel)",
   "language": "python",
   "name": "python3"
  },
  "language_info": {
   "codemirror_mode": {
    "name": "ipython",
    "version": 3
   },
   "file_extension": ".py",
   "mimetype": "text/x-python",
   "name": "python",
   "nbconvert_exporter": "python",
   "pygments_lexer": "ipython3",
   "version": "3.9.7"
  }
 },
 "nbformat": 4,
 "nbformat_minor": 5
}
