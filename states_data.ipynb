{
 "cells": [
  {
   "cell_type": "code",
   "execution_count": 1,
   "id": "57b509b6",
   "metadata": {},
   "outputs": [],
   "source": [
    "import pandas as pd\n",
    "import matplotlib.pyplot as plt\n",
    "import seaborn as sns\n",
    "%matplotlib inline"
   ]
  },
  {
   "cell_type": "markdown",
   "id": "3df98532",
   "metadata": {},
   "source": [
    "### Pulling in births by state"
   ]
  },
  {
   "cell_type": "code",
   "execution_count": 2,
   "id": "88cba007",
   "metadata": {},
   "outputs": [],
   "source": [
    "states_2016 = pd.read_csv('actual_data/states_2016.csv')"
   ]
  },
  {
   "cell_type": "code",
   "execution_count": 3,
   "id": "be951060",
   "metadata": {},
   "outputs": [],
   "source": [
    "states_2017 = pd.read_csv('actual_data/states_2017.csv')"
   ]
  },
  {
   "cell_type": "code",
   "execution_count": 4,
   "id": "463e50e7",
   "metadata": {},
   "outputs": [],
   "source": [
    "states_2018 = pd.read_csv('actual_data/states_2018.csv')"
   ]
  },
  {
   "cell_type": "code",
   "execution_count": 5,
   "id": "d8e4cb2a",
   "metadata": {},
   "outputs": [],
   "source": [
    "states_2019 = pd.read_csv('actual_data/states_2019.csv')"
   ]
  },
  {
   "cell_type": "code",
   "execution_count": 6,
   "id": "277e250a",
   "metadata": {},
   "outputs": [],
   "source": [
    "states_2020 = pd.read_csv('actual_data/states_2020.csv')"
   ]
  },
  {
   "cell_type": "markdown",
   "id": "7179c9b0",
   "metadata": {},
   "source": [
    "### Pulling in pop by state"
   ]
  },
  {
   "cell_type": "code",
   "execution_count": 7,
   "id": "4c500ec8",
   "metadata": {},
   "outputs": [],
   "source": [
    "states_pop_2016 = pd.read_csv('actual_data/states_pop_2016.csv')"
   ]
  },
  {
   "cell_type": "code",
   "execution_count": 8,
   "id": "9e35b758",
   "metadata": {},
   "outputs": [],
   "source": [
    "states_pop_2017 = pd.read_csv('actual_data/states_pop_2017.csv')"
   ]
  },
  {
   "cell_type": "code",
   "execution_count": 9,
   "id": "cfea39ce",
   "metadata": {},
   "outputs": [],
   "source": [
    "states_pop_2018 = pd.read_csv('actual_data/states_pop_2018.csv')"
   ]
  },
  {
   "cell_type": "code",
   "execution_count": 10,
   "id": "74c06e45",
   "metadata": {},
   "outputs": [],
   "source": [
    "states_pop_2019 = pd.read_csv('actual_data/states_pop_2019.csv')"
   ]
  },
  {
   "cell_type": "code",
   "execution_count": 11,
   "id": "6022311d",
   "metadata": {},
   "outputs": [],
   "source": [
    "states_pop_2020 = pd.read_csv('actual_data/states_pop_2020.csv')"
   ]
  },
  {
   "cell_type": "markdown",
   "id": "3032531c",
   "metadata": {},
   "source": [
    "### Pulling in pop by age/state"
   ]
  },
  {
   "cell_type": "code",
   "execution_count": 12,
   "id": "6cc3b38b",
   "metadata": {},
   "outputs": [],
   "source": [
    "pop_age_2016 = pd.read_csv('actual_data/pop_age_2016.csv')"
   ]
  },
  {
   "cell_type": "code",
   "execution_count": 13,
   "id": "b104622c",
   "metadata": {},
   "outputs": [],
   "source": [
    "pop_age_2017 = pd.read_csv('actual_data/pop_age_2017.csv')"
   ]
  },
  {
   "cell_type": "code",
   "execution_count": 14,
   "id": "341d54ce",
   "metadata": {},
   "outputs": [],
   "source": [
    "pop_age_2018 = pd.read_csv('actual_data/pop_age_2018.csv')"
   ]
  },
  {
   "cell_type": "code",
   "execution_count": 15,
   "id": "fda15b2d",
   "metadata": {},
   "outputs": [],
   "source": [
    "pop_age_2019 = pd.read_csv('actual_data/pop_age_2019.csv')"
   ]
  },
  {
   "cell_type": "code",
   "execution_count": 16,
   "id": "5d6d1aa9",
   "metadata": {},
   "outputs": [],
   "source": [
    "pop_age_2020 = pd.read_csv('actual_data/pop_age_2020.csv')"
   ]
  },
  {
   "cell_type": "markdown",
   "id": "dcb2ee87",
   "metadata": {},
   "source": [
    "### Organizing frames - births"
   ]
  },
  {
   "cell_type": "code",
   "execution_count": 17,
   "id": "96357ce4",
   "metadata": {},
   "outputs": [],
   "source": [
    "states_2016 = states_2016.drop(columns = 'Notes').dropna()"
   ]
  },
  {
   "cell_type": "code",
   "execution_count": 18,
   "id": "d47feaed",
   "metadata": {},
   "outputs": [],
   "source": [
    "states_2016['year'] = 2016"
   ]
  },
  {
   "cell_type": "code",
   "execution_count": 19,
   "id": "d4717292",
   "metadata": {},
   "outputs": [],
   "source": [
    "states_2017 = states_2017.drop(columns = 'Notes').dropna()"
   ]
  },
  {
   "cell_type": "code",
   "execution_count": 20,
   "id": "dad6cd1b",
   "metadata": {},
   "outputs": [],
   "source": [
    "states_2017['year'] = 2017"
   ]
  },
  {
   "cell_type": "code",
   "execution_count": 21,
   "id": "f98b9fcf",
   "metadata": {},
   "outputs": [],
   "source": [
    "states_2018 = states_2018.drop(columns = 'Notes').dropna()"
   ]
  },
  {
   "cell_type": "code",
   "execution_count": 22,
   "id": "5f5d0166",
   "metadata": {},
   "outputs": [],
   "source": [
    "states_2018['year'] = 2018"
   ]
  },
  {
   "cell_type": "code",
   "execution_count": 23,
   "id": "6df16c12",
   "metadata": {},
   "outputs": [],
   "source": [
    "states_2019 = states_2019.drop(columns = 'Notes').dropna()"
   ]
  },
  {
   "cell_type": "code",
   "execution_count": 24,
   "id": "3859e07e",
   "metadata": {},
   "outputs": [],
   "source": [
    "states_2019['year'] = 2019"
   ]
  },
  {
   "cell_type": "code",
   "execution_count": 25,
   "id": "1351dcfe",
   "metadata": {},
   "outputs": [],
   "source": [
    "states_2020 = states_2020.drop(columns = 'Notes').dropna()"
   ]
  },
  {
   "cell_type": "code",
   "execution_count": 26,
   "id": "94ed8476",
   "metadata": {},
   "outputs": [],
   "source": [
    "states_2020['year'] = 2020"
   ]
  },
  {
   "cell_type": "markdown",
   "id": "85adcadb",
   "metadata": {},
   "source": [
    "### Organizing Frames - pop"
   ]
  },
  {
   "cell_type": "code",
   "execution_count": 27,
   "id": "e23a24c3",
   "metadata": {},
   "outputs": [],
   "source": [
    "states_pop_2016 = states_pop_2016.drop([0]).head(51)"
   ]
  },
  {
   "cell_type": "code",
   "execution_count": 28,
   "id": "f7982336",
   "metadata": {},
   "outputs": [],
   "source": [
    "states_pop_2016 = states_pop_2016['Column1'].str.replace('\\t\"', ':').str.replace('\"\\t',':').str.replace('\"','').str.split(':', expand=True)"
   ]
  },
  {
   "cell_type": "code",
   "execution_count": 29,
   "id": "d34e38e6",
   "metadata": {},
   "outputs": [],
   "source": [
    "states_pop_2017 = states_pop_2017.drop([0]).head(51)"
   ]
  },
  {
   "cell_type": "code",
   "execution_count": 30,
   "id": "cc707014",
   "metadata": {},
   "outputs": [],
   "source": [
    "states_pop_2017 = states_pop_2017['Column1'].str.replace('\\t\"', ':').str.replace('\"\\t',':').str.replace('\"','').str.split(':', expand=True)"
   ]
  },
  {
   "cell_type": "code",
   "execution_count": 31,
   "id": "cf2dee10",
   "metadata": {},
   "outputs": [],
   "source": [
    "states_pop_2018 = states_pop_2018.drop([0]).head(51)"
   ]
  },
  {
   "cell_type": "code",
   "execution_count": 32,
   "id": "5609bcf3",
   "metadata": {},
   "outputs": [],
   "source": [
    "states_pop_2018 = states_pop_2018['Column1'].str.replace('\\t\"', ':').str.replace('\"\\t',':').str.replace('\"','').str.split(':', expand=True)"
   ]
  },
  {
   "cell_type": "code",
   "execution_count": 33,
   "id": "83719601",
   "metadata": {},
   "outputs": [],
   "source": [
    "states_pop_2019 = states_pop_2019.drop([0]).head(51)"
   ]
  },
  {
   "cell_type": "code",
   "execution_count": 34,
   "id": "51eb3b67",
   "metadata": {},
   "outputs": [],
   "source": [
    "states_pop_2019 = states_pop_2019['Column1'].str.replace('\\t\"', ':').str.replace('\"\\t',':').str.replace('\"','').str.split(':', expand=True)"
   ]
  },
  {
   "cell_type": "code",
   "execution_count": 35,
   "id": "641b4dc1",
   "metadata": {},
   "outputs": [],
   "source": [
    "states_pop_2020 = states_pop_2020.drop([0]).head(51)"
   ]
  },
  {
   "cell_type": "code",
   "execution_count": 36,
   "id": "9b4f5788",
   "metadata": {},
   "outputs": [],
   "source": [
    "states_pop_2020 = states_pop_2020['Column1'].str.replace('\\t\"', ':').str.replace('\"\\t',':').str.replace('\"','').str.split(':', expand=True)"
   ]
  },
  {
   "cell_type": "code",
   "execution_count": 37,
   "id": "6c0eee2c",
   "metadata": {},
   "outputs": [],
   "source": [
    "states_pop_2016['year'] = 2016"
   ]
  },
  {
   "cell_type": "code",
   "execution_count": 38,
   "id": "0711a5d6",
   "metadata": {},
   "outputs": [],
   "source": [
    "states_pop_2017['year'] = 2017"
   ]
  },
  {
   "cell_type": "code",
   "execution_count": 39,
   "id": "8f0f0a91",
   "metadata": {},
   "outputs": [],
   "source": [
    "states_pop_2018['year'] = 2018"
   ]
  },
  {
   "cell_type": "code",
   "execution_count": 40,
   "id": "9a2e1452",
   "metadata": {},
   "outputs": [],
   "source": [
    "states_pop_2019['year'] = 2019"
   ]
  },
  {
   "cell_type": "code",
   "execution_count": 41,
   "id": "066d9c27",
   "metadata": {},
   "outputs": [],
   "source": [
    "states_pop_2020['year'] = 2020"
   ]
  },
  {
   "cell_type": "markdown",
   "id": "9dc033a2",
   "metadata": {},
   "source": [
    "### Organizing Frames - age/state"
   ]
  },
  {
   "cell_type": "code",
   "execution_count": 42,
   "id": "8c5f6e6d",
   "metadata": {},
   "outputs": [],
   "source": [
    "pop_age_2016 = pop_age_2016.head(20).transpose().reset_index()"
   ]
  },
  {
   "cell_type": "code",
   "execution_count": 43,
   "id": "b803d28c",
   "metadata": {},
   "outputs": [],
   "source": [
    "pop_age_2016.columns = pop_age_2016.iloc[0]"
   ]
  },
  {
   "cell_type": "code",
   "execution_count": 44,
   "id": "e7435250",
   "metadata": {},
   "outputs": [],
   "source": [
    "pop_age_2016 = pop_age_2016.drop(pop_age_2016.iloc[:, 2:6],axis = 1).drop(pop_age_2016.iloc[:, 14:21],axis = 1)"
   ]
  },
  {
   "cell_type": "code",
   "execution_count": 45,
   "id": "4a7bf73b",
   "metadata": {},
   "outputs": [],
   "source": [
    "pop_age_2016.columns = ['state','population','fifteen_nineteen','twenty_twentyfour','twentyfive_twentynine','thirty_thirtyfour',\n",
    "                       'thirtyfive_thirtynine','forty_fortyfour','fortyfive_fortynine','fifty_fiftyfour']"
   ]
  },
  {
   "cell_type": "code",
   "execution_count": 46,
   "id": "f239dd47",
   "metadata": {},
   "outputs": [],
   "source": [
    "pop_age_2016.state = pop_age_2016.state.str.replace('!!',' ')"
   ]
  },
  {
   "cell_type": "code",
   "execution_count": 47,
   "id": "7c70ab94",
   "metadata": {},
   "outputs": [],
   "source": [
    "pop_age_2016 = pop_age_2016.drop(index=0).sort_values('state').reset_index(drop=True)"
   ]
  },
  {
   "cell_type": "code",
   "execution_count": 48,
   "id": "bd0c1a2d",
   "metadata": {
    "scrolled": false
   },
   "outputs": [],
   "source": [
    "pop_age_2016 = pop_age_2016[pop_age_2016[\"state\"].str.contains(\"Female Estimate\")].reset_index(drop=True)"
   ]
  },
  {
   "cell_type": "code",
   "execution_count": 49,
   "id": "1adf11a2",
   "metadata": {},
   "outputs": [],
   "source": [
    "pop_age_2017 = pop_age_2017.head(20).transpose().reset_index()"
   ]
  },
  {
   "cell_type": "code",
   "execution_count": 50,
   "id": "52d3a74f",
   "metadata": {},
   "outputs": [],
   "source": [
    "pop_age_2017.columns = pop_age_2017.iloc[0]"
   ]
  },
  {
   "cell_type": "code",
   "execution_count": 51,
   "id": "4094e951",
   "metadata": {},
   "outputs": [],
   "source": [
    "pop_age_2017 = pop_age_2017.drop(pop_age_2017.iloc[:, 2:6],axis = 1).drop(pop_age_2017.iloc[:, 14:21],axis = 1)"
   ]
  },
  {
   "cell_type": "code",
   "execution_count": 52,
   "id": "00bafd07",
   "metadata": {},
   "outputs": [],
   "source": [
    "pop_age_2017.columns = ['state','population','fifteen_nineteen','twenty_twentyfour','twentyfive_twentynine','thirty_thirtyfour',\n",
    "                       'thirtyfive_thirtynine','forty_fortyfour','fortyfive_fortynine','fifty_fiftyfour']"
   ]
  },
  {
   "cell_type": "code",
   "execution_count": 53,
   "id": "3a70e0fd",
   "metadata": {},
   "outputs": [],
   "source": [
    "pop_age_2017.state = pop_age_2017.state.str.replace('!!',' ')"
   ]
  },
  {
   "cell_type": "code",
   "execution_count": 54,
   "id": "799e803b",
   "metadata": {},
   "outputs": [],
   "source": [
    "pop_age_2017 = pop_age_2017.drop(index=0).sort_values('state').reset_index(drop=True)"
   ]
  },
  {
   "cell_type": "code",
   "execution_count": 55,
   "id": "8f73f02f",
   "metadata": {
    "scrolled": false
   },
   "outputs": [],
   "source": [
    "pop_age_2017 = pop_age_2017[pop_age_2017[\"state\"].str.contains(\"Female Estimate\")][::2].reset_index(drop=True)"
   ]
  },
  {
   "cell_type": "code",
   "execution_count": 56,
   "id": "2bdf96ab",
   "metadata": {},
   "outputs": [],
   "source": [
    "pop_age_2017.fifteen_nineteen = pop_age_2017.fifteen_nineteen.str.replace(',', '').astype(int)\n",
    "pop_age_2017.twenty_twentyfour = pop_age_2017.twenty_twentyfour.str.replace(',', '').astype(int)\n",
    "pop_age_2017.twentyfive_twentynine = pop_age_2017.twentyfive_twentynine.str.replace(',', '').astype(int)\n",
    "pop_age_2017.thirty_thirtyfour = pop_age_2017.thirty_thirtyfour.str.replace(',', '').astype(int)\n",
    "pop_age_2017.thirtyfive_thirtynine = pop_age_2017.thirtyfive_thirtynine.str.replace(',', '').astype(int)\n",
    "pop_age_2017.forty_fortyfour = pop_age_2017.forty_fortyfour.str.replace(',', '').astype(int)\n",
    "pop_age_2017.fortyfive_fortynine = pop_age_2017.fortyfive_fortynine.str.replace(',', '').astype(int)\n",
    "pop_age_2017.fifty_fiftyfour = pop_age_2017.fifty_fiftyfour.str.replace(',', '').astype(int)\n",
    "pop_age_2017.population = pop_age_2017.population.str.replace(',', '').astype(int)"
   ]
  },
  {
   "cell_type": "code",
   "execution_count": 57,
   "id": "ff242e06",
   "metadata": {},
   "outputs": [],
   "source": [
    "pop_age_2018 = pop_age_2018.head(20).transpose().reset_index()"
   ]
  },
  {
   "cell_type": "code",
   "execution_count": 58,
   "id": "9f2cb282",
   "metadata": {},
   "outputs": [],
   "source": [
    "pop_age_2018.columns = pop_age_2018.iloc[0]"
   ]
  },
  {
   "cell_type": "code",
   "execution_count": 59,
   "id": "656aa277",
   "metadata": {},
   "outputs": [],
   "source": [
    "pop_age_2018 = pop_age_2018.drop(pop_age_2018.iloc[:, 2:6],axis = 1).drop(pop_age_2018.iloc[:, 14:21],axis = 1)"
   ]
  },
  {
   "cell_type": "code",
   "execution_count": 60,
   "id": "5f7ccf2a",
   "metadata": {},
   "outputs": [],
   "source": [
    "pop_age_2018.columns = ['state','population','fifteen_nineteen','twenty_twentyfour','twentyfive_twentynine','thirty_thirtyfour',\n",
    "                       'thirtyfive_thirtynine','forty_fortyfour','fortyfive_fortynine','fifty_fiftyfour']"
   ]
  },
  {
   "cell_type": "code",
   "execution_count": 61,
   "id": "53e54bca",
   "metadata": {},
   "outputs": [],
   "source": [
    "pop_age_2018.state = pop_age_2018.state.str.replace('!!',' ')"
   ]
  },
  {
   "cell_type": "code",
   "execution_count": 62,
   "id": "cf3d9395",
   "metadata": {},
   "outputs": [],
   "source": [
    "pop_age_2018 = pop_age_2018.drop(index=0).sort_values('state').reset_index(drop=True)"
   ]
  },
  {
   "cell_type": "code",
   "execution_count": 63,
   "id": "08a44f7b",
   "metadata": {
    "scrolled": false
   },
   "outputs": [],
   "source": [
    "pop_age_2018 = pop_age_2018[pop_age_2018[\"state\"].str.contains(\"Female Estimate\")][::2].reset_index(drop=True)"
   ]
  },
  {
   "cell_type": "code",
   "execution_count": 64,
   "id": "3c8c5d22",
   "metadata": {},
   "outputs": [],
   "source": [
    "pop_age_2018.fifteen_nineteen = pop_age_2018.fifteen_nineteen.str.replace(',', '').astype(int)\n",
    "pop_age_2018.twenty_twentyfour = pop_age_2018.twenty_twentyfour.str.replace(',', '').astype(int)\n",
    "pop_age_2018.twentyfive_twentynine = pop_age_2018.twentyfive_twentynine.str.replace(',', '').astype(int)\n",
    "pop_age_2018.thirty_thirtyfour = pop_age_2018.thirty_thirtyfour.str.replace(',', '').astype(int)\n",
    "pop_age_2018.thirtyfive_thirtynine = pop_age_2018.thirtyfive_thirtynine.str.replace(',', '').astype(int)\n",
    "pop_age_2018.forty_fortyfour = pop_age_2018.forty_fortyfour.str.replace(',', '').astype(int)\n",
    "pop_age_2018.fortyfive_fortynine = pop_age_2018.fortyfive_fortynine.str.replace(',', '').astype(int)\n",
    "pop_age_2018.fifty_fiftyfour = pop_age_2018.fifty_fiftyfour.str.replace(',', '').astype(int)\n",
    "pop_age_2018.population = pop_age_2018.population.str.replace(',', '').astype(int)"
   ]
  },
  {
   "cell_type": "code",
   "execution_count": 65,
   "id": "7c891ca0",
   "metadata": {},
   "outputs": [],
   "source": [
    "pop_age_2019 = pop_age_2019.head(20).transpose().reset_index()"
   ]
  },
  {
   "cell_type": "code",
   "execution_count": 66,
   "id": "b9711c9c",
   "metadata": {},
   "outputs": [],
   "source": [
    "pop_age_2019.columns = pop_age_2019.iloc[0]"
   ]
  },
  {
   "cell_type": "code",
   "execution_count": 67,
   "id": "8959e47d",
   "metadata": {},
   "outputs": [],
   "source": [
    "pop_age_2019 = pop_age_2019.drop(pop_age_2019.iloc[:, 2:6],axis = 1).drop(pop_age_2019.iloc[:, 14:21],axis = 1)"
   ]
  },
  {
   "cell_type": "code",
   "execution_count": 68,
   "id": "01492f18",
   "metadata": {},
   "outputs": [],
   "source": [
    "pop_age_2019.columns = ['state','population','fifteen_nineteen','twenty_twentyfour','twentyfive_twentynine','thirty_thirtyfour',\n",
    "                       'thirtyfive_thirtynine','forty_fortyfour','fortyfive_fortynine','fifty_fiftyfour']"
   ]
  },
  {
   "cell_type": "code",
   "execution_count": 69,
   "id": "3a744445",
   "metadata": {},
   "outputs": [],
   "source": [
    "pop_age_2019.state = pop_age_2019.state.str.replace('!!',' ')"
   ]
  },
  {
   "cell_type": "code",
   "execution_count": 70,
   "id": "b6f72be7",
   "metadata": {},
   "outputs": [],
   "source": [
    "pop_age_2019 = pop_age_2019.drop(index=0).sort_values('state').reset_index(drop=True)"
   ]
  },
  {
   "cell_type": "code",
   "execution_count": 71,
   "id": "1e6a4e8e",
   "metadata": {
    "scrolled": false
   },
   "outputs": [],
   "source": [
    "pop_age_2019 = pop_age_2019[pop_age_2019[\"state\"].str.contains(\"Female Estimate\")][::2].reset_index(drop=True)"
   ]
  },
  {
   "cell_type": "code",
   "execution_count": 72,
   "id": "49f5c802",
   "metadata": {},
   "outputs": [],
   "source": [
    "pop_age_2019.fifteen_nineteen = pop_age_2019.fifteen_nineteen.str.replace(',', '').astype(int)\n",
    "pop_age_2019.twenty_twentyfour = pop_age_2019.twenty_twentyfour.str.replace(',', '').astype(int)\n",
    "pop_age_2019.twentyfive_twentynine = pop_age_2019.twentyfive_twentynine.str.replace(',', '').astype(int)\n",
    "pop_age_2019.thirty_thirtyfour = pop_age_2019.thirty_thirtyfour.str.replace(',', '').astype(int)\n",
    "pop_age_2019.thirtyfive_thirtynine = pop_age_2019.thirtyfive_thirtynine.str.replace(',', '').astype(int)\n",
    "pop_age_2019.forty_fortyfour = pop_age_2019.forty_fortyfour.str.replace(',', '').astype(int)\n",
    "pop_age_2019.fortyfive_fortynine = pop_age_2019.fortyfive_fortynine.str.replace(',', '').astype(int)\n",
    "pop_age_2019.fifty_fiftyfour = pop_age_2019.fifty_fiftyfour.str.replace(',', '').astype(int)\n",
    "pop_age_2019.population = pop_age_2019.population.str.replace(',', '').astype(int)"
   ]
  },
  {
   "cell_type": "code",
   "execution_count": 73,
   "id": "461a0ec6",
   "metadata": {},
   "outputs": [],
   "source": [
    "pop_age_2020 = pop_age_2020.head(20).transpose().reset_index()"
   ]
  },
  {
   "cell_type": "code",
   "execution_count": 74,
   "id": "52da4e22",
   "metadata": {},
   "outputs": [],
   "source": [
    "pop_age_2020.columns = pop_age_2020.iloc[0]"
   ]
  },
  {
   "cell_type": "code",
   "execution_count": 75,
   "id": "14a6d5f3",
   "metadata": {},
   "outputs": [],
   "source": [
    "pop_age_2020 = pop_age_2020.drop(pop_age_2020.iloc[:, 2:6],axis = 1).drop(pop_age_2020.iloc[:, 14:21],axis = 1)"
   ]
  },
  {
   "cell_type": "code",
   "execution_count": 76,
   "id": "513ab91f",
   "metadata": {},
   "outputs": [],
   "source": [
    "pop_age_2020.columns = ['state','population','fifteen_nineteen','twenty_twentyfour','twentyfive_twentynine','thirty_thirtyfour',\n",
    "                       'thirtyfive_thirtynine','forty_fortyfour','fortyfive_fortynine','fifty_fiftyfour']"
   ]
  },
  {
   "cell_type": "code",
   "execution_count": 77,
   "id": "421100d2",
   "metadata": {},
   "outputs": [],
   "source": [
    "pop_age_2020.state = pop_age_2020.state.str.replace('!!',' ')"
   ]
  },
  {
   "cell_type": "code",
   "execution_count": 78,
   "id": "33a45596",
   "metadata": {},
   "outputs": [],
   "source": [
    "pop_age_2020 = pop_age_2020.drop(index=0).sort_values('state').reset_index(drop=True)"
   ]
  },
  {
   "cell_type": "code",
   "execution_count": 79,
   "id": "1b3b3a52",
   "metadata": {
    "scrolled": false
   },
   "outputs": [],
   "source": [
    "pop_age_2020 = pop_age_2020[pop_age_2020[\"state\"].str.contains(\"Female Estimate\")][::2].reset_index(drop=True)"
   ]
  },
  {
   "cell_type": "code",
   "execution_count": 80,
   "id": "4c53ec27",
   "metadata": {},
   "outputs": [],
   "source": [
    "pop_age_2020.fifteen_nineteen = pop_age_2020.fifteen_nineteen.str.replace(',', '').astype(int)\n",
    "pop_age_2020.twenty_twentyfour = pop_age_2020.twenty_twentyfour.str.replace(',', '').astype(int)\n",
    "pop_age_2020.twentyfive_twentynine = pop_age_2020.twentyfive_twentynine.str.replace(',', '').astype(int)\n",
    "pop_age_2020.thirty_thirtyfour = pop_age_2020.thirty_thirtyfour.str.replace(',', '').astype(int)\n",
    "pop_age_2020.thirtyfive_thirtynine = pop_age_2020.thirtyfive_thirtynine.str.replace(',', '').astype(int)\n",
    "pop_age_2020.forty_fortyfour = pop_age_2020.forty_fortyfour.str.replace(',', '').astype(int)\n",
    "pop_age_2020.fortyfive_fortynine = pop_age_2020.fortyfive_fortynine.str.replace(',', '').astype(int)\n",
    "pop_age_2020.fifty_fiftyfour = pop_age_2020.fifty_fiftyfour.str.replace(',', '').astype(int)\n",
    "pop_age_2020.population = pop_age_2020.population.str.replace(',', '').astype(int)"
   ]
  },
  {
   "cell_type": "code",
   "execution_count": 81,
   "id": "66d50535",
   "metadata": {},
   "outputs": [],
   "source": [
    "pop_age_2016['year'] = 2016"
   ]
  },
  {
   "cell_type": "code",
   "execution_count": 82,
   "id": "b9c9ea3e",
   "metadata": {},
   "outputs": [],
   "source": [
    "pop_age_2017['year'] = 2017"
   ]
  },
  {
   "cell_type": "code",
   "execution_count": 83,
   "id": "41aa1629",
   "metadata": {},
   "outputs": [],
   "source": [
    "pop_age_2018['year'] = 2018"
   ]
  },
  {
   "cell_type": "code",
   "execution_count": 84,
   "id": "c0b76510",
   "metadata": {},
   "outputs": [],
   "source": [
    "pop_age_2019['year'] = 2019"
   ]
  },
  {
   "cell_type": "code",
   "execution_count": 85,
   "id": "cade3e07",
   "metadata": {},
   "outputs": [],
   "source": [
    "pop_age_2020['year'] = 2020"
   ]
  },
  {
   "cell_type": "markdown",
   "id": "984758e9",
   "metadata": {},
   "source": [
    "### Extra Calcs for 2016 age/state"
   ]
  },
  {
   "cell_type": "code",
   "execution_count": 86,
   "id": "189ecde2",
   "metadata": {},
   "outputs": [],
   "source": [
    "pop_age_2016.fifteen_nineteen = pop_age_2016.fifteen_nineteen.str[:-1].astype(float)\n",
    "pop_age_2016.twenty_twentyfour = pop_age_2016.twenty_twentyfour.str[:-1].astype(float)\n",
    "pop_age_2016.twentyfive_twentynine = pop_age_2016.twentyfive_twentynine.str[:-1].astype(float)\n",
    "pop_age_2016.thirty_thirtyfour = pop_age_2016.thirty_thirtyfour.str[:-1].astype(float)\n",
    "pop_age_2016.thirtyfive_thirtynine = pop_age_2016.thirtyfive_thirtynine.str[:-1].astype(float)\n",
    "pop_age_2016.forty_fortyfour = pop_age_2016.forty_fortyfour.str[:-1].astype(float)\n",
    "pop_age_2016.fortyfive_fortynine = pop_age_2016.fortyfive_fortynine.str[:-1].astype(float)\n",
    "pop_age_2016.fifty_fiftyfour = pop_age_2016.fifty_fiftyfour.str[:-1].astype(float)"
   ]
  },
  {
   "cell_type": "code",
   "execution_count": 87,
   "id": "496ca462",
   "metadata": {},
   "outputs": [],
   "source": [
    "pop_age_2016.population = pop_age_2016.population.str.replace(',', '').astype(int)"
   ]
  },
  {
   "cell_type": "code",
   "execution_count": 88,
   "id": "3dc129bc",
   "metadata": {},
   "outputs": [],
   "source": [
    "pop_age_2016.fifteen_nineteen=round(((pop_age_2016.fifteen_nineteen*pop_age_2016['population'])/100)).astype(int)\n",
    "pop_age_2016.twenty_twentyfour = round(((pop_age_2016.twenty_twentyfour*pop_age_2016['population'])/100)).astype(int)\n",
    "pop_age_2016.twentyfive_twentynine = round(((pop_age_2016.twentyfive_twentynine*pop_age_2016['population'])/100)).astype(int)\n",
    "pop_age_2016.thirty_thirtyfour = round(((pop_age_2016.thirty_thirtyfour*pop_age_2016['population'])/100)).astype(int)\n",
    "pop_age_2016.thirtyfive_thirtynine = round(((pop_age_2016.thirtyfive_thirtynine*pop_age_2016['population'])/100)).astype(int)\n",
    "pop_age_2016.forty_fortyfour = round(((pop_age_2016.forty_fortyfour*pop_age_2016['population'])/100),0).astype(int)\n",
    "pop_age_2016.fortyfive_fortynine = round(((pop_age_2016.fortyfive_fortynine*pop_age_2016['population'])/100)).astype(int)\n",
    "pop_age_2016.fifty_fiftyfour = round(((pop_age_2016.fifty_fiftyfour*pop_age_2016['population'])/100)).astype(int)"
   ]
  },
  {
   "cell_type": "code",
   "execution_count": 89,
   "id": "aa663fa5",
   "metadata": {},
   "outputs": [
    {
     "data": {
      "text/html": [
       "<div>\n",
       "<style scoped>\n",
       "    .dataframe tbody tr th:only-of-type {\n",
       "        vertical-align: middle;\n",
       "    }\n",
       "\n",
       "    .dataframe tbody tr th {\n",
       "        vertical-align: top;\n",
       "    }\n",
       "\n",
       "    .dataframe thead th {\n",
       "        text-align: right;\n",
       "    }\n",
       "</style>\n",
       "<table border=\"1\" class=\"dataframe\">\n",
       "  <thead>\n",
       "    <tr style=\"text-align: right;\">\n",
       "      <th></th>\n",
       "      <th>state</th>\n",
       "      <th>population</th>\n",
       "      <th>fifteen_nineteen</th>\n",
       "      <th>twenty_twentyfour</th>\n",
       "      <th>twentyfive_twentynine</th>\n",
       "      <th>thirty_thirtyfour</th>\n",
       "      <th>thirtyfive_thirtynine</th>\n",
       "      <th>forty_fortyfour</th>\n",
       "      <th>fortyfive_fortynine</th>\n",
       "      <th>fifty_fiftyfour</th>\n",
       "      <th>year</th>\n",
       "    </tr>\n",
       "  </thead>\n",
       "  <tbody>\n",
       "    <tr>\n",
       "      <th>0</th>\n",
       "      <td>Alabama Female Estimate</td>\n",
       "      <td>2494971</td>\n",
       "      <td>159678</td>\n",
       "      <td>172153</td>\n",
       "      <td>162173</td>\n",
       "      <td>157183</td>\n",
       "      <td>152193</td>\n",
       "      <td>157183</td>\n",
       "      <td>162173</td>\n",
       "      <td>177143</td>\n",
       "      <td>2016</td>\n",
       "    </tr>\n",
       "    <tr>\n",
       "      <th>1</th>\n",
       "      <td>Alaska Female Estimate</td>\n",
       "      <td>351559</td>\n",
       "      <td>22851</td>\n",
       "      <td>25664</td>\n",
       "      <td>28828</td>\n",
       "      <td>25664</td>\n",
       "      <td>22148</td>\n",
       "      <td>21797</td>\n",
       "      <td>22500</td>\n",
       "      <td>24961</td>\n",
       "      <td>2016</td>\n",
       "    </tr>\n",
       "    <tr>\n",
       "      <th>2</th>\n",
       "      <td>Arizona Female Estimate</td>\n",
       "      <td>3384471</td>\n",
       "      <td>223375</td>\n",
       "      <td>233528</td>\n",
       "      <td>219991</td>\n",
       "      <td>216606</td>\n",
       "      <td>203068</td>\n",
       "      <td>209837</td>\n",
       "      <td>206453</td>\n",
       "      <td>216606</td>\n",
       "      <td>2016</td>\n",
       "    </tr>\n",
       "    <tr>\n",
       "      <th>3</th>\n",
       "      <td>Arkansas Female Estimate</td>\n",
       "      <td>1511778</td>\n",
       "      <td>98266</td>\n",
       "      <td>101289</td>\n",
       "      <td>96754</td>\n",
       "      <td>95242</td>\n",
       "      <td>90707</td>\n",
       "      <td>93730</td>\n",
       "      <td>93730</td>\n",
       "      <td>102801</td>\n",
       "      <td>2016</td>\n",
       "    </tr>\n",
       "    <tr>\n",
       "      <th>4</th>\n",
       "      <td>California Female Estimate</td>\n",
       "      <td>19453236</td>\n",
       "      <td>1283914</td>\n",
       "      <td>1400633</td>\n",
       "      <td>1420086</td>\n",
       "      <td>1361727</td>\n",
       "      <td>1283914</td>\n",
       "      <td>1283914</td>\n",
       "      <td>1303367</td>\n",
       "      <td>1322820</td>\n",
       "      <td>2016</td>\n",
       "    </tr>\n",
       "  </tbody>\n",
       "</table>\n",
       "</div>"
      ],
      "text/plain": [
       "                        state  population  fifteen_nineteen  \\\n",
       "0     Alabama Female Estimate     2494971            159678   \n",
       "1      Alaska Female Estimate      351559             22851   \n",
       "2     Arizona Female Estimate     3384471            223375   \n",
       "3    Arkansas Female Estimate     1511778             98266   \n",
       "4  California Female Estimate    19453236           1283914   \n",
       "\n",
       "   twenty_twentyfour  twentyfive_twentynine  thirty_thirtyfour  \\\n",
       "0             172153                 162173             157183   \n",
       "1              25664                  28828              25664   \n",
       "2             233528                 219991             216606   \n",
       "3             101289                  96754              95242   \n",
       "4            1400633                1420086            1361727   \n",
       "\n",
       "   thirtyfive_thirtynine  forty_fortyfour  fortyfive_fortynine  \\\n",
       "0                 152193           157183               162173   \n",
       "1                  22148            21797                22500   \n",
       "2                 203068           209837               206453   \n",
       "3                  90707            93730                93730   \n",
       "4                1283914          1283914              1303367   \n",
       "\n",
       "   fifty_fiftyfour  year  \n",
       "0           177143  2016  \n",
       "1            24961  2016  \n",
       "2           216606  2016  \n",
       "3           102801  2016  \n",
       "4          1322820  2016  "
      ]
     },
     "execution_count": 89,
     "metadata": {},
     "output_type": "execute_result"
    }
   ],
   "source": [
    "pop_age_2016.head()"
   ]
  },
  {
   "cell_type": "markdown",
   "id": "710165b2",
   "metadata": {},
   "source": [
    "### Merging All Years (pop and births)"
   ]
  },
  {
   "cell_type": "code",
   "execution_count": 90,
   "id": "6dbb8a41",
   "metadata": {},
   "outputs": [],
   "source": [
    "births_all_years = pd.concat([states_2016,states_2017,states_2018,states_2019,states_2020])"
   ]
  },
  {
   "cell_type": "code",
   "execution_count": 91,
   "id": "b26dc5c4",
   "metadata": {},
   "outputs": [],
   "source": [
    "pop_all_years = pd.concat([states_pop_2016,states_pop_2017,states_pop_2018,states_pop_2019,states_pop_2020])"
   ]
  },
  {
   "cell_type": "code",
   "execution_count": 92,
   "id": "6312303f",
   "metadata": {},
   "outputs": [],
   "source": [
    "age_pop_all_years = pd.concat([pop_age_2016,pop_age_2017,pop_age_2018,pop_age_2019,pop_age_2020])"
   ]
  },
  {
   "cell_type": "markdown",
   "id": "c0a1857c",
   "metadata": {},
   "source": [
    "### Organizing Merged DFs"
   ]
  },
  {
   "cell_type": "code",
   "execution_count": 93,
   "id": "d4616ed4",
   "metadata": {},
   "outputs": [],
   "source": [
    "pop_all_years=pop_all_years.drop(columns = [0])"
   ]
  },
  {
   "cell_type": "code",
   "execution_count": 94,
   "id": "d2d246cd",
   "metadata": {},
   "outputs": [],
   "source": [
    "pop_all_years.columns = ['state','state_code','population','year']"
   ]
  },
  {
   "cell_type": "code",
   "execution_count": 95,
   "id": "325f7e86",
   "metadata": {},
   "outputs": [],
   "source": [
    "births_all_years.columns = ['state','state_code','births','year']"
   ]
  },
  {
   "cell_type": "code",
   "execution_count": 96,
   "id": "80559f00",
   "metadata": {},
   "outputs": [],
   "source": [
    "pop_all_years.state_code=pop_all_years.state_code.astype(int)\n",
    "pop_all_years.population=pop_all_years.population.astype(int)"
   ]
  },
  {
   "cell_type": "code",
   "execution_count": 97,
   "id": "4cdf8534",
   "metadata": {},
   "outputs": [],
   "source": [
    "births_all_years.state_code=births_all_years.state_code.astype(int)\n",
    "births_all_years.births=births_all_years.births.astype(int)"
   ]
  },
  {
   "cell_type": "code",
   "execution_count": 98,
   "id": "f0bf0711",
   "metadata": {},
   "outputs": [],
   "source": [
    "age_pop_all_years.state = age_pop_all_years.state.str.replace('Female Estimate','')"
   ]
  },
  {
   "cell_type": "code",
   "execution_count": 99,
   "id": "6db1615c",
   "metadata": {},
   "outputs": [
    {
     "data": {
      "text/plain": [
       "Index(['state', 'population', 'fifteen_nineteen', 'twenty_twentyfour',\n",
       "       'twentyfive_twentynine', 'thirty_thirtyfour', 'thirtyfive_thirtynine',\n",
       "       'forty_fortyfour', 'fortyfive_fortynine', 'fifty_fiftyfour', 'year'],\n",
       "      dtype='object')"
      ]
     },
     "execution_count": 99,
     "metadata": {},
     "output_type": "execute_result"
    }
   ],
   "source": [
    "age_pop_all_years.columns"
   ]
  },
  {
   "cell_type": "code",
   "execution_count": 100,
   "id": "9920656e",
   "metadata": {},
   "outputs": [],
   "source": [
    "age_pop_all_years['female_pop_15_54'] = age_pop_all_years.fifteen_nineteen+age_pop_all_years.twenty_twentyfour+age_pop_all_years.twentyfive_twentynine+age_pop_all_years.thirty_thirtyfour+age_pop_all_years.thirtyfive_thirtynine+age_pop_all_years.forty_fortyfour+age_pop_all_years.fortyfive_fortynine+age_pop_all_years.fifty_fiftyfour"
   ]
  },
  {
   "cell_type": "code",
   "execution_count": 101,
   "id": "7e4ea2bc",
   "metadata": {},
   "outputs": [],
   "source": [
    "age_pop_all_years = age_pop_all_years[['state','female_pop_15_54','year']]"
   ]
  },
  {
   "cell_type": "code",
   "execution_count": 102,
   "id": "4401df4a",
   "metadata": {},
   "outputs": [],
   "source": [
    "age_pop_all_years.state=age_pop_all_years.state.str.strip()"
   ]
  },
  {
   "cell_type": "code",
   "execution_count": 103,
   "id": "29ecf1e7",
   "metadata": {
    "scrolled": true
   },
   "outputs": [
    {
     "data": {
      "text/html": [
       "<div>\n",
       "<style scoped>\n",
       "    .dataframe tbody tr th:only-of-type {\n",
       "        vertical-align: middle;\n",
       "    }\n",
       "\n",
       "    .dataframe tbody tr th {\n",
       "        vertical-align: top;\n",
       "    }\n",
       "\n",
       "    .dataframe thead th {\n",
       "        text-align: right;\n",
       "    }\n",
       "</style>\n",
       "<table border=\"1\" class=\"dataframe\">\n",
       "  <thead>\n",
       "    <tr style=\"text-align: right;\">\n",
       "      <th></th>\n",
       "      <th>state</th>\n",
       "      <th>female_pop_15_54</th>\n",
       "      <th>year</th>\n",
       "    </tr>\n",
       "  </thead>\n",
       "  <tbody>\n",
       "    <tr>\n",
       "      <th>0</th>\n",
       "      <td>Alabama</td>\n",
       "      <td>1299879</td>\n",
       "      <td>2016</td>\n",
       "    </tr>\n",
       "    <tr>\n",
       "      <th>1</th>\n",
       "      <td>Alaska</td>\n",
       "      <td>194413</td>\n",
       "      <td>2016</td>\n",
       "    </tr>\n",
       "    <tr>\n",
       "      <th>2</th>\n",
       "      <td>Arizona</td>\n",
       "      <td>1729464</td>\n",
       "      <td>2016</td>\n",
       "    </tr>\n",
       "    <tr>\n",
       "      <th>3</th>\n",
       "      <td>Arkansas</td>\n",
       "      <td>772519</td>\n",
       "      <td>2016</td>\n",
       "    </tr>\n",
       "    <tr>\n",
       "      <th>4</th>\n",
       "      <td>California</td>\n",
       "      <td>10660375</td>\n",
       "      <td>2016</td>\n",
       "    </tr>\n",
       "  </tbody>\n",
       "</table>\n",
       "</div>"
      ],
      "text/plain": [
       "        state  female_pop_15_54  year\n",
       "0     Alabama           1299879  2016\n",
       "1      Alaska            194413  2016\n",
       "2     Arizona           1729464  2016\n",
       "3    Arkansas            772519  2016\n",
       "4  California          10660375  2016"
      ]
     },
     "execution_count": 103,
     "metadata": {},
     "output_type": "execute_result"
    }
   ],
   "source": [
    "age_pop_all_years.head()"
   ]
  },
  {
   "cell_type": "code",
   "execution_count": 104,
   "id": "2fbad0b3",
   "metadata": {},
   "outputs": [
    {
     "data": {
      "text/html": [
       "<div>\n",
       "<style scoped>\n",
       "    .dataframe tbody tr th:only-of-type {\n",
       "        vertical-align: middle;\n",
       "    }\n",
       "\n",
       "    .dataframe tbody tr th {\n",
       "        vertical-align: top;\n",
       "    }\n",
       "\n",
       "    .dataframe thead th {\n",
       "        text-align: right;\n",
       "    }\n",
       "</style>\n",
       "<table border=\"1\" class=\"dataframe\">\n",
       "  <thead>\n",
       "    <tr style=\"text-align: right;\">\n",
       "      <th></th>\n",
       "      <th>state</th>\n",
       "      <th>state_code</th>\n",
       "      <th>population</th>\n",
       "      <th>year</th>\n",
       "    </tr>\n",
       "  </thead>\n",
       "  <tbody>\n",
       "    <tr>\n",
       "      <th>1</th>\n",
       "      <td>Alabama</td>\n",
       "      <td>1</td>\n",
       "      <td>4863300</td>\n",
       "      <td>2016</td>\n",
       "    </tr>\n",
       "    <tr>\n",
       "      <th>2</th>\n",
       "      <td>Alaska</td>\n",
       "      <td>2</td>\n",
       "      <td>741894</td>\n",
       "      <td>2016</td>\n",
       "    </tr>\n",
       "    <tr>\n",
       "      <th>3</th>\n",
       "      <td>Arizona</td>\n",
       "      <td>4</td>\n",
       "      <td>6931071</td>\n",
       "      <td>2016</td>\n",
       "    </tr>\n",
       "    <tr>\n",
       "      <th>4</th>\n",
       "      <td>Arkansas</td>\n",
       "      <td>5</td>\n",
       "      <td>2988248</td>\n",
       "      <td>2016</td>\n",
       "    </tr>\n",
       "    <tr>\n",
       "      <th>5</th>\n",
       "      <td>California</td>\n",
       "      <td>6</td>\n",
       "      <td>39250017</td>\n",
       "      <td>2016</td>\n",
       "    </tr>\n",
       "  </tbody>\n",
       "</table>\n",
       "</div>"
      ],
      "text/plain": [
       "        state  state_code  population  year\n",
       "1     Alabama           1     4863300  2016\n",
       "2      Alaska           2      741894  2016\n",
       "3     Arizona           4     6931071  2016\n",
       "4    Arkansas           5     2988248  2016\n",
       "5  California           6    39250017  2016"
      ]
     },
     "execution_count": 104,
     "metadata": {},
     "output_type": "execute_result"
    }
   ],
   "source": [
    "pop_all_years.head()"
   ]
  },
  {
   "cell_type": "code",
   "execution_count": 105,
   "id": "36e0e4b5",
   "metadata": {},
   "outputs": [],
   "source": [
    "census_pop = pd.merge(age_pop_all_years,pop_all_years, how='inner', on=['state','year']).reset_index(drop=True)"
   ]
  },
  {
   "cell_type": "code",
   "execution_count": 106,
   "id": "fc129689",
   "metadata": {},
   "outputs": [],
   "source": [
    "census_pop= census_pop[['state','year','female_pop_15_54','population']].rename(columns = {'female_pop_15_54':'total_female_pop_15_54','population':'total_population'})"
   ]
  },
  {
   "cell_type": "markdown",
   "id": "fd3f7156",
   "metadata": {},
   "source": [
    "### Pop And Births Merge"
   ]
  },
  {
   "cell_type": "code",
   "execution_count": 107,
   "id": "2bbc2e25",
   "metadata": {},
   "outputs": [],
   "source": [
    "pop_and_births = pd.merge(births_all_years,pop_all_years, on=['state','state_code','year'], how='inner')"
   ]
  },
  {
   "cell_type": "code",
   "execution_count": 108,
   "id": "1e471956",
   "metadata": {},
   "outputs": [],
   "source": [
    "#pop_and_births = pd.merge(pop_and_births,age_pop_all_years, on=['state','year'], how='inner')"
   ]
  },
  {
   "cell_type": "markdown",
   "id": "af4ff398",
   "metadata": {},
   "source": [
    "### Bring in DEMO DATA"
   ]
  },
  {
   "cell_type": "code",
   "execution_count": 109,
   "id": "7c8a04a4",
   "metadata": {},
   "outputs": [],
   "source": [
    "two_demo = pd.read_csv('organized_data/ay_two_female.csv')\n",
    "nhopi_demo = pd.read_csv('organized_data/ay_nhopi_female.csv')\n",
    "asian_demo = pd.read_csv('organized_data/ay_asian_female.csv')\n",
    "aian_demo = pd.read_csv('organized_data/ay_aian_female.csv')\n",
    "aa_demo = pd.read_csv('organized_data/ay_aa_female.csv')\n",
    "yt_demo = pd.read_csv('organized_data/ay_yt_female.csv')\n",
    "his_demo = pd.read_csv('organized_data/ay_his_female.csv')"
   ]
  },
  {
   "cell_type": "code",
   "execution_count": 110,
   "id": "fbec10b9",
   "metadata": {},
   "outputs": [],
   "source": [
    "census_pop_total = pd.read_csv('organized_data/census_pop_total.csv')"
   ]
  },
  {
   "cell_type": "markdown",
   "id": "26eb432e",
   "metadata": {},
   "source": [
    "### MERGING WITH POP CENSUS"
   ]
  },
  {
   "cell_type": "code",
   "execution_count": 111,
   "id": "7ac0cbbd",
   "metadata": {},
   "outputs": [
    {
     "data": {
      "text/plain": [
       "(255, 4)"
      ]
     },
     "execution_count": 111,
     "metadata": {},
     "output_type": "execute_result"
    }
   ],
   "source": [
    "census_pop.shape"
   ]
  },
  {
   "cell_type": "code",
   "execution_count": 112,
   "id": "d3eca191",
   "metadata": {},
   "outputs": [],
   "source": [
    "merge1 = pd.merge(census_pop,his_demo, how='inner',on=['state','year'])"
   ]
  },
  {
   "cell_type": "code",
   "execution_count": 113,
   "id": "da8cd33b",
   "metadata": {},
   "outputs": [],
   "source": [
    "merge2 = pd.merge(merge1,yt_demo, how='inner',on=['state','year'])"
   ]
  },
  {
   "cell_type": "code",
   "execution_count": 114,
   "id": "5ffa417c",
   "metadata": {},
   "outputs": [],
   "source": [
    "merge3 = pd.merge(merge2,aa_demo, how='inner',on=['state','year'])"
   ]
  },
  {
   "cell_type": "code",
   "execution_count": 115,
   "id": "332f8502",
   "metadata": {},
   "outputs": [
    {
     "name": "stderr",
     "output_type": "stream",
     "text": [
      "C:\\Users\\Morgan\\AppData\\Local\\Temp/ipykernel_34808/2314395797.py:1: FutureWarning: Passing 'suffixes' which cause duplicate columns {'Unnamed: 0_x'} in the result is deprecated and will raise a MergeError in a future version.\n",
      "  merge4 = pd.merge(merge3,aian_demo, how='inner',on=['state','year'])\n"
     ]
    }
   ],
   "source": [
    "merge4 = pd.merge(merge3,aian_demo, how='inner',on=['state','year'])"
   ]
  },
  {
   "cell_type": "code",
   "execution_count": 116,
   "id": "ebd4d875",
   "metadata": {},
   "outputs": [],
   "source": [
    "merge5 = pd.merge(merge4,asian_demo, how='inner',on=['state','year'])"
   ]
  },
  {
   "cell_type": "code",
   "execution_count": 117,
   "id": "e0386790",
   "metadata": {},
   "outputs": [
    {
     "name": "stderr",
     "output_type": "stream",
     "text": [
      "C:\\Users\\Morgan\\AppData\\Local\\Temp/ipykernel_34808/1540597905.py:1: FutureWarning: Passing 'suffixes' which cause duplicate columns {'Unnamed: 0_x'} in the result is deprecated and will raise a MergeError in a future version.\n",
      "  merge6 = pd.merge(merge5,nhopi_demo, how='inner',on=['state','year'])\n"
     ]
    }
   ],
   "source": [
    "merge6 = pd.merge(merge5,nhopi_demo, how='inner',on=['state','year'])"
   ]
  },
  {
   "cell_type": "code",
   "execution_count": 118,
   "id": "0b3d558c",
   "metadata": {},
   "outputs": [],
   "source": [
    "merge7 = pd.merge(merge6,two_demo, how='inner',on=['state','year'])"
   ]
  },
  {
   "cell_type": "code",
   "execution_count": 119,
   "id": "dbd1b50a",
   "metadata": {
    "scrolled": true
   },
   "outputs": [
    {
     "data": {
      "text/html": [
       "<div>\n",
       "<style scoped>\n",
       "    .dataframe tbody tr th:only-of-type {\n",
       "        vertical-align: middle;\n",
       "    }\n",
       "\n",
       "    .dataframe tbody tr th {\n",
       "        vertical-align: top;\n",
       "    }\n",
       "\n",
       "    .dataframe thead th {\n",
       "        text-align: right;\n",
       "    }\n",
       "</style>\n",
       "<table border=\"1\" class=\"dataframe\">\n",
       "  <thead>\n",
       "    <tr style=\"text-align: right;\">\n",
       "      <th></th>\n",
       "      <th>state</th>\n",
       "      <th>year</th>\n",
       "      <th>total_female_pop_15_54</th>\n",
       "      <th>total_population</th>\n",
       "      <th>Unnamed: 0_x</th>\n",
       "      <th>his_total_pop</th>\n",
       "      <th>his_female_pop_15_54</th>\n",
       "      <th>Unnamed: 0_y</th>\n",
       "      <th>yt_total_pop</th>\n",
       "      <th>yt_female_pop_15_54</th>\n",
       "      <th>...</th>\n",
       "      <th>aian_female_pop_15_54</th>\n",
       "      <th>Unnamed: 0_x</th>\n",
       "      <th>asian_total_pop</th>\n",
       "      <th>asian_female_pop_15_54</th>\n",
       "      <th>Unnamed: 0_y</th>\n",
       "      <th>nhopi_total_pop</th>\n",
       "      <th>nhopi_female_pop_15_54</th>\n",
       "      <th>Unnamed: 0</th>\n",
       "      <th>two_total_pop</th>\n",
       "      <th>two_female_pop_15_54</th>\n",
       "    </tr>\n",
       "  </thead>\n",
       "  <tbody>\n",
       "    <tr>\n",
       "      <th>0</th>\n",
       "      <td>Alabama</td>\n",
       "      <td>2016</td>\n",
       "      <td>1299879</td>\n",
       "      <td>4863300</td>\n",
       "      <td>0</td>\n",
       "      <td>193503</td>\n",
       "      <td>13800</td>\n",
       "      <td>0</td>\n",
       "      <td>3325037</td>\n",
       "      <td>205677</td>\n",
       "      <td>...</td>\n",
       "      <td>1684</td>\n",
       "      <td>0</td>\n",
       "      <td>60744</td>\n",
       "      <td>4209</td>\n",
       "      <td>0</td>\n",
       "      <td>2008</td>\n",
       "      <td>124</td>\n",
       "      <td>0</td>\n",
       "      <td>85412</td>\n",
       "      <td>7418</td>\n",
       "    </tr>\n",
       "  </tbody>\n",
       "</table>\n",
       "<p>1 rows × 25 columns</p>\n",
       "</div>"
      ],
      "text/plain": [
       "     state  year  total_female_pop_15_54  total_population  Unnamed: 0_x  \\\n",
       "0  Alabama  2016                 1299879           4863300             0   \n",
       "\n",
       "   his_total_pop  his_female_pop_15_54  Unnamed: 0_y  yt_total_pop  \\\n",
       "0         193503                 13800             0       3325037   \n",
       "\n",
       "   yt_female_pop_15_54  ...  aian_female_pop_15_54  Unnamed: 0_x  \\\n",
       "0               205677  ...                   1684             0   \n",
       "\n",
       "   asian_total_pop  asian_female_pop_15_54  Unnamed: 0_y  nhopi_total_pop  \\\n",
       "0            60744                    4209             0             2008   \n",
       "\n",
       "   nhopi_female_pop_15_54  Unnamed: 0  two_total_pop  two_female_pop_15_54  \n",
       "0                     124           0          85412                  7418  \n",
       "\n",
       "[1 rows x 25 columns]"
      ]
     },
     "execution_count": 119,
     "metadata": {},
     "output_type": "execute_result"
    }
   ],
   "source": [
    "merge7.head(1)"
   ]
  },
  {
   "cell_type": "code",
   "execution_count": 120,
   "id": "4b52da07",
   "metadata": {},
   "outputs": [
    {
     "data": {
      "text/html": [
       "<div>\n",
       "<style scoped>\n",
       "    .dataframe tbody tr th:only-of-type {\n",
       "        vertical-align: middle;\n",
       "    }\n",
       "\n",
       "    .dataframe tbody tr th {\n",
       "        vertical-align: top;\n",
       "    }\n",
       "\n",
       "    .dataframe thead th {\n",
       "        text-align: right;\n",
       "    }\n",
       "</style>\n",
       "<table border=\"1\" class=\"dataframe\">\n",
       "  <thead>\n",
       "    <tr style=\"text-align: right;\">\n",
       "      <th></th>\n",
       "      <th>Unnamed: 0</th>\n",
       "      <th>state</th>\n",
       "      <th>total_pop</th>\n",
       "      <th>year</th>\n",
       "    </tr>\n",
       "  </thead>\n",
       "  <tbody>\n",
       "    <tr>\n",
       "      <th>0</th>\n",
       "      <td>1</td>\n",
       "      <td>Alabama</td>\n",
       "      <td>4841164</td>\n",
       "      <td>2016</td>\n",
       "    </tr>\n",
       "  </tbody>\n",
       "</table>\n",
       "</div>"
      ],
      "text/plain": [
       "   Unnamed: 0    state  total_pop  year\n",
       "0           1  Alabama    4841164  2016"
      ]
     },
     "execution_count": 120,
     "metadata": {},
     "output_type": "execute_result"
    }
   ],
   "source": [
    "census_pop_total.head(1)"
   ]
  },
  {
   "cell_type": "code",
   "execution_count": 121,
   "id": "9e1c2a0b",
   "metadata": {},
   "outputs": [
    {
     "name": "stderr",
     "output_type": "stream",
     "text": [
      "C:\\Users\\Morgan\\AppData\\Local\\Temp/ipykernel_34808/2066693237.py:1: FutureWarning: Passing 'suffixes' which cause duplicate columns {'Unnamed: 0_x'} in the result is deprecated and will raise a MergeError in a future version.\n",
      "  final_census_pop=pd.merge(merge7,census_pop_total, how='inner',on=['state','year'])\n"
     ]
    }
   ],
   "source": [
    "final_census_pop=pd.merge(merge7,census_pop_total, how='inner',on=['state','year'])"
   ]
  },
  {
   "cell_type": "code",
   "execution_count": 122,
   "id": "b2e83084",
   "metadata": {},
   "outputs": [
    {
     "data": {
      "text/plain": [
       "Index(['state', 'year', 'total_female_pop_15_54', 'total_population',\n",
       "       'Unnamed: 0_x', 'his_total_pop', 'his_female_pop_15_54', 'Unnamed: 0_y',\n",
       "       'yt_total_pop', 'yt_female_pop_15_54', 'Unnamed: 0_x', 'aa_total_pop',\n",
       "       'aa_female_pop_15_54', 'Unnamed: 0_y', 'aian_total_pop',\n",
       "       'aian_female_pop_15_54', 'Unnamed: 0_x', 'asian_total_pop',\n",
       "       'asian_female_pop_15_54', 'Unnamed: 0_y', 'nhopi_total_pop',\n",
       "       'nhopi_female_pop_15_54', 'Unnamed: 0_x', 'two_total_pop',\n",
       "       'two_female_pop_15_54', 'Unnamed: 0_y', 'total_pop'],\n",
       "      dtype='object')"
      ]
     },
     "execution_count": 122,
     "metadata": {},
     "output_type": "execute_result"
    }
   ],
   "source": [
    "final_census_pop.columns"
   ]
  },
  {
   "cell_type": "code",
   "execution_count": 123,
   "id": "d33eddc7",
   "metadata": {},
   "outputs": [],
   "source": [
    "final_census_pop = final_census_pop[['state', 'year', 'total_population','total_pop','total_female_pop_15_54',\n",
    "        'his_total_pop', 'his_female_pop_15_54', \n",
    "       'yt_total_pop', 'yt_female_pop_15_54',  'aa_total_pop',\n",
    "       'aa_female_pop_15_54',  'aian_total_pop',\n",
    "       'aian_female_pop_15_54',  'asian_total_pop',\n",
    "       'asian_female_pop_15_54',  'nhopi_total_pop',\n",
    "       'nhopi_female_pop_15_54',  'two_total_pop',\n",
    "       'two_female_pop_15_54']].rename(columns = {'total_pop':'census_pop','total_population':'cdc_pop'})"
   ]
  },
  {
   "cell_type": "code",
   "execution_count": 124,
   "id": "5f27d449",
   "metadata": {},
   "outputs": [],
   "source": [
    "final_census_pop.to_csv('organized_data/final_census_pop.csv')"
   ]
  },
  {
   "cell_type": "code",
   "execution_count": 125,
   "id": "33e9c5b0",
   "metadata": {
    "scrolled": true
   },
   "outputs": [],
   "source": [
    "pop_and_births.to_csv('organized_data/pop_and_births.csv')"
   ]
  },
  {
   "cell_type": "code",
   "execution_count": 128,
   "id": "85dcd04c",
   "metadata": {},
   "outputs": [
    {
     "data": {
      "text/plain": [
       "(255, 5)"
      ]
     },
     "execution_count": 128,
     "metadata": {},
     "output_type": "execute_result"
    }
   ],
   "source": [
    "pop_and_births.shape"
   ]
  },
  {
   "cell_type": "code",
   "execution_count": 127,
   "id": "25f4149b",
   "metadata": {},
   "outputs": [
    {
     "data": {
      "text/html": [
       "<div>\n",
       "<style scoped>\n",
       "    .dataframe tbody tr th:only-of-type {\n",
       "        vertical-align: middle;\n",
       "    }\n",
       "\n",
       "    .dataframe tbody tr th {\n",
       "        vertical-align: top;\n",
       "    }\n",
       "\n",
       "    .dataframe thead th {\n",
       "        text-align: right;\n",
       "    }\n",
       "</style>\n",
       "<table border=\"1\" class=\"dataframe\">\n",
       "  <thead>\n",
       "    <tr style=\"text-align: right;\">\n",
       "      <th></th>\n",
       "      <th>state</th>\n",
       "      <th>year</th>\n",
       "      <th>cdc_pop</th>\n",
       "      <th>census_pop</th>\n",
       "      <th>total_female_pop_15_54</th>\n",
       "      <th>his_total_pop</th>\n",
       "      <th>his_female_pop_15_54</th>\n",
       "      <th>yt_total_pop</th>\n",
       "      <th>yt_female_pop_15_54</th>\n",
       "      <th>aa_total_pop</th>\n",
       "      <th>aa_female_pop_15_54</th>\n",
       "      <th>aian_total_pop</th>\n",
       "      <th>aian_female_pop_15_54</th>\n",
       "      <th>asian_total_pop</th>\n",
       "      <th>asian_female_pop_15_54</th>\n",
       "      <th>nhopi_total_pop</th>\n",
       "      <th>nhopi_female_pop_15_54</th>\n",
       "      <th>two_total_pop</th>\n",
       "      <th>two_female_pop_15_54</th>\n",
       "    </tr>\n",
       "  </thead>\n",
       "  <tbody>\n",
       "    <tr>\n",
       "      <th>0</th>\n",
       "      <td>Alabama</td>\n",
       "      <td>2016</td>\n",
       "      <td>4863300</td>\n",
       "      <td>4841164</td>\n",
       "      <td>1299879</td>\n",
       "      <td>193503</td>\n",
       "      <td>13800</td>\n",
       "      <td>3325037</td>\n",
       "      <td>205677</td>\n",
       "      <td>1282053</td>\n",
       "      <td>106490</td>\n",
       "      <td>23919</td>\n",
       "      <td>1684</td>\n",
       "      <td>60744</td>\n",
       "      <td>4209</td>\n",
       "      <td>2008</td>\n",
       "      <td>124</td>\n",
       "      <td>85412</td>\n",
       "      <td>7418</td>\n",
       "    </tr>\n",
       "    <tr>\n",
       "      <th>1</th>\n",
       "      <td>Alaska</td>\n",
       "      <td>2016</td>\n",
       "      <td>741894</td>\n",
       "      <td>736855</td>\n",
       "      <td>194413</td>\n",
       "      <td>49031</td>\n",
       "      <td>4061</td>\n",
       "      <td>483518</td>\n",
       "      <td>28174</td>\n",
       "      <td>24443</td>\n",
       "      <td>1552</td>\n",
       "      <td>103574</td>\n",
       "      <td>8205</td>\n",
       "      <td>44218</td>\n",
       "      <td>3266</td>\n",
       "      <td>8862</td>\n",
       "      <td>868</td>\n",
       "      <td>62340</td>\n",
       "      <td>5956</td>\n",
       "    </tr>\n",
       "    <tr>\n",
       "      <th>2</th>\n",
       "      <td>Arizona</td>\n",
       "      <td>2016</td>\n",
       "      <td>6931071</td>\n",
       "      <td>6728577</td>\n",
       "      <td>1729464</td>\n",
       "      <td>2054849</td>\n",
       "      <td>183828</td>\n",
       "      <td>5235158</td>\n",
       "      <td>326223</td>\n",
       "      <td>287110</td>\n",
       "      <td>22852</td>\n",
       "      <td>296732</td>\n",
       "      <td>26095</td>\n",
       "      <td>205229</td>\n",
       "      <td>13592</td>\n",
       "      <td>12863</td>\n",
       "      <td>882</td>\n",
       "      <td>222579</td>\n",
       "      <td>21803</td>\n",
       "    </tr>\n",
       "    <tr>\n",
       "      <th>3</th>\n",
       "      <td>Arkansas</td>\n",
       "      <td>2016</td>\n",
       "      <td>2988248</td>\n",
       "      <td>2968472</td>\n",
       "      <td>772519</td>\n",
       "      <td>207049</td>\n",
       "      <td>17066</td>\n",
       "      <td>2307136</td>\n",
       "      <td>143823</td>\n",
       "      <td>460638</td>\n",
       "      <td>38315</td>\n",
       "      <td>18697</td>\n",
       "      <td>1385</td>\n",
       "      <td>41539</td>\n",
       "      <td>3135</td>\n",
       "      <td>6738</td>\n",
       "      <td>505</td>\n",
       "      <td>66079</td>\n",
       "      <td>6299</td>\n",
       "    </tr>\n",
       "    <tr>\n",
       "      <th>4</th>\n",
       "      <td>California</td>\n",
       "      <td>2016</td>\n",
       "      <td>39250017</td>\n",
       "      <td>38654206</td>\n",
       "      <td>10660375</td>\n",
       "      <td>14903982</td>\n",
       "      <td>1286841</td>\n",
       "      <td>23680584</td>\n",
       "      <td>1527082</td>\n",
       "      <td>2261835</td>\n",
       "      <td>171817</td>\n",
       "      <td>285512</td>\n",
       "      <td>21607</td>\n",
       "      <td>5354608</td>\n",
       "      <td>325403</td>\n",
       "      <td>150908</td>\n",
       "      <td>11259</td>\n",
       "      <td>1787159</td>\n",
       "      <td>168870</td>\n",
       "    </tr>\n",
       "    <tr>\n",
       "      <th>...</th>\n",
       "      <td>...</td>\n",
       "      <td>...</td>\n",
       "      <td>...</td>\n",
       "      <td>...</td>\n",
       "      <td>...</td>\n",
       "      <td>...</td>\n",
       "      <td>...</td>\n",
       "      <td>...</td>\n",
       "      <td>...</td>\n",
       "      <td>...</td>\n",
       "      <td>...</td>\n",
       "      <td>...</td>\n",
       "      <td>...</td>\n",
       "      <td>...</td>\n",
       "      <td>...</td>\n",
       "      <td>...</td>\n",
       "      <td>...</td>\n",
       "      <td>...</td>\n",
       "      <td>...</td>\n",
       "    </tr>\n",
       "    <tr>\n",
       "      <th>250</th>\n",
       "      <td>Virginia</td>\n",
       "      <td>2020</td>\n",
       "      <td>8590563</td>\n",
       "      <td>8509358</td>\n",
       "      <td>2259752</td>\n",
       "      <td>810770</td>\n",
       "      <td>63082</td>\n",
       "      <td>5643436</td>\n",
       "      <td>335980</td>\n",
       "      <td>1620649</td>\n",
       "      <td>116225</td>\n",
       "      <td>22553</td>\n",
       "      <td>1857</td>\n",
       "      <td>570398</td>\n",
       "      <td>34676</td>\n",
       "      <td>5994</td>\n",
       "      <td>509</td>\n",
       "      <td>405786</td>\n",
       "      <td>39105</td>\n",
       "    </tr>\n",
       "    <tr>\n",
       "      <th>251</th>\n",
       "      <td>Washington</td>\n",
       "      <td>2020</td>\n",
       "      <td>7693612</td>\n",
       "      <td>7512465</td>\n",
       "      <td>1958856</td>\n",
       "      <td>971522</td>\n",
       "      <td>84598</td>\n",
       "      <td>5523881</td>\n",
       "      <td>301799</td>\n",
       "      <td>290245</td>\n",
       "      <td>20508</td>\n",
       "      <td>91766</td>\n",
       "      <td>6258</td>\n",
       "      <td>662902</td>\n",
       "      <td>40095</td>\n",
       "      <td>51117</td>\n",
       "      <td>3792</td>\n",
       "      <td>531976</td>\n",
       "      <td>45675</td>\n",
       "    </tr>\n",
       "    <tr>\n",
       "      <th>252</th>\n",
       "      <td>West Virginia</td>\n",
       "      <td>2020</td>\n",
       "      <td>1784787</td>\n",
       "      <td>1807426</td>\n",
       "      <td>437009</td>\n",
       "      <td>28679</td>\n",
       "      <td>2516</td>\n",
       "      <td>1672255</td>\n",
       "      <td>96607</td>\n",
       "      <td>64285</td>\n",
       "      <td>4345</td>\n",
       "      <td>3146</td>\n",
       "      <td>338</td>\n",
       "      <td>14228</td>\n",
       "      <td>1083</td>\n",
       "      <td>474</td>\n",
       "      <td>37</td>\n",
       "      <td>43760</td>\n",
       "      <td>3515</td>\n",
       "    </tr>\n",
       "    <tr>\n",
       "      <th>253</th>\n",
       "      <td>Wisconsin</td>\n",
       "      <td>2020</td>\n",
       "      <td>5832655</td>\n",
       "      <td>5806975</td>\n",
       "      <td>1456004</td>\n",
       "      <td>408267</td>\n",
       "      <td>36031</td>\n",
       "      <td>4895065</td>\n",
       "      <td>304898</td>\n",
       "      <td>367889</td>\n",
       "      <td>29615</td>\n",
       "      <td>48674</td>\n",
       "      <td>3228</td>\n",
       "      <td>163396</td>\n",
       "      <td>14335</td>\n",
       "      <td>2672</td>\n",
       "      <td>226</td>\n",
       "      <td>194564</td>\n",
       "      <td>17442</td>\n",
       "    </tr>\n",
       "    <tr>\n",
       "      <th>254</th>\n",
       "      <td>Wyoming</td>\n",
       "      <td>2020</td>\n",
       "      <td>582328</td>\n",
       "      <td>581348</td>\n",
       "      <td>141050</td>\n",
       "      <td>58854</td>\n",
       "      <td>4463</td>\n",
       "      <td>525246</td>\n",
       "      <td>31057</td>\n",
       "      <td>5079</td>\n",
       "      <td>390</td>\n",
       "      <td>13117</td>\n",
       "      <td>1207</td>\n",
       "      <td>4892</td>\n",
       "      <td>503</td>\n",
       "      <td>589</td>\n",
       "      <td>177</td>\n",
       "      <td>22718</td>\n",
       "      <td>1935</td>\n",
       "    </tr>\n",
       "  </tbody>\n",
       "</table>\n",
       "<p>255 rows × 19 columns</p>\n",
       "</div>"
      ],
      "text/plain": [
       "             state  year   cdc_pop  census_pop  total_female_pop_15_54  \\\n",
       "0          Alabama  2016   4863300     4841164                 1299879   \n",
       "1           Alaska  2016    741894      736855                  194413   \n",
       "2          Arizona  2016   6931071     6728577                 1729464   \n",
       "3         Arkansas  2016   2988248     2968472                  772519   \n",
       "4       California  2016  39250017    38654206                10660375   \n",
       "..             ...   ...       ...         ...                     ...   \n",
       "250       Virginia  2020   8590563     8509358                 2259752   \n",
       "251     Washington  2020   7693612     7512465                 1958856   \n",
       "252  West Virginia  2020   1784787     1807426                  437009   \n",
       "253      Wisconsin  2020   5832655     5806975                 1456004   \n",
       "254        Wyoming  2020    582328      581348                  141050   \n",
       "\n",
       "     his_total_pop  his_female_pop_15_54  yt_total_pop  yt_female_pop_15_54  \\\n",
       "0           193503                 13800       3325037               205677   \n",
       "1            49031                  4061        483518                28174   \n",
       "2          2054849                183828       5235158               326223   \n",
       "3           207049                 17066       2307136               143823   \n",
       "4         14903982               1286841      23680584              1527082   \n",
       "..             ...                   ...           ...                  ...   \n",
       "250         810770                 63082       5643436               335980   \n",
       "251         971522                 84598       5523881               301799   \n",
       "252          28679                  2516       1672255                96607   \n",
       "253         408267                 36031       4895065               304898   \n",
       "254          58854                  4463        525246                31057   \n",
       "\n",
       "     aa_total_pop  aa_female_pop_15_54  aian_total_pop  aian_female_pop_15_54  \\\n",
       "0         1282053               106490           23919                   1684   \n",
       "1           24443                 1552          103574                   8205   \n",
       "2          287110                22852          296732                  26095   \n",
       "3          460638                38315           18697                   1385   \n",
       "4         2261835               171817          285512                  21607   \n",
       "..            ...                  ...             ...                    ...   \n",
       "250       1620649               116225           22553                   1857   \n",
       "251        290245                20508           91766                   6258   \n",
       "252         64285                 4345            3146                    338   \n",
       "253        367889                29615           48674                   3228   \n",
       "254          5079                  390           13117                   1207   \n",
       "\n",
       "     asian_total_pop  asian_female_pop_15_54  nhopi_total_pop  \\\n",
       "0              60744                    4209             2008   \n",
       "1              44218                    3266             8862   \n",
       "2             205229                   13592            12863   \n",
       "3              41539                    3135             6738   \n",
       "4            5354608                  325403           150908   \n",
       "..               ...                     ...              ...   \n",
       "250           570398                   34676             5994   \n",
       "251           662902                   40095            51117   \n",
       "252            14228                    1083              474   \n",
       "253           163396                   14335             2672   \n",
       "254             4892                     503              589   \n",
       "\n",
       "     nhopi_female_pop_15_54  two_total_pop  two_female_pop_15_54  \n",
       "0                       124          85412                  7418  \n",
       "1                       868          62340                  5956  \n",
       "2                       882         222579                 21803  \n",
       "3                       505          66079                  6299  \n",
       "4                     11259        1787159                168870  \n",
       "..                      ...            ...                   ...  \n",
       "250                     509         405786                 39105  \n",
       "251                    3792         531976                 45675  \n",
       "252                      37          43760                  3515  \n",
       "253                     226         194564                 17442  \n",
       "254                     177          22718                  1935  \n",
       "\n",
       "[255 rows x 19 columns]"
      ]
     },
     "execution_count": 127,
     "metadata": {},
     "output_type": "execute_result"
    }
   ],
   "source": [
    "final_census_pop"
   ]
  },
  {
   "cell_type": "code",
   "execution_count": null,
   "id": "bd4a0fcb",
   "metadata": {},
   "outputs": [],
   "source": []
  }
 ],
 "metadata": {
  "kernelspec": {
   "display_name": "Python 3 (ipykernel)",
   "language": "python",
   "name": "python3"
  },
  "language_info": {
   "codemirror_mode": {
    "name": "ipython",
    "version": 3
   },
   "file_extension": ".py",
   "mimetype": "text/x-python",
   "name": "python",
   "nbconvert_exporter": "python",
   "pygments_lexer": "ipython3",
   "version": "3.9.7"
  }
 },
 "nbformat": 4,
 "nbformat_minor": 5
}
