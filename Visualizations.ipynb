{
 "cells": [
  {
   "cell_type": "code",
   "execution_count": 1,
   "id": "6660b8ff",
   "metadata": {},
   "outputs": [],
   "source": [
    "import pandas as pd\n",
    "import matplotlib.pyplot as plt\n",
    "import seaborn as sns\n",
    "\n",
    "%matplotlib inline"
   ]
  },
  {
   "cell_type": "markdown",
   "id": "bfb17a35",
   "metadata": {},
   "source": [
    "### PULLING IN DATA"
   ]
  },
  {
   "cell_type": "code",
   "execution_count": 2,
   "id": "43c735b9",
   "metadata": {},
   "outputs": [],
   "source": [
    "pop_and_births = pd.read_csv('organized_data/pop_and_births.csv')"
   ]
  },
  {
   "cell_type": "code",
   "execution_count": 3,
   "id": "a2179788",
   "metadata": {},
   "outputs": [],
   "source": [
    "births_by_year = pop_and_births.groupby('year')['births'].sum().to_frame().reset_index()"
   ]
  },
  {
   "cell_type": "code",
   "execution_count": 4,
   "id": "d50f89d0",
   "metadata": {},
   "outputs": [],
   "source": [
    "demo_pop_all_years = pd.read_csv('organized_data/demo_pct_all_years.csv')"
   ]
  },
  {
   "cell_type": "code",
   "execution_count": 5,
   "id": "cddf8643",
   "metadata": {},
   "outputs": [],
   "source": [
    "demo_pop_all_years['his_lat_pct'] = demo_pop_all_years.his_lat_sum / demo_pop_all_years.total_pop_sum\n",
    "demo_pop_all_years['white_pct'] = demo_pop_all_years.white_sum / demo_pop_all_years.total_pop_sum\n",
    "demo_pop_all_years['black_aa_pct'] = demo_pop_all_years.black_aa_sum / demo_pop_all_years.total_pop_sum\n",
    "demo_pop_all_years['aian_pct'] = demo_pop_all_years.aian_sum / demo_pop_all_years.total_pop_sum\n",
    "demo_pop_all_years['asian_pct'] = demo_pop_all_years.asian_sum / demo_pop_all_years.total_pop_sum\n",
    "demo_pop_all_years['two_pct'] = demo_pop_all_years.two_sum / demo_pop_all_years.total_pop_sum\n",
    "demo_pop_all_years['nhopi_pct'] = demo_pop_all_years.nhopi_sum / demo_pop_all_years.total_pop_sum"
   ]
  },
  {
   "cell_type": "code",
   "execution_count": 6,
   "id": "06c9939b",
   "metadata": {},
   "outputs": [
    {
     "data": {
      "text/html": [
       "<div>\n",
       "<style scoped>\n",
       "    .dataframe tbody tr th:only-of-type {\n",
       "        vertical-align: middle;\n",
       "    }\n",
       "\n",
       "    .dataframe tbody tr th {\n",
       "        vertical-align: top;\n",
       "    }\n",
       "\n",
       "    .dataframe thead th {\n",
       "        text-align: right;\n",
       "    }\n",
       "</style>\n",
       "<table border=\"1\" class=\"dataframe\">\n",
       "  <thead>\n",
       "    <tr style=\"text-align: right;\">\n",
       "      <th></th>\n",
       "      <th>Unnamed: 0</th>\n",
       "      <th>year</th>\n",
       "      <th>total_pop_sum</th>\n",
       "      <th>his_lat_sum</th>\n",
       "      <th>white_sum</th>\n",
       "      <th>black_aa_sum</th>\n",
       "      <th>aian_sum</th>\n",
       "      <th>asian_sum</th>\n",
       "      <th>nhopi_sum</th>\n",
       "      <th>two_sum</th>\n",
       "      <th>his_lat_pct</th>\n",
       "      <th>white_pct</th>\n",
       "      <th>black_aa_pct</th>\n",
       "      <th>aian_pct</th>\n",
       "      <th>asian_pct</th>\n",
       "      <th>two_pct</th>\n",
       "      <th>nhopi_pct</th>\n",
       "    </tr>\n",
       "  </thead>\n",
       "  <tbody>\n",
       "    <tr>\n",
       "      <th>0</th>\n",
       "      <td>0</td>\n",
       "      <td>2016</td>\n",
       "      <td>318558162</td>\n",
       "      <td>55199107</td>\n",
       "      <td>197362672</td>\n",
       "      <td>39098319</td>\n",
       "      <td>2084326</td>\n",
       "      <td>16425317</td>\n",
       "      <td>508924</td>\n",
       "      <td>7203494</td>\n",
       "      <td>0.173278</td>\n",
       "      <td>0.619550</td>\n",
       "      <td>0.122735</td>\n",
       "      <td>0.006543</td>\n",
       "      <td>0.051561</td>\n",
       "      <td>0.022613</td>\n",
       "      <td>0.001598</td>\n",
       "    </tr>\n",
       "    <tr>\n",
       "      <th>1</th>\n",
       "      <td>1</td>\n",
       "      <td>2017</td>\n",
       "      <td>321004407</td>\n",
       "      <td>56510571</td>\n",
       "      <td>197277789</td>\n",
       "      <td>39445495</td>\n",
       "      <td>2098763</td>\n",
       "      <td>16989540</td>\n",
       "      <td>515522</td>\n",
       "      <td>7451295</td>\n",
       "      <td>0.176043</td>\n",
       "      <td>0.614564</td>\n",
       "      <td>0.122881</td>\n",
       "      <td>0.006538</td>\n",
       "      <td>0.052926</td>\n",
       "      <td>0.023212</td>\n",
       "      <td>0.001606</td>\n",
       "    </tr>\n",
       "    <tr>\n",
       "      <th>2</th>\n",
       "      <td>2</td>\n",
       "      <td>2018</td>\n",
       "      <td>322903030</td>\n",
       "      <td>57517935</td>\n",
       "      <td>197181177</td>\n",
       "      <td>39715917</td>\n",
       "      <td>2135479</td>\n",
       "      <td>17367169</td>\n",
       "      <td>525102</td>\n",
       "      <td>7705755</td>\n",
       "      <td>0.178128</td>\n",
       "      <td>0.610651</td>\n",
       "      <td>0.122996</td>\n",
       "      <td>0.006613</td>\n",
       "      <td>0.053784</td>\n",
       "      <td>0.023864</td>\n",
       "      <td>0.001626</td>\n",
       "    </tr>\n",
       "    <tr>\n",
       "      <th>3</th>\n",
       "      <td>3</td>\n",
       "      <td>2019</td>\n",
       "      <td>324697795</td>\n",
       "      <td>58479370</td>\n",
       "      <td>197100373</td>\n",
       "      <td>39977554</td>\n",
       "      <td>2160378</td>\n",
       "      <td>17708954</td>\n",
       "      <td>540511</td>\n",
       "      <td>7941608</td>\n",
       "      <td>0.180104</td>\n",
       "      <td>0.607027</td>\n",
       "      <td>0.123122</td>\n",
       "      <td>0.006654</td>\n",
       "      <td>0.054540</td>\n",
       "      <td>0.024458</td>\n",
       "      <td>0.001665</td>\n",
       "    </tr>\n",
       "    <tr>\n",
       "      <th>4</th>\n",
       "      <td>4</td>\n",
       "      <td>2020</td>\n",
       "      <td>326569308</td>\n",
       "      <td>59361020</td>\n",
       "      <td>196251375</td>\n",
       "      <td>39994653</td>\n",
       "      <td>2075852</td>\n",
       "      <td>18184182</td>\n",
       "      <td>550080</td>\n",
       "      <td>9134542</td>\n",
       "      <td>0.181772</td>\n",
       "      <td>0.600949</td>\n",
       "      <td>0.122469</td>\n",
       "      <td>0.006357</td>\n",
       "      <td>0.055682</td>\n",
       "      <td>0.027971</td>\n",
       "      <td>0.001684</td>\n",
       "    </tr>\n",
       "  </tbody>\n",
       "</table>\n",
       "</div>"
      ],
      "text/plain": [
       "   Unnamed: 0  year  total_pop_sum  his_lat_sum  white_sum  black_aa_sum  \\\n",
       "0           0  2016      318558162     55199107  197362672      39098319   \n",
       "1           1  2017      321004407     56510571  197277789      39445495   \n",
       "2           2  2018      322903030     57517935  197181177      39715917   \n",
       "3           3  2019      324697795     58479370  197100373      39977554   \n",
       "4           4  2020      326569308     59361020  196251375      39994653   \n",
       "\n",
       "   aian_sum  asian_sum  nhopi_sum  two_sum  his_lat_pct  white_pct  \\\n",
       "0   2084326   16425317     508924  7203494     0.173278   0.619550   \n",
       "1   2098763   16989540     515522  7451295     0.176043   0.614564   \n",
       "2   2135479   17367169     525102  7705755     0.178128   0.610651   \n",
       "3   2160378   17708954     540511  7941608     0.180104   0.607027   \n",
       "4   2075852   18184182     550080  9134542     0.181772   0.600949   \n",
       "\n",
       "   black_aa_pct  aian_pct  asian_pct   two_pct  nhopi_pct  \n",
       "0      0.122735  0.006543   0.051561  0.022613   0.001598  \n",
       "1      0.122881  0.006538   0.052926  0.023212   0.001606  \n",
       "2      0.122996  0.006613   0.053784  0.023864   0.001626  \n",
       "3      0.123122  0.006654   0.054540  0.024458   0.001665  \n",
       "4      0.122469  0.006357   0.055682  0.027971   0.001684  "
      ]
     },
     "execution_count": 6,
     "metadata": {},
     "output_type": "execute_result"
    }
   ],
   "source": [
    "demo_pop_all_years"
   ]
  },
  {
   "cell_type": "code",
   "execution_count": 7,
   "id": "c6e9bb8a",
   "metadata": {},
   "outputs": [],
   "source": [
    "#demo_pop_all_years = demo_pop_all_years.year.astype(object)"
   ]
  },
  {
   "cell_type": "code",
   "execution_count": 8,
   "id": "27f628e7",
   "metadata": {},
   "outputs": [],
   "source": [
    "#demo_pop_all_years = demo_pop_all_years[['year','his_lat_pct','white_pct','black_aa_pct','aian_pct','asian_pct','two_pct','nhopi_pct']].transpose().reset_index()"
   ]
  },
  {
   "cell_type": "code",
   "execution_count": 9,
   "id": "c82eb204",
   "metadata": {},
   "outputs": [],
   "source": [
    "#demo_pop_all_years.columns = demo_pop_all_years.iloc[0]"
   ]
  },
  {
   "cell_type": "code",
   "execution_count": 10,
   "id": "76887ff0",
   "metadata": {},
   "outputs": [],
   "source": [
    "#demo_pop_all_years.tail(7).reset_index().rename(columns = {'index':'demo'})"
   ]
  },
  {
   "cell_type": "code",
   "execution_count": 18,
   "id": "87ab0626",
   "metadata": {},
   "outputs": [],
   "source": [
    "births_by_year.to_csv('viz_tables/births_by_year.csv')"
   ]
  },
  {
   "cell_type": "markdown",
   "id": "03e05dc0",
   "metadata": {},
   "source": [
    "### BIRTHS TOTAL VISUALIZATIONS"
   ]
  },
  {
   "cell_type": "code",
   "execution_count": 12,
   "id": "1adf7c9b",
   "metadata": {},
   "outputs": [],
   "source": [
    "import matplotlib.ticker as ticker"
   ]
  },
  {
   "cell_type": "code",
   "execution_count": 13,
   "id": "5017f425",
   "metadata": {},
   "outputs": [],
   "source": [
    "def millions_formatter(x, pos):\n",
    "    return f'{x / 1000000}'"
   ]
  },
  {
   "cell_type": "code",
   "execution_count": 14,
   "id": "e82ef01c",
   "metadata": {},
   "outputs": [
    {
     "ename": "NameError",
     "evalue": "name 'FuncFormatter' is not defined",
     "output_type": "error",
     "traceback": [
      "\u001b[1;31m---------------------------------------------------------------------------\u001b[0m",
      "\u001b[1;31mNameError\u001b[0m                                 Traceback (most recent call last)",
      "\u001b[1;32m~\\AppData\\Local\\Temp/ipykernel_19552/441630028.py\u001b[0m in \u001b[0;36m<module>\u001b[1;34m\u001b[0m\n\u001b[0;32m      8\u001b[0m \u001b[1;33m\u001b[0m\u001b[0m\n\u001b[0;32m      9\u001b[0m \u001b[1;31m#ax.plot([1, 2], [1000000, 4000000])\u001b[0m\u001b[1;33m\u001b[0m\u001b[1;33m\u001b[0m\u001b[0m\n\u001b[1;32m---> 10\u001b[1;33m \u001b[0max\u001b[0m\u001b[1;33m.\u001b[0m\u001b[0myaxis\u001b[0m\u001b[1;33m.\u001b[0m\u001b[0mset_major_formatter\u001b[0m\u001b[1;33m(\u001b[0m\u001b[0mFuncFormatter\u001b[0m\u001b[1;33m(\u001b[0m\u001b[0mmillions_formatter\u001b[0m\u001b[1;33m)\u001b[0m\u001b[1;33m)\u001b[0m\u001b[1;33m\u001b[0m\u001b[1;33m\u001b[0m\u001b[0m\n\u001b[0m\u001b[0;32m     11\u001b[0m \u001b[0max\u001b[0m\u001b[1;33m.\u001b[0m\u001b[0mset_ylabel\u001b[0m\u001b[1;33m(\u001b[0m\u001b[1;34m'value (in millions)'\u001b[0m\u001b[1;33m)\u001b[0m\u001b[1;33m\u001b[0m\u001b[1;33m\u001b[0m\u001b[0m\n\u001b[0;32m     12\u001b[0m \u001b[1;33m\u001b[0m\u001b[0m\n",
      "\u001b[1;31mNameError\u001b[0m: name 'FuncFormatter' is not defined"
     ]
    },
    {
     "data": {
      "image/png": "[encoded data removed]",
      "text/plain": [
       "<Figure size 720x432 with 1 Axes>"
      ]
     },
     "metadata": {
      "needs_background": "light"
     },
     "output_type": "display_data"
    }
   ],
   "source": [
    "fig, ax = plt.subplots(figsize=(10,6))\n",
    "sns.barplot(data=births_by_year,\n",
    "            y= 'births',\n",
    "            x= 'year',\n",
    "            #hue = 'demo',\n",
    "            palette = 'colorblind')\n",
    "            #orient = 'h')\n",
    "    \n",
    "#ax.plot([1, 2], [1000000, 4000000])\n",
    "ax.yaxis.set_major_formatter(FuncFormatter(millions_formatter))\n",
    "ax.set_ylabel('value (in millions)')\n",
    "\n",
    "plt.ylabel('Number of Births (in Millions)',fontsize = 12)\n",
    "plt.xlabel('Year',fontsize = 12)\n",
    "#plt.legend(loc='upper right', bbox_to_anchor=(1.35, 1))\n",
    "#plt.xticks(rotation='vertical')"
   ]
  },
  {
   "cell_type": "code",
   "execution_count": null,
   "id": "6ee7ea49",
   "metadata": {},
   "outputs": [],
   "source": []
  }
 ],
 "metadata": {
  "kernelspec": {
   "display_name": "Python 3 (ipykernel)",
   "language": "python",
   "name": "python3"
  },
  "language_info": {
   "codemirror_mode": {
    "name": "ipython",
    "version": 3
   },
   "file_extension": ".py",
   "mimetype": "text/x-python",
   "name": "python",
   "nbconvert_exporter": "python",
   "pygments_lexer": "ipython3",
   "version": "3.9.7"
  }
 },
 "nbformat": 4,
 "nbformat_minor": 5
}
