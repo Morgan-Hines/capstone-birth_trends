{
 "cells": [
  {
   "cell_type": "code",
   "execution_count": 1,
   "id": "0216d7fc",
   "metadata": {},
   "outputs": [],
   "source": [
    "import pandas as pd\n",
    "import matplotlib.pyplot as plt\n",
    "import seaborn as sns\n",
    "%matplotlib inline"
   ]
  },
  {
   "cell_type": "markdown",
   "id": "0c5f07b1",
   "metadata": {},
   "source": [
    "### PULLING IN POVERTY DATA"
   ]
  },
  {
   "cell_type": "code",
   "execution_count": 2,
   "id": "225b889a",
   "metadata": {},
   "outputs": [],
   "source": [
    "pov_2016 = pd.read_csv('actual_data/poverty_2016.csv')"
   ]
  },
  {
   "cell_type": "code",
   "execution_count": 3,
   "id": "b578bd83",
   "metadata": {},
   "outputs": [],
   "source": [
    "pov_2017 = pd.read_csv('actual_data/poverty_2017.csv')"
   ]
  },
  {
   "cell_type": "code",
   "execution_count": 4,
   "id": "e1bbd9ab",
   "metadata": {},
   "outputs": [],
   "source": [
    "pov_2018 = pd.read_csv('actual_data/poverty_2018.csv')"
   ]
  },
  {
   "cell_type": "code",
   "execution_count": 5,
   "id": "37454bb0",
   "metadata": {},
   "outputs": [],
   "source": [
    "pov_2019 = pd.read_csv('actual_data/poverty_2019.csv')"
   ]
  },
  {
   "cell_type": "code",
   "execution_count": 6,
   "id": "ddf6f940",
   "metadata": {},
   "outputs": [],
   "source": [
    "pov_2020 = pd.read_csv('actual_data/poverty_2020.csv')"
   ]
  },
  {
   "cell_type": "markdown",
   "id": "75a28589",
   "metadata": {},
   "source": [
    "### ORGANIZING FRAMES"
   ]
  },
  {
   "cell_type": "code",
   "execution_count": 7,
   "id": "b420d21b",
   "metadata": {},
   "outputs": [],
   "source": [
    "pov_2016['Total:!!Women who had a birth in the past 12 months:'] = pov_2016['Total:!!Women who had a birth in the past 12 months:'].shift(-1).str.replace(',','')\n",
    "pov_2016['Total:!!Women who had a birth in the past 12 months:!!Now married (including separated and spouse absent):!!Below 100 percent of poverty level in the past 12 months'] = pov_2016['Total:!!Women who had a birth in the past 12 months:!!Now married (including separated and spouse absent):!!Below 100 percent of poverty level in the past 12 months'].shift(-1).str.replace(',','')\n",
    "pov_2016['Total:!!Women who had a birth in the past 12 months:!!Now married (including separated and spouse absent):!!100 to 199 percent of poverty level in the past 12 months'] = pov_2016['Total:!!Women who had a birth in the past 12 months:!!Now married (including separated and spouse absent):!!100 to 199 percent of poverty level in the past 12 months'].shift(-1).str.replace(',','')\n",
    "pov_2016['Total:!!Women who had a birth in the past 12 months:!!Now married (including separated and spouse absent):!!200 percent or more of poverty level in the past 12 months'] = pov_2016['Total:!!Women who had a birth in the past 12 months:!!Now married (including separated and spouse absent):!!200 percent or more of poverty level in the past 12 months'].shift(-1).str.replace(',','')\n",
    "pov_2016['Total:!!Women who had a birth in the past 12 months:!!Unmarried (never married, widowed and divorced):!!Below 100 percent of poverty level in the past 12 months'] = pov_2016['Total:!!Women who had a birth in the past 12 months:!!Unmarried (never married, widowed and divorced):!!Below 100 percent of poverty level in the past 12 months'].shift(-1).str.replace(',','')\n",
    "pov_2016['Total:!!Women who had a birth in the past 12 months:!!Unmarried (never married, widowed and divorced):!!100 to 199 percent of poverty level in the past 12 months'] = pov_2016['Total:!!Women who had a birth in the past 12 months:!!Unmarried (never married, widowed and divorced):!!100 to 199 percent of poverty level in the past 12 months'].shift(-1).str.replace(',','')\n",
    "pov_2016['Total:!!Women who had a birth in the past 12 months:!!Unmarried (never married, widowed and divorced):!!200 percent or more of poverty level in the past 12 months'] = pov_2016['Total:!!Women who had a birth in the past 12 months:!!Unmarried (never married, widowed and divorced):!!200 percent or more of poverty level in the past 12 months'].shift(-1).str.replace(',','')\n",
    "pov_2016 = pov_2016.dropna().reset_index(drop=True)"
   ]
  },
  {
   "cell_type": "code",
   "execution_count": 8,
   "id": "5da83c1b",
   "metadata": {},
   "outputs": [],
   "source": [
    "pov_2016 = pov_2016.rename(columns = {'Total:!!Women who had a birth in the past 12 months:':'birth_women_total','Total:!!Women who had a birth in the past 12 months:!!Now married (including separated and spouse absent):!!Below 100 percent of poverty level in the past 12 months':'m_100',\n",
    "                          'Total:!!Women who had a birth in the past 12 months:!!Now married (including separated and spouse absent):!!100 to 199 percent of poverty level in the past 12 months':'m_100_199',\n",
    "                          'Total:!!Women who had a birth in the past 12 months:!!Now married (including separated and spouse absent):!!200 percent or more of poverty level in the past 12 months':'m_200',\n",
    "                          'Total:!!Women who had a birth in the past 12 months:!!Unmarried (never married, widowed and divorced):!!Below 100 percent of poverty level in the past 12 months':'u_100',\n",
    "                          'Total:!!Women who had a birth in the past 12 months:!!Unmarried (never married, widowed and divorced):!!100 to 199 percent of poverty level in the past 12 months':'u_100_199',\n",
    "                          'Total:!!Women who had a birth in the past 12 months:!!Unmarried (never married, widowed and divorced):!!200 percent or more of poverty level in the past 12 months':'u_200',\n",
    "                          'Label (Grouping)':'state'})"
   ]
  },
  {
   "cell_type": "code",
   "execution_count": 9,
   "id": "1ef9072d",
   "metadata": {},
   "outputs": [],
   "source": [
    "pov_2016['year']=2016"
   ]
  },
  {
   "cell_type": "code",
   "execution_count": 10,
   "id": "9b5d04d7",
   "metadata": {},
   "outputs": [
    {
     "data": {
      "text/html": [
       "<div>\n",
       "<style scoped>\n",
       "    .dataframe tbody tr th:only-of-type {\n",
       "        vertical-align: middle;\n",
       "    }\n",
       "\n",
       "    .dataframe tbody tr th {\n",
       "        vertical-align: top;\n",
       "    }\n",
       "\n",
       "    .dataframe thead th {\n",
       "        text-align: right;\n",
       "    }\n",
       "</style>\n",
       "<table border=\"1\" class=\"dataframe\">\n",
       "  <thead>\n",
       "    <tr style=\"text-align: right;\">\n",
       "      <th></th>\n",
       "      <th>state</th>\n",
       "      <th>birth_women_total</th>\n",
       "      <th>m_100</th>\n",
       "      <th>m_100_199</th>\n",
       "      <th>m_200</th>\n",
       "      <th>u_100</th>\n",
       "      <th>u_100_199</th>\n",
       "      <th>u_200</th>\n",
       "      <th>year</th>\n",
       "    </tr>\n",
       "  </thead>\n",
       "  <tbody>\n",
       "    <tr>\n",
       "      <th>0</th>\n",
       "      <td>Alabama</td>\n",
       "      <td>59094</td>\n",
       "      <td>5839</td>\n",
       "      <td>8030</td>\n",
       "      <td>20219</td>\n",
       "      <td>12970</td>\n",
       "      <td>5832</td>\n",
       "      <td>6204</td>\n",
       "      <td>2016</td>\n",
       "    </tr>\n",
       "  </tbody>\n",
       "</table>\n",
       "</div>"
      ],
      "text/plain": [
       "     state birth_women_total m_100 m_100_199  m_200  u_100 u_100_199 u_200  \\\n",
       "0  Alabama             59094  5839      8030  20219  12970      5832  6204   \n",
       "\n",
       "   year  \n",
       "0  2016  "
      ]
     },
     "execution_count": 10,
     "metadata": {},
     "output_type": "execute_result"
    }
   ],
   "source": [
    "pov_2016.head(1)"
   ]
  },
  {
   "cell_type": "code",
   "execution_count": 11,
   "id": "cc9ad8c5",
   "metadata": {},
   "outputs": [],
   "source": [
    "pov_2017['Total:!!Women who had a birth in the past 12 months:'] = pov_2017['Total:!!Women who had a birth in the past 12 months:'].shift(-1).str.replace(',','')\n",
    "pov_2017['Total:!!Women who had a birth in the past 12 months:!!Now married (including separated and spouse absent):!!Below 100 percent of poverty level in the past 12 months'] = pov_2017['Total:!!Women who had a birth in the past 12 months:!!Now married (including separated and spouse absent):!!Below 100 percent of poverty level in the past 12 months'].shift(-1).str.replace(',','')\n",
    "pov_2017['Total:!!Women who had a birth in the past 12 months:!!Now married (including separated and spouse absent):!!100 to 199 percent of poverty level in the past 12 months'] = pov_2017['Total:!!Women who had a birth in the past 12 months:!!Now married (including separated and spouse absent):!!100 to 199 percent of poverty level in the past 12 months'].shift(-1).str.replace(',','')\n",
    "pov_2017['Total:!!Women who had a birth in the past 12 months:!!Now married (including separated and spouse absent):!!200 percent or more of poverty level in the past 12 months'] = pov_2017['Total:!!Women who had a birth in the past 12 months:!!Now married (including separated and spouse absent):!!200 percent or more of poverty level in the past 12 months'].shift(-1).str.replace(',','')\n",
    "pov_2017['Total:!!Women who had a birth in the past 12 months:!!Unmarried (never married, widowed and divorced):!!Below 100 percent of poverty level in the past 12 months'] = pov_2017['Total:!!Women who had a birth in the past 12 months:!!Unmarried (never married, widowed and divorced):!!Below 100 percent of poverty level in the past 12 months'].shift(-1).str.replace(',','')\n",
    "pov_2017['Total:!!Women who had a birth in the past 12 months:!!Unmarried (never married, widowed and divorced):!!100 to 199 percent of poverty level in the past 12 months'] = pov_2017['Total:!!Women who had a birth in the past 12 months:!!Unmarried (never married, widowed and divorced):!!100 to 199 percent of poverty level in the past 12 months'].shift(-1).str.replace(',','')\n",
    "pov_2017['Total:!!Women who had a birth in the past 12 months:!!Unmarried (never married, widowed and divorced):!!200 percent or more of poverty level in the past 12 months'] = pov_2017['Total:!!Women who had a birth in the past 12 months:!!Unmarried (never married, widowed and divorced):!!200 percent or more of poverty level in the past 12 months'].shift(-1).str.replace(',','')\n",
    "pov_2017 = pov_2017.dropna().reset_index(drop=True)"
   ]
  },
  {
   "cell_type": "code",
   "execution_count": 12,
   "id": "38ccdc00",
   "metadata": {},
   "outputs": [],
   "source": [
    "pov_2017 = pov_2017.rename(columns = {'Total:!!Women who had a birth in the past 12 months:':'birth_women_total','Total:!!Women who had a birth in the past 12 months:!!Now married (including separated and spouse absent):!!Below 100 percent of poverty level in the past 12 months':'m_100',\n",
    "                          'Total:!!Women who had a birth in the past 12 months:!!Now married (including separated and spouse absent):!!100 to 199 percent of poverty level in the past 12 months':'m_100_199',\n",
    "                          'Total:!!Women who had a birth in the past 12 months:!!Now married (including separated and spouse absent):!!200 percent or more of poverty level in the past 12 months':'m_200',\n",
    "                          'Total:!!Women who had a birth in the past 12 months:!!Unmarried (never married, widowed and divorced):!!Below 100 percent of poverty level in the past 12 months':'u_100',\n",
    "                          'Total:!!Women who had a birth in the past 12 months:!!Unmarried (never married, widowed and divorced):!!100 to 199 percent of poverty level in the past 12 months':'u_100_199',\n",
    "                          'Total:!!Women who had a birth in the past 12 months:!!Unmarried (never married, widowed and divorced):!!200 percent or more of poverty level in the past 12 months':'u_200',\n",
    "                          'Label (Grouping)':'state'})"
   ]
  },
  {
   "cell_type": "code",
   "execution_count": 13,
   "id": "22f9999c",
   "metadata": {},
   "outputs": [],
   "source": [
    "pov_2017['year']=2017"
   ]
  },
  {
   "cell_type": "code",
   "execution_count": 14,
   "id": "a5c3fbaf",
   "metadata": {},
   "outputs": [
    {
     "data": {
      "text/html": [
       "<div>\n",
       "<style scoped>\n",
       "    .dataframe tbody tr th:only-of-type {\n",
       "        vertical-align: middle;\n",
       "    }\n",
       "\n",
       "    .dataframe tbody tr th {\n",
       "        vertical-align: top;\n",
       "    }\n",
       "\n",
       "    .dataframe thead th {\n",
       "        text-align: right;\n",
       "    }\n",
       "</style>\n",
       "<table border=\"1\" class=\"dataframe\">\n",
       "  <thead>\n",
       "    <tr style=\"text-align: right;\">\n",
       "      <th></th>\n",
       "      <th>state</th>\n",
       "      <th>birth_women_total</th>\n",
       "      <th>m_100</th>\n",
       "      <th>m_100_199</th>\n",
       "      <th>m_200</th>\n",
       "      <th>u_100</th>\n",
       "      <th>u_100_199</th>\n",
       "      <th>u_200</th>\n",
       "      <th>year</th>\n",
       "    </tr>\n",
       "  </thead>\n",
       "  <tbody>\n",
       "    <tr>\n",
       "      <th>0</th>\n",
       "      <td>Alabama</td>\n",
       "      <td>58463</td>\n",
       "      <td>5696</td>\n",
       "      <td>7654</td>\n",
       "      <td>20825</td>\n",
       "      <td>12750</td>\n",
       "      <td>5320</td>\n",
       "      <td>6218</td>\n",
       "      <td>2017</td>\n",
       "    </tr>\n",
       "  </tbody>\n",
       "</table>\n",
       "</div>"
      ],
      "text/plain": [
       "     state birth_women_total m_100 m_100_199  m_200  u_100 u_100_199 u_200  \\\n",
       "0  Alabama             58463  5696      7654  20825  12750      5320  6218   \n",
       "\n",
       "   year  \n",
       "0  2017  "
      ]
     },
     "execution_count": 14,
     "metadata": {},
     "output_type": "execute_result"
    }
   ],
   "source": [
    "pov_2017.head(1)"
   ]
  },
  {
   "cell_type": "code",
   "execution_count": 15,
   "id": "1f9fc8e6",
   "metadata": {},
   "outputs": [],
   "source": [
    "pov_2018['Total:!!Women who had a birth in the past 12 months:'] = pov_2018['Total:!!Women who had a birth in the past 12 months:'].shift(-1).str.replace(',','')\n",
    "pov_2018['Total:!!Women who had a birth in the past 12 months:!!Now married (including separated and spouse absent):!!Below 100 percent of poverty level in the past 12 months'] = pov_2018['Total:!!Women who had a birth in the past 12 months:!!Now married (including separated and spouse absent):!!Below 100 percent of poverty level in the past 12 months'].shift(-1).str.replace(',','')\n",
    "pov_2018['Total:!!Women who had a birth in the past 12 months:!!Now married (including separated and spouse absent):!!100 to 199 percent of poverty level in the past 12 months'] = pov_2018['Total:!!Women who had a birth in the past 12 months:!!Now married (including separated and spouse absent):!!100 to 199 percent of poverty level in the past 12 months'].shift(-1).str.replace(',','')\n",
    "pov_2018['Total:!!Women who had a birth in the past 12 months:!!Now married (including separated and spouse absent):!!200 percent or more of poverty level in the past 12 months'] = pov_2018['Total:!!Women who had a birth in the past 12 months:!!Now married (including separated and spouse absent):!!200 percent or more of poverty level in the past 12 months'].shift(-1).str.replace(',','')\n",
    "pov_2018['Total:!!Women who had a birth in the past 12 months:!!Unmarried (never married, widowed and divorced):!!Below 100 percent of poverty level in the past 12 months'] = pov_2018['Total:!!Women who had a birth in the past 12 months:!!Unmarried (never married, widowed and divorced):!!Below 100 percent of poverty level in the past 12 months'].shift(-1).str.replace(',','')\n",
    "pov_2018['Total:!!Women who had a birth in the past 12 months:!!Unmarried (never married, widowed and divorced):!!100 to 199 percent of poverty level in the past 12 months'] = pov_2018['Total:!!Women who had a birth in the past 12 months:!!Unmarried (never married, widowed and divorced):!!100 to 199 percent of poverty level in the past 12 months'].shift(-1).str.replace(',','')\n",
    "pov_2018['Total:!!Women who had a birth in the past 12 months:!!Unmarried (never married, widowed and divorced):!!200 percent or more of poverty level in the past 12 months'] = pov_2018['Total:!!Women who had a birth in the past 12 months:!!Unmarried (never married, widowed and divorced):!!200 percent or more of poverty level in the past 12 months'].shift(-1).str.replace(',','')\n",
    "pov_2018 = pov_2018.dropna().reset_index(drop=True)"
   ]
  },
  {
   "cell_type": "code",
   "execution_count": 16,
   "id": "6165b93d",
   "metadata": {},
   "outputs": [],
   "source": [
    "pov_2018 = pov_2018.rename(columns = {'Total:!!Women who had a birth in the past 12 months:':'birth_women_total','Total:!!Women who had a birth in the past 12 months:!!Now married (including separated and spouse absent):!!Below 100 percent of poverty level in the past 12 months':'m_100',\n",
    "                          'Total:!!Women who had a birth in the past 12 months:!!Now married (including separated and spouse absent):!!100 to 199 percent of poverty level in the past 12 months':'m_100_199',\n",
    "                          'Total:!!Women who had a birth in the past 12 months:!!Now married (including separated and spouse absent):!!200 percent or more of poverty level in the past 12 months':'m_200',\n",
    "                          'Total:!!Women who had a birth in the past 12 months:!!Unmarried (never married, widowed and divorced):!!Below 100 percent of poverty level in the past 12 months':'u_100',\n",
    "                          'Total:!!Women who had a birth in the past 12 months:!!Unmarried (never married, widowed and divorced):!!100 to 199 percent of poverty level in the past 12 months':'u_100_199',\n",
    "                          'Total:!!Women who had a birth in the past 12 months:!!Unmarried (never married, widowed and divorced):!!200 percent or more of poverty level in the past 12 months':'u_200',\n",
    "                          'Label (Grouping)':'state'})"
   ]
  },
  {
   "cell_type": "code",
   "execution_count": 17,
   "id": "8b7ffbe8",
   "metadata": {},
   "outputs": [],
   "source": [
    "pov_2018['year']=2018"
   ]
  },
  {
   "cell_type": "code",
   "execution_count": 18,
   "id": "345bc09c",
   "metadata": {},
   "outputs": [
    {
     "data": {
      "text/html": [
       "<div>\n",
       "<style scoped>\n",
       "    .dataframe tbody tr th:only-of-type {\n",
       "        vertical-align: middle;\n",
       "    }\n",
       "\n",
       "    .dataframe tbody tr th {\n",
       "        vertical-align: top;\n",
       "    }\n",
       "\n",
       "    .dataframe thead th {\n",
       "        text-align: right;\n",
       "    }\n",
       "</style>\n",
       "<table border=\"1\" class=\"dataframe\">\n",
       "  <thead>\n",
       "    <tr style=\"text-align: right;\">\n",
       "      <th></th>\n",
       "      <th>state</th>\n",
       "      <th>birth_women_total</th>\n",
       "      <th>m_100</th>\n",
       "      <th>m_100_199</th>\n",
       "      <th>m_200</th>\n",
       "      <th>u_100</th>\n",
       "      <th>u_100_199</th>\n",
       "      <th>u_200</th>\n",
       "      <th>year</th>\n",
       "    </tr>\n",
       "  </thead>\n",
       "  <tbody>\n",
       "    <tr>\n",
       "      <th>0</th>\n",
       "      <td>Alabama</td>\n",
       "      <td>59846</td>\n",
       "      <td>5541</td>\n",
       "      <td>7808</td>\n",
       "      <td>21763</td>\n",
       "      <td>13214</td>\n",
       "      <td>4973</td>\n",
       "      <td>6547</td>\n",
       "      <td>2018</td>\n",
       "    </tr>\n",
       "  </tbody>\n",
       "</table>\n",
       "</div>"
      ],
      "text/plain": [
       "     state birth_women_total m_100 m_100_199  m_200  u_100 u_100_199 u_200  \\\n",
       "0  Alabama             59846  5541      7808  21763  13214      4973  6547   \n",
       "\n",
       "   year  \n",
       "0  2018  "
      ]
     },
     "execution_count": 18,
     "metadata": {},
     "output_type": "execute_result"
    }
   ],
   "source": [
    "pov_2018.head(1)"
   ]
  },
  {
   "cell_type": "code",
   "execution_count": 19,
   "id": "28e329c4",
   "metadata": {},
   "outputs": [],
   "source": [
    "pov_2019['Total:!!Women who had a birth in the past 12 months:'] = pov_2019['Total:!!Women who had a birth in the past 12 months:'].shift(-1).str.replace(',','')\n",
    "pov_2019['Total:!!Women who had a birth in the past 12 months:!!Now married (including separated and spouse absent):!!Below 100 percent of poverty level in the past 12 months'] = pov_2019['Total:!!Women who had a birth in the past 12 months:!!Now married (including separated and spouse absent):!!Below 100 percent of poverty level in the past 12 months'].shift(-1).str.replace(',','')\n",
    "pov_2019['Total:!!Women who had a birth in the past 12 months:!!Now married (including separated and spouse absent):!!100 to 199 percent of poverty level in the past 12 months'] = pov_2019['Total:!!Women who had a birth in the past 12 months:!!Now married (including separated and spouse absent):!!100 to 199 percent of poverty level in the past 12 months'].shift(-1).str.replace(',','')\n",
    "pov_2019['Total:!!Women who had a birth in the past 12 months:!!Now married (including separated and spouse absent):!!200 percent or more of poverty level in the past 12 months'] = pov_2019['Total:!!Women who had a birth in the past 12 months:!!Now married (including separated and spouse absent):!!200 percent or more of poverty level in the past 12 months'].shift(-1).str.replace(',','')\n",
    "pov_2019['Total:!!Women who had a birth in the past 12 months:!!Unmarried (never married, widowed and divorced):!!Below 100 percent of poverty level in the past 12 months'] = pov_2019['Total:!!Women who had a birth in the past 12 months:!!Unmarried (never married, widowed and divorced):!!Below 100 percent of poverty level in the past 12 months'].shift(-1).str.replace(',','')\n",
    "pov_2019['Total:!!Women who had a birth in the past 12 months:!!Unmarried (never married, widowed and divorced):!!100 to 199 percent of poverty level in the past 12 months'] = pov_2019['Total:!!Women who had a birth in the past 12 months:!!Unmarried (never married, widowed and divorced):!!100 to 199 percent of poverty level in the past 12 months'].shift(-1).str.replace(',','')\n",
    "pov_2019['Total:!!Women who had a birth in the past 12 months:!!Unmarried (never married, widowed and divorced):!!200 percent or more of poverty level in the past 12 months'] = pov_2019['Total:!!Women who had a birth in the past 12 months:!!Unmarried (never married, widowed and divorced):!!200 percent or more of poverty level in the past 12 months'].shift(-1).str.replace(',','')\n",
    "pov_2019 = pov_2019.dropna().reset_index(drop=True)"
   ]
  },
  {
   "cell_type": "code",
   "execution_count": 20,
   "id": "2341bfa6",
   "metadata": {},
   "outputs": [],
   "source": [
    "pov_2019 = pov_2019.rename(columns = {'Total:!!Women who had a birth in the past 12 months:':'birth_women_total','Total:!!Women who had a birth in the past 12 months:!!Now married (including separated and spouse absent):!!Below 100 percent of poverty level in the past 12 months':'m_100',\n",
    "                          'Total:!!Women who had a birth in the past 12 months:!!Now married (including separated and spouse absent):!!100 to 199 percent of poverty level in the past 12 months':'m_100_199',\n",
    "                          'Total:!!Women who had a birth in the past 12 months:!!Now married (including separated and spouse absent):!!200 percent or more of poverty level in the past 12 months':'m_200',\n",
    "                          'Total:!!Women who had a birth in the past 12 months:!!Unmarried (never married, widowed and divorced):!!Below 100 percent of poverty level in the past 12 months':'u_100',\n",
    "                          'Total:!!Women who had a birth in the past 12 months:!!Unmarried (never married, widowed and divorced):!!100 to 199 percent of poverty level in the past 12 months':'u_100_199',\n",
    "                          'Total:!!Women who had a birth in the past 12 months:!!Unmarried (never married, widowed and divorced):!!200 percent or more of poverty level in the past 12 months':'u_200',\n",
    "                          'Label (Grouping)':'state'})"
   ]
  },
  {
   "cell_type": "code",
   "execution_count": 21,
   "id": "a951ecfa",
   "metadata": {},
   "outputs": [],
   "source": [
    "pov_2019['year']=2019"
   ]
  },
  {
   "cell_type": "code",
   "execution_count": 22,
   "id": "989faf90",
   "metadata": {},
   "outputs": [
    {
     "data": {
      "text/html": [
       "<div>\n",
       "<style scoped>\n",
       "    .dataframe tbody tr th:only-of-type {\n",
       "        vertical-align: middle;\n",
       "    }\n",
       "\n",
       "    .dataframe tbody tr th {\n",
       "        vertical-align: top;\n",
       "    }\n",
       "\n",
       "    .dataframe thead th {\n",
       "        text-align: right;\n",
       "    }\n",
       "</style>\n",
       "<table border=\"1\" class=\"dataframe\">\n",
       "  <thead>\n",
       "    <tr style=\"text-align: right;\">\n",
       "      <th></th>\n",
       "      <th>state</th>\n",
       "      <th>birth_women_total</th>\n",
       "      <th>m_100</th>\n",
       "      <th>m_100_199</th>\n",
       "      <th>m_200</th>\n",
       "      <th>u_100</th>\n",
       "      <th>u_100_199</th>\n",
       "      <th>u_200</th>\n",
       "      <th>year</th>\n",
       "    </tr>\n",
       "  </thead>\n",
       "  <tbody>\n",
       "    <tr>\n",
       "      <th>0</th>\n",
       "      <td>Alabama</td>\n",
       "      <td>60169</td>\n",
       "      <td>4977</td>\n",
       "      <td>7474</td>\n",
       "      <td>22828</td>\n",
       "      <td>12748</td>\n",
       "      <td>5236</td>\n",
       "      <td>6906</td>\n",
       "      <td>2019</td>\n",
       "    </tr>\n",
       "  </tbody>\n",
       "</table>\n",
       "</div>"
      ],
      "text/plain": [
       "     state birth_women_total m_100 m_100_199  m_200  u_100 u_100_199 u_200  \\\n",
       "0  Alabama             60169  4977      7474  22828  12748      5236  6906   \n",
       "\n",
       "   year  \n",
       "0  2019  "
      ]
     },
     "execution_count": 22,
     "metadata": {},
     "output_type": "execute_result"
    }
   ],
   "source": [
    "pov_2019.head(1)"
   ]
  },
  {
   "cell_type": "code",
   "execution_count": 23,
   "id": "b5fccb1b",
   "metadata": {},
   "outputs": [],
   "source": [
    "pov_2020['Total:!!Women who had a birth in the past 12 months:'] = pov_2020['Total:!!Women who had a birth in the past 12 months:'].shift(-1).str.replace(',','')\n",
    "pov_2020['Total:!!Women who had a birth in the past 12 months:!!Now married (including separated and spouse absent):!!Below 100 percent of poverty level in the past 12 months'] = pov_2020['Total:!!Women who had a birth in the past 12 months:!!Now married (including separated and spouse absent):!!Below 100 percent of poverty level in the past 12 months'].shift(-1).str.replace(',','')\n",
    "pov_2020['Total:!!Women who had a birth in the past 12 months:!!Now married (including separated and spouse absent):!!100 to 199 percent of poverty level in the past 12 months'] = pov_2020['Total:!!Women who had a birth in the past 12 months:!!Now married (including separated and spouse absent):!!100 to 199 percent of poverty level in the past 12 months'].shift(-1).str.replace(',','')\n",
    "pov_2020['Total:!!Women who had a birth in the past 12 months:!!Now married (including separated and spouse absent):!!200 percent or more of poverty level in the past 12 months'] = pov_2020['Total:!!Women who had a birth in the past 12 months:!!Now married (including separated and spouse absent):!!200 percent or more of poverty level in the past 12 months'].shift(-1).str.replace(',','')\n",
    "pov_2020['Total:!!Women who had a birth in the past 12 months:!!Unmarried (never married, widowed and divorced):!!Below 100 percent of poverty level in the past 12 months'] = pov_2020['Total:!!Women who had a birth in the past 12 months:!!Unmarried (never married, widowed and divorced):!!Below 100 percent of poverty level in the past 12 months'].shift(-1).str.replace(',','')\n",
    "pov_2020['Total:!!Women who had a birth in the past 12 months:!!Unmarried (never married, widowed and divorced):!!100 to 199 percent of poverty level in the past 12 months'] = pov_2020['Total:!!Women who had a birth in the past 12 months:!!Unmarried (never married, widowed and divorced):!!100 to 199 percent of poverty level in the past 12 months'].shift(-1).str.replace(',','')\n",
    "pov_2020['Total:!!Women who had a birth in the past 12 months:!!Unmarried (never married, widowed and divorced):!!200 percent or more of poverty level in the past 12 months'] = pov_2020['Total:!!Women who had a birth in the past 12 months:!!Unmarried (never married, widowed and divorced):!!200 percent or more of poverty level in the past 12 months'].shift(-1).str.replace(',','')\n",
    "pov_2020 = pov_2020.dropna().reset_index(drop=True)"
   ]
  },
  {
   "cell_type": "code",
   "execution_count": 24,
   "id": "362cdff2",
   "metadata": {},
   "outputs": [],
   "source": [
    "pov_2020 = pov_2020.rename(columns = {'Total:!!Women who had a birth in the past 12 months:':'birth_women_total','Total:!!Women who had a birth in the past 12 months:!!Now married (including separated and spouse absent):!!Below 100 percent of poverty level in the past 12 months':'m_100',\n",
    "                          'Total:!!Women who had a birth in the past 12 months:!!Now married (including separated and spouse absent):!!100 to 199 percent of poverty level in the past 12 months':'m_100_199',\n",
    "                          'Total:!!Women who had a birth in the past 12 months:!!Now married (including separated and spouse absent):!!200 percent or more of poverty level in the past 12 months':'m_200',\n",
    "                          'Total:!!Women who had a birth in the past 12 months:!!Unmarried (never married, widowed and divorced):!!Below 100 percent of poverty level in the past 12 months':'u_100',\n",
    "                          'Total:!!Women who had a birth in the past 12 months:!!Unmarried (never married, widowed and divorced):!!100 to 199 percent of poverty level in the past 12 months':'u_100_199',\n",
    "                          'Total:!!Women who had a birth in the past 12 months:!!Unmarried (never married, widowed and divorced):!!200 percent or more of poverty level in the past 12 months':'u_200',\n",
    "                          'Label (Grouping)':'state'})"
   ]
  },
  {
   "cell_type": "code",
   "execution_count": 25,
   "id": "0b213d30",
   "metadata": {},
   "outputs": [],
   "source": [
    "pov_2020['year']=2020"
   ]
  },
  {
   "cell_type": "code",
   "execution_count": 26,
   "id": "1053c024",
   "metadata": {},
   "outputs": [
    {
     "data": {
      "text/html": [
       "<div>\n",
       "<style scoped>\n",
       "    .dataframe tbody tr th:only-of-type {\n",
       "        vertical-align: middle;\n",
       "    }\n",
       "\n",
       "    .dataframe tbody tr th {\n",
       "        vertical-align: top;\n",
       "    }\n",
       "\n",
       "    .dataframe thead th {\n",
       "        text-align: right;\n",
       "    }\n",
       "</style>\n",
       "<table border=\"1\" class=\"dataframe\">\n",
       "  <thead>\n",
       "    <tr style=\"text-align: right;\">\n",
       "      <th></th>\n",
       "      <th>state</th>\n",
       "      <th>birth_women_total</th>\n",
       "      <th>m_100</th>\n",
       "      <th>m_100_199</th>\n",
       "      <th>m_200</th>\n",
       "      <th>u_100</th>\n",
       "      <th>u_100_199</th>\n",
       "      <th>u_200</th>\n",
       "      <th>year</th>\n",
       "    </tr>\n",
       "  </thead>\n",
       "  <tbody>\n",
       "    <tr>\n",
       "      <th>0</th>\n",
       "      <td>Alabama</td>\n",
       "      <td>58582</td>\n",
       "      <td>4947</td>\n",
       "      <td>7160</td>\n",
       "      <td>23313</td>\n",
       "      <td>11263</td>\n",
       "      <td>5306</td>\n",
       "      <td>6593</td>\n",
       "      <td>2020</td>\n",
       "    </tr>\n",
       "  </tbody>\n",
       "</table>\n",
       "</div>"
      ],
      "text/plain": [
       "     state birth_women_total m_100 m_100_199  m_200  u_100 u_100_199 u_200  \\\n",
       "0  Alabama             58582  4947      7160  23313  11263      5306  6593   \n",
       "\n",
       "   year  \n",
       "0  2020  "
      ]
     },
     "execution_count": 26,
     "metadata": {},
     "output_type": "execute_result"
    }
   ],
   "source": [
    "pov_2020.head(1)"
   ]
  },
  {
   "cell_type": "markdown",
   "id": "f2b2b359",
   "metadata": {},
   "source": [
    "### MERGING ALL YEARS"
   ]
  },
  {
   "cell_type": "code",
   "execution_count": 27,
   "id": "c0cb9fa1",
   "metadata": {},
   "outputs": [],
   "source": [
    "ay_pov = pd.concat([pov_2020,pov_2019,pov_2018,pov_2017,pov_2016]).reset_index(drop=True)"
   ]
  },
  {
   "cell_type": "markdown",
   "id": "67e3cb4d",
   "metadata": {},
   "source": [
    "### ORGANIZING MERGED DF"
   ]
  },
  {
   "cell_type": "code",
   "execution_count": 28,
   "id": "a0fb5fe8",
   "metadata": {},
   "outputs": [],
   "source": [
    "ay_pov.birth_women_total = ay_pov.birth_women_total.astype(int)\n",
    "ay_pov.m_100 = ay_pov.m_100.astype(int)\n",
    "ay_pov.m_100_199 = ay_pov.m_100_199.astype(int)\n",
    "ay_pov.m_200 = ay_pov.m_200.astype(int)\n",
    "ay_pov.u_100 = ay_pov.u_100.astype(int)\n",
    "ay_pov.u_100_199 = ay_pov.u_100_199.astype(int)\n",
    "ay_pov.u_200 = ay_pov.u_200.astype(int)"
   ]
  },
  {
   "cell_type": "code",
   "execution_count": 29,
   "id": "d9b412a1",
   "metadata": {},
   "outputs": [],
   "source": [
    "ay_pov['birth_women_100'] = ay_pov.m_100 + ay_pov.u_100\n",
    "ay_pov['birth_women_100_199'] = ay_pov.m_100_199 + ay_pov.u_100_199\n",
    "ay_pov['birth_women_200'] = ay_pov.m_200 + ay_pov.u_200"
   ]
  },
  {
   "cell_type": "code",
   "execution_count": 30,
   "id": "e95fec86",
   "metadata": {},
   "outputs": [],
   "source": [
    "ay_pov = ay_pov[['state','birth_women_total','birth_women_100','birth_women_100_199','birth_women_200','year']]"
   ]
  },
  {
   "cell_type": "code",
   "execution_count": 31,
   "id": "13b626f7",
   "metadata": {},
   "outputs": [],
   "source": [
    "ay_pov['pct_under_100'] = ay_pov.birth_women_100 / ay_pov.birth_women_total"
   ]
  },
  {
   "cell_type": "code",
   "execution_count": 32,
   "id": "14bbf5aa",
   "metadata": {},
   "outputs": [],
   "source": [
    "ay_pov = ay_pov.loc[ay_pov.state != 'Puerto Rico']"
   ]
  },
  {
   "cell_type": "code",
   "execution_count": 33,
   "id": "dab2c18c",
   "metadata": {},
   "outputs": [],
   "source": [
    "ay_pov_sums = ay_pov.groupby('year').agg(birth_women_total_sum=('birth_women_total', 'sum'),birth_women_100_sum=('birth_women_100', 'sum'),birth_women_100_199_sum=('birth_women_100_199', 'sum'),birth_women_200_sum=('birth_women_200', 'sum')).reset_index()"
   ]
  },
  {
   "cell_type": "code",
   "execution_count": 34,
   "id": "dbaceb4f",
   "metadata": {},
   "outputs": [
    {
     "data": {
      "text/html": [
       "<div>\n",
       "<style scoped>\n",
       "    .dataframe tbody tr th:only-of-type {\n",
       "        vertical-align: middle;\n",
       "    }\n",
       "\n",
       "    .dataframe tbody tr th {\n",
       "        vertical-align: top;\n",
       "    }\n",
       "\n",
       "    .dataframe thead th {\n",
       "        text-align: right;\n",
       "    }\n",
       "</style>\n",
       "<table border=\"1\" class=\"dataframe\">\n",
       "  <thead>\n",
       "    <tr style=\"text-align: right;\">\n",
       "      <th></th>\n",
       "      <th>year</th>\n",
       "      <th>birth_women_total_sum</th>\n",
       "      <th>birth_women_100_sum</th>\n",
       "      <th>birth_women_100_199_sum</th>\n",
       "      <th>birth_women_200_sum</th>\n",
       "    </tr>\n",
       "  </thead>\n",
       "  <tbody>\n",
       "    <tr>\n",
       "      <th>0</th>\n",
       "      <td>2016</td>\n",
       "      <td>3989118</td>\n",
       "      <td>1042952</td>\n",
       "      <td>846936</td>\n",
       "      <td>2099230</td>\n",
       "    </tr>\n",
       "    <tr>\n",
       "      <th>1</th>\n",
       "      <td>2017</td>\n",
       "      <td>3981957</td>\n",
       "      <td>998861</td>\n",
       "      <td>835692</td>\n",
       "      <td>2147404</td>\n",
       "    </tr>\n",
       "    <tr>\n",
       "      <th>2</th>\n",
       "      <td>2018</td>\n",
       "      <td>3983068</td>\n",
       "      <td>961481</td>\n",
       "      <td>824436</td>\n",
       "      <td>2197151</td>\n",
       "    </tr>\n",
       "    <tr>\n",
       "      <th>3</th>\n",
       "      <td>2019</td>\n",
       "      <td>3975188</td>\n",
       "      <td>908027</td>\n",
       "      <td>809981</td>\n",
       "      <td>2257180</td>\n",
       "    </tr>\n",
       "    <tr>\n",
       "      <th>4</th>\n",
       "      <td>2020</td>\n",
       "      <td>3971572</td>\n",
       "      <td>863670</td>\n",
       "      <td>795835</td>\n",
       "      <td>2312067</td>\n",
       "    </tr>\n",
       "  </tbody>\n",
       "</table>\n",
       "</div>"
      ],
      "text/plain": [
       "   year  birth_women_total_sum  birth_women_100_sum  birth_women_100_199_sum  \\\n",
       "0  2016                3989118              1042952                   846936   \n",
       "1  2017                3981957               998861                   835692   \n",
       "2  2018                3983068               961481                   824436   \n",
       "3  2019                3975188               908027                   809981   \n",
       "4  2020                3971572               863670                   795835   \n",
       "\n",
       "   birth_women_200_sum  \n",
       "0              2099230  \n",
       "1              2147404  \n",
       "2              2197151  \n",
       "3              2257180  \n",
       "4              2312067  "
      ]
     },
     "execution_count": 34,
     "metadata": {},
     "output_type": "execute_result"
    }
   ],
   "source": [
    "ay_pov_sums.head()"
   ]
  },
  {
   "cell_type": "code",
   "execution_count": 35,
   "id": "c9d09ae5",
   "metadata": {},
   "outputs": [],
   "source": [
    "ay_pov_sums['pct_under_100'] = round(((ay_pov_sums.birth_women_100_sum / ay_pov_sums.birth_women_total_sum) * 100),2)\n",
    "ay_pov_sums['pct_between_100_199'] = round(((ay_pov_sums.birth_women_100_199_sum / ay_pov_sums.birth_women_total_sum) * 100),2)\n",
    "ay_pov_sums['pct_under_200'] = round(((ay_pov_sums.birth_women_200_sum / ay_pov_sums.birth_women_total_sum) * 100),2)"
   ]
  },
  {
   "cell_type": "code",
   "execution_count": 36,
   "id": "15ec6136",
   "metadata": {},
   "outputs": [],
   "source": [
    "ay_pov_sums = ay_pov_sums[['year','pct_under_100','pct_between_100_199','pct_under_200']].rename(columns = {'pct_under_100':'Below 100 percent of poverty level','pct_between_100_199':'Between 100 to 199 percent of poverty level','pct_under_200':'At 200 percent or more of poverty level'})"
   ]
  },
  {
   "cell_type": "code",
   "execution_count": 37,
   "id": "4a7f588e",
   "metadata": {},
   "outputs": [],
   "source": [
    "ay_pov_sums = ay_pov_sums.melt('year')"
   ]
  },
  {
   "cell_type": "code",
   "execution_count": 38,
   "id": "76e62b80",
   "metadata": {},
   "outputs": [],
   "source": [
    "ay_pov_sums.to_csv('viz_tables/ay_pov_sums.csv')"
   ]
  },
  {
   "cell_type": "markdown",
   "id": "7f9a39fc",
   "metadata": {},
   "source": [
    "### VISUALIZATION"
   ]
  },
  {
   "cell_type": "code",
   "execution_count": 39,
   "id": "20a542a9",
   "metadata": {},
   "outputs": [],
   "source": [
    "import matplotlib.ticker as ticker"
   ]
  },
  {
   "cell_type": "code",
   "execution_count": 40,
   "id": "c4ab289c",
   "metadata": {},
   "outputs": [
    {
     "data": {
      "image/png": "[encoded data removed]",
      "text/plain": [
       "<Figure size 1080x576 with 1 Axes>"
      ]
     },
     "metadata": {
      "needs_background": "light"
     },
     "output_type": "display_data"
    }
   ],
   "source": [
    "fig, ax = plt.subplots(figsize=(15,8))\n",
    "sns.lineplot(data=ay_pov_sums,\n",
    "            y= 'value',\n",
    "            x= 'year',\n",
    "            hue = 'variable',\n",
    "            palette = 'Accent',\n",
    "            linewidth = 3.5)\n",
    "            #orient = 'h')\n",
    "ax.yaxis.set_major_formatter('%{y:1.0f}')\n",
    "plt.legend(loc='upper right', bbox_to_anchor=(1, .7), fontsize = 15)\n",
    "ax.set_xticks([2016,2017,2018,2019,2020])\n",
    "plt.ylabel('Percent of Women Who Gave Birth',fontsize = 15)\n",
    "plt.xlabel('Year',fontsize = 15)\n",
    "plt.xticks(fontsize = 12)\n",
    "plt.yticks(fontsize = 12)\n",
    "plt.ylim(0,60)\n",
    "\n",
    "ax.yaxis.set_major_formatter(ticker.PercentFormatter())"
   ]
  },
  {
   "cell_type": "code",
   "execution_count": 41,
   "id": "d89fa9af",
   "metadata": {},
   "outputs": [],
   "source": [
    "ay_pov_sums.to_csv('viz_tables/ay_pov_sums.csv')"
   ]
  }
 ],
 "metadata": {
  "kernelspec": {
   "display_name": "Python 3 (ipykernel)",
   "language": "python",
   "name": "python3"
  },
  "language_info": {
   "codemirror_mode": {
    "name": "ipython",
    "version": 3
   },
   "file_extension": ".py",
   "mimetype": "text/x-python",
   "name": "python",
   "nbconvert_exporter": "python",
   "pygments_lexer": "ipython3",
   "version": "3.9.7"
  }
 },
 "nbformat": 4,
 "nbformat_minor": 5
}
