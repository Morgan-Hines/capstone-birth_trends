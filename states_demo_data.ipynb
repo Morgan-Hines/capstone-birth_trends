{
 "cells": [
  {
   "cell_type": "code",
   "execution_count": 1,
   "id": "611e6287",
   "metadata": {},
   "outputs": [],
   "source": [
    "import pandas as pd\n",
    "import matplotlib.pyplot as plt\n",
    "import seaborn as sns\n",
    "%matplotlib inline"
   ]
  },
  {
   "cell_type": "markdown",
   "id": "4ef253da",
   "metadata": {},
   "source": [
    "### Pulling in demo by state"
   ]
  },
  {
   "cell_type": "code",
   "execution_count": 2,
   "id": "7404d0c4",
   "metadata": {},
   "outputs": [],
   "source": [
    "demo_2016 = pd.read_csv('actual_data/demo_2016.csv')"
   ]
  },
  {
   "cell_type": "code",
   "execution_count": 3,
   "id": "0335a4c9",
   "metadata": {},
   "outputs": [],
   "source": [
    "demo_2017 = pd.read_csv('actual_data/demo_2017.csv')"
   ]
  },
  {
   "cell_type": "code",
   "execution_count": 4,
   "id": "1b764a9c",
   "metadata": {},
   "outputs": [],
   "source": [
    "demo_2018 = pd.read_csv('actual_data/demo_2018.csv')"
   ]
  },
  {
   "cell_type": "code",
   "execution_count": 5,
   "id": "c9c776d4",
   "metadata": {},
   "outputs": [],
   "source": [
    "demo_2019 = pd.read_csv('actual_data/demo_2019.csv')"
   ]
  },
  {
   "cell_type": "code",
   "execution_count": 6,
   "id": "c2386867",
   "metadata": {},
   "outputs": [],
   "source": [
    "demo_2020 = pd.read_csv('actual_data/demo_2020.csv')"
   ]
  },
  {
   "cell_type": "markdown",
   "id": "6b4e3260",
   "metadata": {},
   "source": [
    "### Organizing Frames - Demo"
   ]
  },
  {
   "cell_type": "code",
   "execution_count": 7,
   "id": "37d2a8e4",
   "metadata": {},
   "outputs": [],
   "source": [
    "demo_2020 = demo_2020.tail(21).drop(index=[75,76,77,78,79,87,88,89]).head(9).transpose()"
   ]
  },
  {
   "cell_type": "code",
   "execution_count": 8,
   "id": "2f871b1a",
   "metadata": {},
   "outputs": [],
   "source": [
    "demo_2020.columns = demo_2020.iloc[0]"
   ]
  },
  {
   "cell_type": "code",
   "execution_count": 9,
   "id": "dda1690c",
   "metadata": {},
   "outputs": [],
   "source": [
    "demo_2020 = demo_2020.reset_index().drop(index=[0])"
   ]
  },
  {
   "cell_type": "code",
   "execution_count": 10,
   "id": "46ceb0c5",
   "metadata": {},
   "outputs": [],
   "source": [
    "demo_2020.columns = ['state','total_pop','his_lat','white','black_aa','aian','asian','nhopi','other','two']"
   ]
  },
  {
   "cell_type": "code",
   "execution_count": 11,
   "id": "5e3dd455",
   "metadata": {},
   "outputs": [],
   "source": [
    "demo_2019 = demo_2019.tail(21).drop(index=[75,76,77,78,79,87,88,89]).head(9).transpose()"
   ]
  },
  {
   "cell_type": "code",
   "execution_count": 12,
   "id": "ed785a8a",
   "metadata": {},
   "outputs": [],
   "source": [
    "demo_2019.columns = demo_2019.iloc[0]"
   ]
  },
  {
   "cell_type": "code",
   "execution_count": 13,
   "id": "fc514f9b",
   "metadata": {},
   "outputs": [],
   "source": [
    "demo_2019 = demo_2019.reset_index().drop(index=[0])"
   ]
  },
  {
   "cell_type": "code",
   "execution_count": 14,
   "id": "29cf6994",
   "metadata": {},
   "outputs": [],
   "source": [
    "demo_2019.columns = ['state','total_pop','his_lat','white','black_aa','aian','asian','nhopi','other','two']"
   ]
  },
  {
   "cell_type": "code",
   "execution_count": 15,
   "id": "eb3e0481",
   "metadata": {},
   "outputs": [],
   "source": [
    "demo_2018 = demo_2018.tail(21).drop(index=[75,76,77,78,79,87,88,89]).head(9).transpose()"
   ]
  },
  {
   "cell_type": "code",
   "execution_count": 16,
   "id": "56e011ab",
   "metadata": {},
   "outputs": [],
   "source": [
    "demo_2018.columns = demo_2018.iloc[0]"
   ]
  },
  {
   "cell_type": "code",
   "execution_count": 17,
   "id": "2a903a29",
   "metadata": {},
   "outputs": [],
   "source": [
    "demo_2018 = demo_2018.reset_index().drop(index=[0])"
   ]
  },
  {
   "cell_type": "code",
   "execution_count": 18,
   "id": "2d32c5e1",
   "metadata": {},
   "outputs": [],
   "source": [
    "demo_2018.columns = ['state','total_pop','his_lat','white','black_aa','aian','asian','nhopi','other','two']"
   ]
  },
  {
   "cell_type": "code",
   "execution_count": 19,
   "id": "c8e86506",
   "metadata": {},
   "outputs": [],
   "source": [
    "demo_2017 = demo_2017.tail(21).drop(index=[75,76,77,78,79,87,88,89]).head(9).transpose()"
   ]
  },
  {
   "cell_type": "code",
   "execution_count": 20,
   "id": "d6febc93",
   "metadata": {},
   "outputs": [],
   "source": [
    "demo_2017.columns = demo_2017.iloc[0]"
   ]
  },
  {
   "cell_type": "code",
   "execution_count": 21,
   "id": "fef54ff7",
   "metadata": {},
   "outputs": [],
   "source": [
    "demo_2017 = demo_2017.reset_index().drop(index=[0])"
   ]
  },
  {
   "cell_type": "code",
   "execution_count": 22,
   "id": "0b7cd940",
   "metadata": {},
   "outputs": [],
   "source": [
    "demo_2017.columns = ['state','total_pop','his_lat','white','black_aa','aian','asian','nhopi','other','two']"
   ]
  },
  {
   "cell_type": "code",
   "execution_count": 23,
   "id": "0e3bb450",
   "metadata": {},
   "outputs": [],
   "source": [
    "demo_2016 = demo_2016.tail(21).drop(index=[70,71,72,73,74,82,83,84,85,86,87,88]).transpose()"
   ]
  },
  {
   "cell_type": "code",
   "execution_count": 24,
   "id": "179d3aa2",
   "metadata": {},
   "outputs": [],
   "source": [
    "demo_2016.columns = demo_2016.iloc[0]"
   ]
  },
  {
   "cell_type": "code",
   "execution_count": 25,
   "id": "a1c1c291",
   "metadata": {},
   "outputs": [],
   "source": [
    "demo_2016 = demo_2016.reset_index().drop(index=[0])"
   ]
  },
  {
   "cell_type": "code",
   "execution_count": 26,
   "id": "60a6d7ba",
   "metadata": {},
   "outputs": [],
   "source": [
    "demo_2016.columns = ['state','total_pop','his_lat','white','black_aa','aian','asian','nhopi','other','two']"
   ]
  },
  {
   "cell_type": "markdown",
   "id": "299d99da",
   "metadata": {},
   "source": [
    "##### Demo Pop"
   ]
  },
  {
   "cell_type": "code",
   "execution_count": 27,
   "id": "880f3e2a",
   "metadata": {},
   "outputs": [],
   "source": [
    "demo_2020_pop = demo_2020[::2]"
   ]
  },
  {
   "cell_type": "code",
   "execution_count": 28,
   "id": "228e0fa6",
   "metadata": {},
   "outputs": [
    {
     "name": "stderr",
     "output_type": "stream",
     "text": [
      "C:\\Users\\Morgan\\anaconda3\\lib\\site-packages\\pandas\\core\\generic.py:5516: SettingWithCopyWarning: \n",
      "A value is trying to be set on a copy of a slice from a DataFrame.\n",
      "Try using .loc[row_indexer,col_indexer] = value instead\n",
      "\n",
      "See the caveats in the documentation: https://pandas.pydata.org/pandas-docs/stable/user_guide/indexing.html#returning-a-view-versus-a-copy\n",
      "  self[name] = value\n"
     ]
    }
   ],
   "source": [
    "demo_2020_pop.state = demo_2020_pop.state.str.strip().str.replace('!!Estimate','')"
   ]
  },
  {
   "cell_type": "code",
   "execution_count": 29,
   "id": "5b423620",
   "metadata": {},
   "outputs": [],
   "source": [
    "#not needed for all years\n",
    "demo_2020_pop = demo_2020_pop.drop(index=[97])"
   ]
  },
  {
   "cell_type": "code",
   "execution_count": 30,
   "id": "eb2ff638",
   "metadata": {},
   "outputs": [],
   "source": [
    "demo_2019_pop = demo_2019[::2]"
   ]
  },
  {
   "cell_type": "code",
   "execution_count": 31,
   "id": "993585b7",
   "metadata": {},
   "outputs": [],
   "source": [
    "demo_2019_pop.state = demo_2019_pop.state.str.strip().str.replace('!!Estimate','')"
   ]
  },
  {
   "cell_type": "code",
   "execution_count": 32,
   "id": "16499163",
   "metadata": {},
   "outputs": [],
   "source": [
    "demo_2018.state = demo_2018.state.str.strip().str.replace('!!Estimate','')"
   ]
  },
  {
   "cell_type": "code",
   "execution_count": 33,
   "id": "ada85420",
   "metadata": {},
   "outputs": [],
   "source": [
    "demo_2018_pop = demo_2018[::2].drop(index=[99])"
   ]
  },
  {
   "cell_type": "code",
   "execution_count": 34,
   "id": "37c71a07",
   "metadata": {
    "scrolled": true
   },
   "outputs": [],
   "source": [
    "demo_2017.state = demo_2017.state.str.strip().str.replace('!!Estimate','')"
   ]
  },
  {
   "cell_type": "code",
   "execution_count": 35,
   "id": "b89b3512",
   "metadata": {},
   "outputs": [],
   "source": [
    "demo_2017_pop = demo_2017[::2]"
   ]
  },
  {
   "cell_type": "code",
   "execution_count": 36,
   "id": "6e4eeb41",
   "metadata": {},
   "outputs": [],
   "source": [
    "demo_2016.state = demo_2016.state.str.strip().str.replace('!!Estimate','')"
   ]
  },
  {
   "cell_type": "code",
   "execution_count": 37,
   "id": "213caf09",
   "metadata": {},
   "outputs": [],
   "source": [
    "demo_2016_pop = demo_2016[::2]"
   ]
  },
  {
   "cell_type": "code",
   "execution_count": 38,
   "id": "d386748a",
   "metadata": {},
   "outputs": [],
   "source": [
    "demo_2017_pop.total_pop = demo_2017_pop.total_pop.str.replace(',','')\n",
    "demo_2017_pop.his_lat = demo_2017_pop.his_lat.str.replace(',','')\n",
    "demo_2017_pop.white = demo_2017_pop.white.str.replace(',','')\n",
    "demo_2017_pop.black_aa = demo_2017_pop.black_aa.str.replace(',','')\n",
    "demo_2017_pop.aian = demo_2017_pop.aian.str.replace(',','')\n",
    "demo_2017_pop.asian = demo_2017_pop.asian.str.replace(',','')\n",
    "demo_2017_pop.nhopi = demo_2017_pop.nhopi.str.replace(',','')\n",
    "demo_2017_pop.other = demo_2017_pop.other.str.replace(',','')\n",
    "demo_2017_pop.two = demo_2017_pop.two.str.replace(',','')"
   ]
  },
  {
   "cell_type": "code",
   "execution_count": 39,
   "id": "94006790",
   "metadata": {
    "scrolled": true
   },
   "outputs": [],
   "source": [
    "demo_2017_pop = demo_2017_pop.astype({'total_pop':'int','his_lat':'int','white':'int','black_aa':'int','aian':'int','asian':'int','nhopi':'int','other':'int','two':'int'})"
   ]
  },
  {
   "cell_type": "code",
   "execution_count": 40,
   "id": "d5dfa6f4",
   "metadata": {},
   "outputs": [],
   "source": [
    "demo_2016_pop.total_pop = demo_2016_pop.total_pop.str.replace(',','')\n",
    "demo_2016_pop.his_lat = demo_2016_pop.his_lat.str.replace(',','')\n",
    "demo_2016_pop.white = demo_2016_pop.white.str.replace(',','')\n",
    "demo_2016_pop.black_aa = demo_2016_pop.black_aa.str.replace(',','')\n",
    "demo_2016_pop.aian = demo_2016_pop.aian.str.replace(',','')\n",
    "demo_2016_pop.asian = demo_2016_pop.asian.str.replace(',','')\n",
    "demo_2016_pop.nhopi = demo_2016_pop.nhopi.str.replace(',','')\n",
    "demo_2016_pop.other = demo_2016_pop.other.str.replace(',','')\n",
    "demo_2016_pop.two = demo_2016_pop.two.str.replace(',','')"
   ]
  },
  {
   "cell_type": "code",
   "execution_count": 41,
   "id": "d1a781f0",
   "metadata": {},
   "outputs": [],
   "source": [
    "demo_2016_pop = demo_2016_pop.astype({'total_pop':'int','his_lat':'int','white':'int','black_aa':'int','aian':'int','asian':'int','nhopi':'int','other':'int','two':'int'})"
   ]
  },
  {
   "cell_type": "code",
   "execution_count": 42,
   "id": "4765432e",
   "metadata": {},
   "outputs": [],
   "source": [
    "demo_2018_pop.total_pop = demo_2018_pop.total_pop.str.replace(',','')\n",
    "demo_2018_pop.his_lat = demo_2018_pop.his_lat.str.replace(',','')\n",
    "demo_2018_pop.white = demo_2018_pop.white.str.replace(',','')\n",
    "demo_2018_pop.black_aa = demo_2018_pop.black_aa.str.replace(',','')\n",
    "demo_2018_pop.aian = demo_2018_pop.aian.str.replace(',','')\n",
    "demo_2018_pop.asian = demo_2018_pop.asian.str.replace(',','')\n",
    "demo_2018_pop.nhopi = demo_2018_pop.nhopi.str.replace(',','')\n",
    "demo_2018_pop.other = demo_2018_pop.other.str.replace(',','')\n",
    "demo_2018_pop.two = demo_2018_pop.two.str.replace(',','')"
   ]
  },
  {
   "cell_type": "code",
   "execution_count": 43,
   "id": "8b11297c",
   "metadata": {},
   "outputs": [],
   "source": [
    "demo_2018_pop = demo_2018_pop.astype({'total_pop':'int','his_lat':'int','white':'int','black_aa':'int','aian':'int','asian':'int','nhopi':'int','other':'int','two':'int'})"
   ]
  },
  {
   "cell_type": "code",
   "execution_count": 44,
   "id": "e705a490",
   "metadata": {
    "scrolled": true
   },
   "outputs": [],
   "source": [
    "demo_2019_pop.total_pop = demo_2019_pop.total_pop.str.replace(',','')\n",
    "demo_2019_pop.his_lat = demo_2019_pop.his_lat.str.replace(',','')\n",
    "demo_2019_pop.white = demo_2019_pop.white.str.replace(',','')\n",
    "demo_2019_pop.black_aa = demo_2019_pop.black_aa.str.replace(',','')\n",
    "demo_2019_pop.aian = demo_2019_pop.aian.str.replace(',','')\n",
    "demo_2019_pop.asian = demo_2019_pop.asian.str.replace(',','')\n",
    "demo_2019_pop.nhopi = demo_2019_pop.nhopi.str.replace(',','')\n",
    "demo_2019_pop.other = demo_2019_pop.other.str.replace(',','')\n",
    "demo_2019_pop.two = demo_2019_pop.two.str.replace(',','')"
   ]
  },
  {
   "cell_type": "code",
   "execution_count": 45,
   "id": "73f9f13f",
   "metadata": {},
   "outputs": [],
   "source": [
    "demo_2019_pop=demo_2019_pop.drop(index=[13])"
   ]
  },
  {
   "cell_type": "code",
   "execution_count": 46,
   "id": "15f381c2",
   "metadata": {},
   "outputs": [],
   "source": [
    "demo_2019_pop=demo_2019_pop.astype({'total_pop':'int','his_lat':'int','white':'int','black_aa':'int','aian':'int','asian':'int','nhopi':'int','other':'int','two':'int'})"
   ]
  },
  {
   "cell_type": "code",
   "execution_count": 47,
   "id": "473fd673",
   "metadata": {},
   "outputs": [],
   "source": [
    "demo_2020_pop.total_pop = demo_2020_pop.total_pop.str.replace(',','')\n",
    "demo_2020_pop.his_lat = demo_2020_pop.his_lat.str.replace(',','')\n",
    "demo_2020_pop.white = demo_2020_pop.white.str.replace(',','')\n",
    "demo_2020_pop.black_aa = demo_2020_pop.black_aa.str.replace(',','')\n",
    "demo_2020_pop.aian = demo_2020_pop.aian.str.replace(',','')\n",
    "demo_2020_pop.asian = demo_2020_pop.asian.str.replace(',','')\n",
    "demo_2020_pop.nhopi = demo_2020_pop.nhopi.str.replace(',','')\n",
    "demo_2020_pop.other = demo_2020_pop.other.str.replace(',','')\n",
    "demo_2020_pop.two = demo_2020_pop.two.str.replace(',','')"
   ]
  },
  {
   "cell_type": "code",
   "execution_count": 48,
   "id": "1c1c7bb4",
   "metadata": {},
   "outputs": [],
   "source": [
    "demo_2020_pop = demo_2020_pop.astype({'total_pop':'int','his_lat':'int','white':'int','black_aa':'int','aian':'int','asian':'int','nhopi':'int','other':'int','two':'int'})"
   ]
  },
  {
   "cell_type": "code",
   "execution_count": 49,
   "id": "7d201779",
   "metadata": {},
   "outputs": [],
   "source": [
    "demo_2016_pop['year']=2016\n",
    "demo_2017_pop['year']=2017\n",
    "demo_2018_pop['year']=2018\n",
    "demo_2019_pop['year']=2019\n",
    "demo_2020_pop['year']=2020"
   ]
  },
  {
   "cell_type": "markdown",
   "id": "f88f514c",
   "metadata": {},
   "source": [
    "##### Demo Percent"
   ]
  },
  {
   "cell_type": "code",
   "execution_count": 50,
   "id": "fa1ade7a",
   "metadata": {},
   "outputs": [],
   "source": [
    "demo_2020_pct = demo_2020[demo_2020[\"state\"].str.contains(\"Percent\")]"
   ]
  },
  {
   "cell_type": "code",
   "execution_count": 51,
   "id": "1ed6c332",
   "metadata": {},
   "outputs": [],
   "source": [
    "demo_2020_pct.state = demo_2020_pct.state.str.replace('!!Percent','').str.strip()"
   ]
  },
  {
   "cell_type": "code",
   "execution_count": 52,
   "id": "f85cd47f",
   "metadata": {},
   "outputs": [],
   "source": [
    "demo_2019_pct = demo_2019[demo_2019[\"state\"].str.contains(\"Percent\")]"
   ]
  },
  {
   "cell_type": "code",
   "execution_count": 53,
   "id": "03596c4c",
   "metadata": {},
   "outputs": [],
   "source": [
    "demo_2019_pct.state = demo_2019_pct.state.str.replace('!!Percent','').str.strip()"
   ]
  },
  {
   "cell_type": "code",
   "execution_count": 54,
   "id": "90b7b8ec",
   "metadata": {},
   "outputs": [],
   "source": [
    "demo_2019_pct = demo_2019_pct.drop(index=[14])"
   ]
  },
  {
   "cell_type": "code",
   "execution_count": 55,
   "id": "38c92afd",
   "metadata": {},
   "outputs": [],
   "source": [
    "demo_2018_pct = demo_2018[demo_2018[\"state\"].str.contains(\"Percent\")]"
   ]
  },
  {
   "cell_type": "code",
   "execution_count": 56,
   "id": "8ced2f29",
   "metadata": {},
   "outputs": [],
   "source": [
    "demo_2018_pct.state = demo_2018_pct.state.str.replace('!!Percent','').str.strip()"
   ]
  },
  {
   "cell_type": "code",
   "execution_count": 57,
   "id": "c2fd08bf",
   "metadata": {},
   "outputs": [],
   "source": [
    "demo_2018_pct = demo_2018_pct.drop(index=[100])"
   ]
  },
  {
   "cell_type": "code",
   "execution_count": 58,
   "id": "71c3313e",
   "metadata": {},
   "outputs": [],
   "source": [
    "demo_2017_pct = demo_2017[demo_2017[\"state\"].str.contains(\"Percent\")]"
   ]
  },
  {
   "cell_type": "code",
   "execution_count": 59,
   "id": "5a5a9d7d",
   "metadata": {
    "scrolled": true
   },
   "outputs": [],
   "source": [
    "demo_2017_pct.state = demo_2017_pct.state.str.replace('!!Percent','').str.strip()"
   ]
  },
  {
   "cell_type": "code",
   "execution_count": 60,
   "id": "fefedf5a",
   "metadata": {},
   "outputs": [],
   "source": [
    "demo_2016_pct = demo_2016[demo_2016[\"state\"].str.contains(\"Percent\")]"
   ]
  },
  {
   "cell_type": "code",
   "execution_count": 61,
   "id": "83c90c1f",
   "metadata": {},
   "outputs": [],
   "source": [
    "demo_2016_pct.state = demo_2016_pct.state.str.replace('!!Percent','').str.strip()"
   ]
  },
  {
   "cell_type": "code",
   "execution_count": 62,
   "id": "06f84e8e",
   "metadata": {},
   "outputs": [
    {
     "name": "stderr",
     "output_type": "stream",
     "text": [
      "C:\\Users\\Morgan\\AppData\\Local\\Temp/ipykernel_28032/4290152154.py:1: SettingWithCopyWarning: \n",
      "A value is trying to be set on a copy of a slice from a DataFrame.\n",
      "Try using .loc[row_indexer,col_indexer] = value instead\n",
      "\n",
      "See the caveats in the documentation: https://pandas.pydata.org/pandas-docs/stable/user_guide/indexing.html#returning-a-view-versus-a-copy\n",
      "  demo_2016_pct['year']=2016\n",
      "C:\\Users\\Morgan\\AppData\\Local\\Temp/ipykernel_28032/4290152154.py:2: SettingWithCopyWarning: \n",
      "A value is trying to be set on a copy of a slice from a DataFrame.\n",
      "Try using .loc[row_indexer,col_indexer] = value instead\n",
      "\n",
      "See the caveats in the documentation: https://pandas.pydata.org/pandas-docs/stable/user_guide/indexing.html#returning-a-view-versus-a-copy\n",
      "  demo_2017_pct['year']=2017\n",
      "C:\\Users\\Morgan\\AppData\\Local\\Temp/ipykernel_28032/4290152154.py:5: SettingWithCopyWarning: \n",
      "A value is trying to be set on a copy of a slice from a DataFrame.\n",
      "Try using .loc[row_indexer,col_indexer] = value instead\n",
      "\n",
      "See the caveats in the documentation: https://pandas.pydata.org/pandas-docs/stable/user_guide/indexing.html#returning-a-view-versus-a-copy\n",
      "  demo_2020_pct['year']=2020\n"
     ]
    }
   ],
   "source": [
    "demo_2016_pct['year']=2016\n",
    "demo_2017_pct['year']=2017\n",
    "demo_2018_pct['year']=2018\n",
    "demo_2019_pct['year']=2019\n",
    "demo_2020_pct['year']=2020"
   ]
  },
  {
   "cell_type": "code",
   "execution_count": 63,
   "id": "900f0ef5",
   "metadata": {},
   "outputs": [],
   "source": [
    "demo_2016_pct.total_pop = demo_2016_pct.total_pop.str.replace(',', '').astype(int)\n",
    "demo_2016_pct.his_lat = demo_2016_pct.his_lat.str.replace('%', '').astype(float)\n",
    "demo_2016_pct.white = demo_2016_pct.white.str.replace('%', '').astype(float)\n",
    "demo_2016_pct.black_aa = demo_2016_pct.black_aa.str.replace('%', '').astype(float)\n",
    "demo_2016_pct.aian = demo_2016_pct.aian.str.replace('%', '').astype(float)\n",
    "demo_2016_pct.asian = demo_2016_pct.asian.str.replace('%', '').astype(float)\n",
    "demo_2016_pct.nhopi = demo_2016_pct.nhopi.str.replace('%', '').astype(float)\n",
    "demo_2016_pct.other = demo_2016_pct.other.str.replace('%', '').astype(float)\n",
    "demo_2016_pct.two = demo_2016_pct.two.str.replace('%', '').astype(float)"
   ]
  },
  {
   "cell_type": "code",
   "execution_count": 64,
   "id": "b5359195",
   "metadata": {},
   "outputs": [],
   "source": [
    "demo_2017_pct.total_pop = demo_2017_pct.total_pop.str.replace(',', '').astype(int)\n",
    "demo_2017_pct.his_lat = demo_2017_pct.his_lat.str.replace('%', '').astype(float)\n",
    "demo_2017_pct.white = demo_2017_pct.white.str.replace('%', '').astype(float)\n",
    "demo_2017_pct.black_aa = demo_2017_pct.black_aa.str.replace('%', '').astype(float)\n",
    "demo_2017_pct.aian = demo_2017_pct.aian.str.replace('%', '').astype(float)\n",
    "demo_2017_pct.asian = demo_2017_pct.asian.str.replace('%', '').astype(float)\n",
    "demo_2017_pct.nhopi = demo_2017_pct.nhopi.str.replace('%', '').astype(float)\n",
    "demo_2017_pct.other = demo_2017_pct.other.str.replace('%', '').astype(float)\n",
    "demo_2017_pct.two = demo_2017_pct.two.str.replace('%', '').astype(float)"
   ]
  },
  {
   "cell_type": "code",
   "execution_count": 65,
   "id": "bde83ee1",
   "metadata": {},
   "outputs": [],
   "source": [
    "demo_2018_pct.total_pop = demo_2018_pct.total_pop.str.replace(',', '').astype(int)\n",
    "demo_2018_pct.his_lat = demo_2018_pct.his_lat.str.replace('%', '').astype(float)\n",
    "demo_2018_pct.white = demo_2018_pct.white.str.replace('%', '').astype(float)\n",
    "demo_2018_pct.black_aa = demo_2018_pct.black_aa.str.replace('%', '').astype(float)\n",
    "demo_2018_pct.aian = demo_2018_pct.aian.str.replace('%', '').astype(float)\n",
    "demo_2018_pct.asian = demo_2018_pct.asian.str.replace('%', '').astype(float)\n",
    "demo_2018_pct.nhopi = demo_2018_pct.nhopi.str.replace('%', '').astype(float)\n",
    "demo_2018_pct.other = demo_2018_pct.other.str.replace('%', '').astype(float)\n",
    "demo_2018_pct.two = demo_2018_pct.two.str.replace('%', '').astype(float)"
   ]
  },
  {
   "cell_type": "code",
   "execution_count": 66,
   "id": "69a72ab9",
   "metadata": {},
   "outputs": [],
   "source": [
    "demo_2019_pct.total_pop = demo_2019_pct.total_pop.str.replace(',', '').astype(int)\n",
    "demo_2019_pct.his_lat = demo_2019_pct.his_lat.str.replace('%', '').astype(float)\n",
    "demo_2019_pct.white = demo_2019_pct.white.str.replace('%', '').astype(float)\n",
    "demo_2019_pct.black_aa = demo_2019_pct.black_aa.str.replace('%', '').astype(float)\n",
    "demo_2019_pct.aian = demo_2019_pct.aian.str.replace('%', '').astype(float)\n",
    "demo_2019_pct.asian = demo_2019_pct.asian.str.replace('%', '').astype(float)\n",
    "demo_2019_pct.nhopi = demo_2019_pct.nhopi.str.replace('%', '').astype(float)\n",
    "demo_2019_pct.other = demo_2019_pct.other.str.replace('%', '').astype(float)\n",
    "demo_2019_pct.two = demo_2019_pct.two.str.replace('%', '').astype(float)"
   ]
  },
  {
   "cell_type": "code",
   "execution_count": 67,
   "id": "3465835f",
   "metadata": {},
   "outputs": [],
   "source": [
    "demo_2020_pct = demo_2020_pct.drop(index=[98])"
   ]
  },
  {
   "cell_type": "code",
   "execution_count": 68,
   "id": "68953363",
   "metadata": {},
   "outputs": [],
   "source": [
    "demo_2020_pct.total_pop = demo_2020_pct.total_pop.str.replace(',', '').astype(int)\n",
    "demo_2020_pct.his_lat = demo_2020_pct.his_lat.str.replace('%', '').astype(float)\n",
    "demo_2020_pct.white = demo_2020_pct.white.str.replace('%', '').astype(float)\n",
    "demo_2020_pct.black_aa = demo_2020_pct.black_aa.str.replace('%', '').astype(float)\n",
    "demo_2020_pct.aian = demo_2020_pct.aian.str.replace('%', '').astype(float)\n",
    "demo_2020_pct.asian = demo_2020_pct.asian.str.replace('%', '').astype(float)\n",
    "demo_2020_pct.nhopi = demo_2020_pct.nhopi.str.replace('%', '').astype(float)\n",
    "demo_2020_pct.other = demo_2020_pct.other.str.replace('%', '').astype(float)\n",
    "demo_2020_pct.two = demo_2020_pct.two.str.replace('%', '').astype(float)"
   ]
  },
  {
   "cell_type": "markdown",
   "id": "44bdf5e7",
   "metadata": {},
   "source": [
    "### MERGING ALL YEARS"
   ]
  },
  {
   "cell_type": "code",
   "execution_count": 69,
   "id": "d2bccce1",
   "metadata": {},
   "outputs": [],
   "source": [
    "demo_pop_all_years = pd.concat([demo_2016_pop,demo_2017_pop,demo_2018_pop,demo_2019_pop,demo_2020_pop])"
   ]
  },
  {
   "cell_type": "code",
   "execution_count": 70,
   "id": "ec3b152e",
   "metadata": {},
   "outputs": [],
   "source": [
    "demo_pop_pct_all_years = pd.concat([demo_2016_pct,demo_2017_pct,demo_2018_pct,demo_2019_pct,demo_2020_pct])"
   ]
  },
  {
   "cell_type": "code",
   "execution_count": 71,
   "id": "719f91c7",
   "metadata": {},
   "outputs": [
    {
     "data": {
      "text/html": [
       "<div>\n",
       "<style scoped>\n",
       "    .dataframe tbody tr th:only-of-type {\n",
       "        vertical-align: middle;\n",
       "    }\n",
       "\n",
       "    .dataframe tbody tr th {\n",
       "        vertical-align: top;\n",
       "    }\n",
       "\n",
       "    .dataframe thead th {\n",
       "        text-align: right;\n",
       "    }\n",
       "</style>\n",
       "<table border=\"1\" class=\"dataframe\">\n",
       "  <thead>\n",
       "    <tr style=\"text-align: right;\">\n",
       "      <th></th>\n",
       "      <th>state</th>\n",
       "      <th>total_pop</th>\n",
       "      <th>his_lat</th>\n",
       "      <th>white</th>\n",
       "      <th>black_aa</th>\n",
       "      <th>aian</th>\n",
       "      <th>asian</th>\n",
       "      <th>nhopi</th>\n",
       "      <th>other</th>\n",
       "      <th>two</th>\n",
       "      <th>year</th>\n",
       "    </tr>\n",
       "  </thead>\n",
       "  <tbody>\n",
       "    <tr>\n",
       "      <th>1</th>\n",
       "      <td>Alabama</td>\n",
       "      <td>4841164</td>\n",
       "      <td>193503</td>\n",
       "      <td>3204335</td>\n",
       "      <td>1275780</td>\n",
       "      <td>21879</td>\n",
       "      <td>60240</td>\n",
       "      <td>1371</td>\n",
       "      <td>6322</td>\n",
       "      <td>77734</td>\n",
       "      <td>2016</td>\n",
       "    </tr>\n",
       "    <tr>\n",
       "      <th>3</th>\n",
       "      <td>Alaska</td>\n",
       "      <td>736855</td>\n",
       "      <td>49031</td>\n",
       "      <td>456575</td>\n",
       "      <td>23008</td>\n",
       "      <td>100619</td>\n",
       "      <td>43379</td>\n",
       "      <td>8584</td>\n",
       "      <td>1239</td>\n",
       "      <td>54420</td>\n",
       "      <td>2016</td>\n",
       "    </tr>\n",
       "    <tr>\n",
       "      <th>5</th>\n",
       "      <td>Arizona</td>\n",
       "      <td>6728577</td>\n",
       "      <td>2054849</td>\n",
       "      <td>3777876</td>\n",
       "      <td>270045</td>\n",
       "      <td>266191</td>\n",
       "      <td>199520</td>\n",
       "      <td>11832</td>\n",
       "      <td>7977</td>\n",
       "      <td>140287</td>\n",
       "      <td>2016</td>\n",
       "    </tr>\n",
       "    <tr>\n",
       "      <th>7</th>\n",
       "      <td>Arkansas</td>\n",
       "      <td>2968472</td>\n",
       "      <td>207049</td>\n",
       "      <td>2177900</td>\n",
       "      <td>457822</td>\n",
       "      <td>16300</td>\n",
       "      <td>41179</td>\n",
       "      <td>6714</td>\n",
       "      <td>3258</td>\n",
       "      <td>58250</td>\n",
       "      <td>2016</td>\n",
       "    </tr>\n",
       "    <tr>\n",
       "      <th>9</th>\n",
       "      <td>California</td>\n",
       "      <td>38654206</td>\n",
       "      <td>14903982</td>\n",
       "      <td>14837242</td>\n",
       "      <td>2158363</td>\n",
       "      <td>136582</td>\n",
       "      <td>5280818</td>\n",
       "      <td>138956</td>\n",
       "      <td>90413</td>\n",
       "      <td>1107850</td>\n",
       "      <td>2016</td>\n",
       "    </tr>\n",
       "    <tr>\n",
       "      <th>...</th>\n",
       "      <td>...</td>\n",
       "      <td>...</td>\n",
       "      <td>...</td>\n",
       "      <td>...</td>\n",
       "      <td>...</td>\n",
       "      <td>...</td>\n",
       "      <td>...</td>\n",
       "      <td>...</td>\n",
       "      <td>...</td>\n",
       "      <td>...</td>\n",
       "      <td>...</td>\n",
       "    </tr>\n",
       "    <tr>\n",
       "      <th>95</th>\n",
       "      <td>Washington</td>\n",
       "      <td>7512465</td>\n",
       "      <td>971522</td>\n",
       "      <td>5067909</td>\n",
       "      <td>279720</td>\n",
       "      <td>75677</td>\n",
       "      <td>656578</td>\n",
       "      <td>49219</td>\n",
       "      <td>23363</td>\n",
       "      <td>388477</td>\n",
       "      <td>2020</td>\n",
       "    </tr>\n",
       "    <tr>\n",
       "      <th>99</th>\n",
       "      <td>West Virginia</td>\n",
       "      <td>1807426</td>\n",
       "      <td>28679</td>\n",
       "      <td>1654681</td>\n",
       "      <td>63133</td>\n",
       "      <td>3072</td>\n",
       "      <td>13948</td>\n",
       "      <td>453</td>\n",
       "      <td>4314</td>\n",
       "      <td>39146</td>\n",
       "      <td>2020</td>\n",
       "    </tr>\n",
       "    <tr>\n",
       "      <th>101</th>\n",
       "      <td>Wisconsin</td>\n",
       "      <td>5806975</td>\n",
       "      <td>408267</td>\n",
       "      <td>4681072</td>\n",
       "      <td>360526</td>\n",
       "      <td>43830</td>\n",
       "      <td>162010</td>\n",
       "      <td>2174</td>\n",
       "      <td>14407</td>\n",
       "      <td>134689</td>\n",
       "      <td>2020</td>\n",
       "    </tr>\n",
       "    <tr>\n",
       "      <th>103</th>\n",
       "      <td>Wyoming</td>\n",
       "      <td>581348</td>\n",
       "      <td>58854</td>\n",
       "      <td>485816</td>\n",
       "      <td>4712</td>\n",
       "      <td>11596</td>\n",
       "      <td>4746</td>\n",
       "      <td>482</td>\n",
       "      <td>825</td>\n",
       "      <td>14317</td>\n",
       "      <td>2020</td>\n",
       "    </tr>\n",
       "    <tr>\n",
       "      <th>105</th>\n",
       "      <td>Puerto Rico</td>\n",
       "      <td>3255642</td>\n",
       "      <td>3212625</td>\n",
       "      <td>31715</td>\n",
       "      <td>3214</td>\n",
       "      <td>151</td>\n",
       "      <td>2189</td>\n",
       "      <td>24</td>\n",
       "      <td>3404</td>\n",
       "      <td>2320</td>\n",
       "      <td>2020</td>\n",
       "    </tr>\n",
       "  </tbody>\n",
       "</table>\n",
       "<p>260 rows × 11 columns</p>\n",
       "</div>"
      ],
      "text/plain": [
       "             state  total_pop   his_lat     white  black_aa    aian    asian  \\\n",
       "1          Alabama    4841164    193503   3204335   1275780   21879    60240   \n",
       "3           Alaska     736855     49031    456575     23008  100619    43379   \n",
       "5          Arizona    6728577   2054849   3777876    270045  266191   199520   \n",
       "7         Arkansas    2968472    207049   2177900    457822   16300    41179   \n",
       "9       California   38654206  14903982  14837242   2158363  136582  5280818   \n",
       "..             ...        ...       ...       ...       ...     ...      ...   \n",
       "95      Washington    7512465    971522   5067909    279720   75677   656578   \n",
       "99   West Virginia    1807426     28679   1654681     63133    3072    13948   \n",
       "101      Wisconsin    5806975    408267   4681072    360526   43830   162010   \n",
       "103        Wyoming     581348     58854    485816      4712   11596     4746   \n",
       "105    Puerto Rico    3255642   3212625     31715      3214     151     2189   \n",
       "\n",
       "      nhopi  other      two  year  \n",
       "1      1371   6322    77734  2016  \n",
       "3      8584   1239    54420  2016  \n",
       "5     11832   7977   140287  2016  \n",
       "7      6714   3258    58250  2016  \n",
       "9    138956  90413  1107850  2016  \n",
       "..      ...    ...      ...   ...  \n",
       "95    49219  23363   388477  2020  \n",
       "99      453   4314    39146  2020  \n",
       "101    2174  14407   134689  2020  \n",
       "103     482    825    14317  2020  \n",
       "105      24   3404     2320  2020  \n",
       "\n",
       "[260 rows x 11 columns]"
      ]
     },
     "execution_count": 71,
     "metadata": {},
     "output_type": "execute_result"
    }
   ],
   "source": [
    "demo_pop_all_years"
   ]
  },
  {
   "cell_type": "code",
   "execution_count": 72,
   "id": "49f568fd",
   "metadata": {},
   "outputs": [],
   "source": [
    "census_pop_total = demo_pop_all_years[['state','total_pop','year']]"
   ]
  },
  {
   "cell_type": "code",
   "execution_count": 73,
   "id": "acac4878",
   "metadata": {},
   "outputs": [],
   "source": [
    "census_pop_total.to_csv('organized_data/census_pop_total.csv')"
   ]
  },
  {
   "cell_type": "code",
   "execution_count": 83,
   "id": "9903b991",
   "metadata": {},
   "outputs": [],
   "source": [
    "demo_pop_all_years = demo_pop_all_years.loc[demo_pop_all_years.state != 'Puerto Rico']"
   ]
  },
  {
   "cell_type": "code",
   "execution_count": 84,
   "id": "2d1af3b2",
   "metadata": {},
   "outputs": [],
   "source": [
    "demo_pct_all_years = demo_pop_all_years.groupby('year').agg(total_pop_sum=('total_pop', 'sum'),his_lat_sum=('his_lat', 'sum'),white_sum=('white', 'sum'),black_aa_sum=('black_aa', 'sum'),aian_sum=('aian', 'sum'),asian_sum=('asian', 'sum'),nhopi_sum=('nhopi', 'sum'),two_sum=('two', 'sum')).reset_index()"
   ]
  },
  {
   "cell_type": "code",
   "execution_count": 85,
   "id": "91fa246d",
   "metadata": {},
   "outputs": [],
   "source": [
    "demo_pct_all_years.to_csv('organized_data/demo_pct_all_years.csv')"
   ]
  }
 ],
 "metadata": {
  "kernelspec": {
   "display_name": "Python 3 (ipykernel)",
   "language": "python",
   "name": "python3"
  },
  "language_info": {
   "codemirror_mode": {
    "name": "ipython",
    "version": 3
   },
   "file_extension": ".py",
   "mimetype": "text/x-python",
   "name": "python",
   "nbconvert_exporter": "python",
   "pygments_lexer": "ipython3",
   "version": "3.9.7"
  }
 },
 "nbformat": 4,
 "nbformat_minor": 5
}
