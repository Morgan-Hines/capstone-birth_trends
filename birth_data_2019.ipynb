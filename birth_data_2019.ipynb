{
 "cells": [
  {
   "cell_type": "code",
   "execution_count": 1,
   "id": "40214b65",
   "metadata": {},
   "outputs": [],
   "source": [
    "import pandas as pd\n",
    "import matplotlib.pyplot as plt\n",
    "import seaborn as sns\n",
    "\n",
    "%matplotlib inline"
   ]
  },
  {
   "cell_type": "markdown",
   "id": "8691ebd3",
   "metadata": {},
   "source": [
    "### BIRTH'S 2019"
   ]
  },
  {
   "cell_type": "code",
   "execution_count": 2,
   "id": "04c7294b",
   "metadata": {},
   "outputs": [],
   "source": [
    "fi = open('us_births_2019.txt', 'r')"
   ]
  },
  {
   "cell_type": "code",
   "execution_count": 3,
   "id": "910be6df",
   "metadata": {},
   "outputs": [],
   "source": [
    "row = fi.readline()"
   ]
  },
  {
   "cell_type": "code",
   "execution_count": 4,
   "id": "720f9089",
   "metadata": {},
   "outputs": [],
   "source": [
    "values = [\n",
    "    (9, 12, 'dob_year'),\n",
    "    (75, 76, 'mothers_age'),\n",
    "    (79, 79, 'mothers_age_grouped'),\n",
    "    (117, 117, 'mothers_race'),\n",
    "    (120, 120, 'marital_status'),\n",
    "    (124, 124, 'mothers_education'),\n",
    "    (251, 251, 'wic')\n",
    "]"
   ]
  },
  {
   "cell_type": "code",
   "execution_count": 5,
   "id": "b353e52f",
   "metadata": {},
   "outputs": [],
   "source": [
    "results = []\n",
    "for row in fi:\n",
    "    row_values = {}\n",
    "\n",
    "    for start, stop, label in values:\n",
    "        if label != 'FILLER':\n",
    "            row_values[label] = row[start-1:stop]\n",
    "            \n",
    "    results.append(row_values)"
   ]
  },
  {
   "cell_type": "code",
   "execution_count": 6,
   "id": "7da2121f",
   "metadata": {},
   "outputs": [],
   "source": [
    "us_births_2019 = pd.DataFrame(results)"
   ]
  },
  {
   "cell_type": "code",
   "execution_count": 7,
   "id": "b395c8c0",
   "metadata": {},
   "outputs": [],
   "source": [
    "fi.close()"
   ]
  },
  {
   "cell_type": "markdown",
   "id": "bca9e786",
   "metadata": {},
   "source": [
    "### Organizing DFs"
   ]
  },
  {
   "cell_type": "code",
   "execution_count": 8,
   "id": "45ae58e2",
   "metadata": {},
   "outputs": [],
   "source": [
    "us_births_2019.mothers_age = us_births_2019.mothers_age.astype(int)"
   ]
  },
  {
   "cell_type": "markdown",
   "id": "472a9f84",
   "metadata": {},
   "source": [
    "### AGE"
   ]
  },
  {
   "cell_type": "code",
   "execution_count": 9,
   "id": "88a34709",
   "metadata": {},
   "outputs": [],
   "source": [
    "us_births_2019_age_counts = us_births_2019.mothers_age.value_counts(normalize=True).to_frame().reset_index().sort_values('index').rename(columns = {'index':'age','mothers_age':'birth_count'})"
   ]
  },
  {
   "cell_type": "code",
   "execution_count": 10,
   "id": "6a6fd801",
   "metadata": {},
   "outputs": [],
   "source": [
    "us_births_2019_age_counts['year'] = 2019"
   ]
  },
  {
   "cell_type": "code",
   "execution_count": 11,
   "id": "a9549606",
   "metadata": {},
   "outputs": [],
   "source": [
    "us_births_2019_age_counts.to_csv('organized_data/us_births_2019_age_counts.csv')"
   ]
  },
  {
   "cell_type": "code",
   "execution_count": 12,
   "id": "4897a7ca",
   "metadata": {},
   "outputs": [],
   "source": [
    "us_births_2019_grouped_age_counts = us_births_2019.mothers_age_grouped.value_counts(normalize=True).to_frame().reset_index().sort_values('index').rename(columns = {'index':'age_group_code','mothers_age_grouped':'pct_births'})"
   ]
  },
  {
   "cell_type": "code",
   "execution_count": 13,
   "id": "7581521b",
   "metadata": {},
   "outputs": [],
   "source": [
    "us_births_2019_grouped_age_counts['year'] = 2019"
   ]
  },
  {
   "cell_type": "code",
   "execution_count": 14,
   "id": "42c1e5c8",
   "metadata": {},
   "outputs": [],
   "source": [
    "for index, row in us_births_2019_grouped_age_counts.iterrows():\n",
    "    if row.age_group_code == \"1\":\n",
    "        us_births_2019_grouped_age_counts.loc[index, 'age_group'] = 'Under 15 years'\n",
    "    elif row.age_group_code == \"2\":\n",
    "        us_births_2019_grouped_age_counts.loc[index, 'age_group'] = '15-19 years'\n",
    "    elif row.age_group_code == \"3\":\n",
    "        us_births_2019_grouped_age_counts.loc[index, 'age_group'] = '20-24 years'\n",
    "    elif row.age_group_code == \"4\":\n",
    "        us_births_2019_grouped_age_counts.loc[index, 'age_group'] = '25-29 years'\n",
    "    elif row.age_group_code == \"5\":\n",
    "        us_births_2019_grouped_age_counts.loc[index, 'age_group'] = '30-34 years'\n",
    "    elif row.age_group_code == \"6\":\n",
    "        us_births_2019_grouped_age_counts.loc[index, 'age_group'] = '35-39 years'\n",
    "    elif row.age_group_code == \"7\":\n",
    "        us_births_2019_grouped_age_counts.loc[index, 'age_group'] = '40-44 years'\n",
    "    elif row.age_group_code == \"8\":\n",
    "        us_births_2019_grouped_age_counts.loc[index, 'age_group'] = '45-49 years'\n",
    "    elif row.age_group_code == \"9\":\n",
    "        us_births_2019_grouped_age_counts.loc[index, 'age_group'] = '50-54 years'"
   ]
  },
  {
   "cell_type": "code",
   "execution_count": 15,
   "id": "d8888fab",
   "metadata": {},
   "outputs": [],
   "source": [
    "us_births_2019_grouped_age_counts.to_csv('organized_data/us_births_2019_grouped_age_counts.csv')"
   ]
  },
  {
   "cell_type": "markdown",
   "id": "ea0cee47",
   "metadata": {},
   "source": [
    "### EDUCATION"
   ]
  },
  {
   "cell_type": "code",
   "execution_count": 16,
   "id": "59038ed2",
   "metadata": {},
   "outputs": [],
   "source": [
    "us_births_2019_ed_counts = us_births_2019.mothers_education.value_counts(normalize=True).to_frame().reset_index().sort_values('index').head(8).rename(columns = {'index':'ed_code','mothers_education':'pct_births'})"
   ]
  },
  {
   "cell_type": "code",
   "execution_count": 17,
   "id": "e31ff000",
   "metadata": {},
   "outputs": [],
   "source": [
    "us_births_2019_ed_counts['year'] = 2019"
   ]
  },
  {
   "cell_type": "code",
   "execution_count": 18,
   "id": "198de6e0",
   "metadata": {},
   "outputs": [],
   "source": [
    "for index, row in us_births_2019_ed_counts.iterrows():\n",
    "    if row.ed_code == \"1\":\n",
    "        us_births_2019_ed_counts.loc[index, 'age_group'] = '8th grade or less'\n",
    "    elif row.ed_code == \"2\":\n",
    "        us_births_2019_ed_counts.loc[index, 'age_group'] = '9th through 12th grade with no diploma'\n",
    "    elif row.ed_code == \"3\":\n",
    "        us_births_2019_ed_counts.loc[index, 'age_group'] = 'High school graduate or GED completed'\n",
    "    elif row.ed_code == \"4\":\n",
    "        us_births_2019_ed_counts.loc[index, 'age_group'] = 'Some college credit, but not a degree'\n",
    "    elif row.ed_code == \"5\":\n",
    "        us_births_2019_ed_counts.loc[index, 'age_group'] = 'Associate degree (AA,AS)'\n",
    "    elif row.ed_code == \"6\":\n",
    "        us_births_2019_ed_counts.loc[index, 'age_group'] = 'Bachelor’s degree (BA, AB, BS)'\n",
    "    elif row.ed_code == \"7\":\n",
    "        us_births_2019_ed_counts.loc[index, 'age_group'] = 'Master’s degree (MA, MS, MEng, MEd, MSW, MBA)'\n",
    "    elif row.ed_code == \"8\":\n",
    "        us_births_2019_ed_counts.loc[index, 'age_group'] = 'Doctorate (PhD, EdD) or Professional Degree (MD, DDS,DVM, LLB, JD)'"
   ]
  },
  {
   "cell_type": "code",
   "execution_count": 19,
   "id": "a97fb047",
   "metadata": {},
   "outputs": [],
   "source": [
    "us_births_2019_ed_counts.to_csv('organized_data/us_births_2019_ed_counts.csv')"
   ]
  },
  {
   "cell_type": "markdown",
   "id": "11691fb0",
   "metadata": {},
   "source": [
    "### WIC"
   ]
  },
  {
   "cell_type": "code",
   "execution_count": 20,
   "id": "112b9e81",
   "metadata": {},
   "outputs": [],
   "source": [
    "us_births_2019_wic_counts = us_births_2019.wic.value_counts(normalize=True).head(2).to_frame().reset_index().rename(columns = {'index':'wic','wic':'pct_births'})"
   ]
  },
  {
   "cell_type": "code",
   "execution_count": 21,
   "id": "726622b9",
   "metadata": {},
   "outputs": [],
   "source": [
    "us_births_2019_wic_counts['year']=2019"
   ]
  },
  {
   "cell_type": "code",
   "execution_count": 22,
   "id": "0da4b893",
   "metadata": {},
   "outputs": [],
   "source": [
    "us_births_2019_wic_counts.to_csv('organized_data/us_births_2019_wic_counts.csv')"
   ]
  },
  {
   "cell_type": "markdown",
   "id": "59a11206",
   "metadata": {},
   "source": [
    "### DEMO"
   ]
  },
  {
   "cell_type": "code",
   "execution_count": 23,
   "id": "8781def6",
   "metadata": {},
   "outputs": [],
   "source": [
    "us_births_2019_demo_counts = us_births_2019.mothers_race.value_counts(normalize=True).to_frame().reset_index().rename(columns = {'index':'demo_code','mothers_race':'pct_births'})"
   ]
  },
  {
   "cell_type": "code",
   "execution_count": 24,
   "id": "291c353a",
   "metadata": {},
   "outputs": [],
   "source": [
    "for index, row in us_births_2019_demo_counts.iterrows():\n",
    "    if row.demo_code == \"1\":\n",
    "        us_births_2019_demo_counts.loc[index, 'demo'] = 'White'\n",
    "    elif row.demo_code == \"2\":\n",
    "        us_births_2019_demo_counts.loc[index, 'demo'] = 'Black or African American'\n",
    "    elif row.demo_code == \"3\":\n",
    "        us_births_2019_demo_counts.loc[index, 'demo'] = 'AIAN'\n",
    "    elif row.demo_code == \"4\":\n",
    "        us_births_2019_demo_counts.loc[index, 'demo'] = 'Asian'\n",
    "    elif row.demo_code == \"5\":\n",
    "        us_births_2019_demo_counts.loc[index, 'demo'] = 'NHOPI'\n",
    "    elif row.demo_code == \"6\":\n",
    "        us_births_2019_demo_counts.loc[index, 'demo'] = 'More than one race'\n",
    "    elif row.demo_code == \"7\":\n",
    "        us_births_2019_demo_counts.loc[index, 'demo'] = 'Hispanic'\n",
    "    elif row.demo_code == \"8\":\n",
    "        us_births_2019_demo_counts.loc[index, 'demo'] = 'Unknown/Not Stated'"
   ]
  },
  {
   "cell_type": "code",
   "execution_count": 25,
   "id": "31de716b",
   "metadata": {},
   "outputs": [],
   "source": [
    "us_births_2019_demo_counts['year']=2019"
   ]
  },
  {
   "cell_type": "code",
   "execution_count": 26,
   "id": "68bebaf8",
   "metadata": {},
   "outputs": [],
   "source": [
    "us_births_2019_demo_birth_count = us_births_2019.mothers_race.value_counts().to_frame().reset_index().rename(columns = {'index':'demo_code','mothers_race':'births_count'})"
   ]
  },
  {
   "cell_type": "code",
   "execution_count": 27,
   "id": "c07e8a14",
   "metadata": {},
   "outputs": [],
   "source": [
    "us_births_2019_demo_counts = pd.merge(us_births_2019_demo_birth_count,us_births_2019_demo_counts, on='demo_code', how='inner')"
   ]
  },
  {
   "cell_type": "code",
   "execution_count": 28,
   "id": "bc7be184",
   "metadata": {},
   "outputs": [],
   "source": [
    "us_births_2019_demo_counts.to_csv('organized_data/us_births_2019_demo_counts.csv')"
   ]
  },
  {
   "cell_type": "markdown",
   "id": "7fc1759c",
   "metadata": {},
   "source": [
    "### MARITAL STATUS"
   ]
  },
  {
   "cell_type": "code",
   "execution_count": 29,
   "id": "a6960ed6",
   "metadata": {},
   "outputs": [],
   "source": [
    "us_births_2019_marital_status = us_births_2019.marital_status.value_counts(normalize=True).reset_index().rename(columns = {'index':'status_code','marital_status':'pct_births'})"
   ]
  },
  {
   "cell_type": "code",
   "execution_count": 30,
   "id": "f86d7eda",
   "metadata": {},
   "outputs": [],
   "source": [
    "for index, row in us_births_2019_marital_status.iterrows():\n",
    "    if row.status_code == \"1\":\n",
    "        us_births_2019_marital_status.loc[index, 'demo'] = 'Married'\n",
    "    elif row.status_code == \"2\":\n",
    "        us_births_2019_marital_status.loc[index, 'demo'] = 'Unmarried'"
   ]
  },
  {
   "cell_type": "code",
   "execution_count": 31,
   "id": "37a4878b",
   "metadata": {},
   "outputs": [],
   "source": [
    "us_births_2019_marital_status['year']=2019"
   ]
  },
  {
   "cell_type": "code",
   "execution_count": 32,
   "id": "8eb70002",
   "metadata": {},
   "outputs": [],
   "source": [
    "us_births_2019_marital_status.to_csv('organized_data/us_births_2019_marital_status.csv')"
   ]
  }
 ],
 "metadata": {
  "kernelspec": {
   "display_name": "Python 3 (ipykernel)",
   "language": "python",
   "name": "python3"
  },
  "language_info": {
   "codemirror_mode": {
    "name": "ipython",
    "version": 3
   },
   "file_extension": ".py",
   "mimetype": "text/x-python",
   "name": "python",
   "nbconvert_exporter": "python",
   "pygments_lexer": "ipython3",
   "version": "3.9.7"
  }
 },
 "nbformat": 4,
 "nbformat_minor": 5
}
