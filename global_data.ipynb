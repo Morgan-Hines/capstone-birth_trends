{
 "cells": [
  {
   "cell_type": "code",
   "execution_count": 1,
   "id": "e9dbb6c5",
   "metadata": {},
   "outputs": [],
   "source": [
    "import pandas as pd\n",
    "import matplotlib.pyplot as plt\n",
    "import seaborn as sns\n",
    "%matplotlib inline"
   ]
  },
  {
   "cell_type": "code",
   "execution_count": 2,
   "id": "2f89fdad",
   "metadata": {},
   "outputs": [],
   "source": [
    "global_contra = pd.read_csv('actual_data/contraceptive_use_percent_of_women_ages_15_49.csv')"
   ]
  },
  {
   "cell_type": "code",
   "execution_count": 3,
   "id": "d3510ea5",
   "metadata": {},
   "outputs": [],
   "source": [
    "global_birth = pd.read_csv('actual_data/sp_dyn_cbrt_in.csv')"
   ]
  },
  {
   "cell_type": "code",
   "execution_count": 4,
   "id": "779a3b30",
   "metadata": {},
   "outputs": [],
   "source": [
    "global_contra_trim = global_contra[['country','1999','2000', '2001', '2002',\n",
    "       '2003', '2004', '2005', '2006', '2007', '2008', '2009', '2010', '2011',\n",
    "       '2012', '2013', '2014', '2015', '2016', '2017', '2018', '2019']]"
   ]
  },
  {
   "cell_type": "code",
   "execution_count": 5,
   "id": "30509812",
   "metadata": {},
   "outputs": [],
   "source": [
    "global_birth_trim = global_birth[['country','1999','2000', '2001', '2002',\n",
    "       '2003', '2004', '2005', '2006', '2007', '2008', '2009', '2010', '2011',\n",
    "       '2012', '2013', '2014', '2015', '2016', '2017', '2018', '2019']]"
   ]
  },
  {
   "cell_type": "code",
   "execution_count": 6,
   "id": "c7039223",
   "metadata": {},
   "outputs": [],
   "source": [
    "contra_country = global_contra_trim.country.to_list()"
   ]
  },
  {
   "cell_type": "code",
   "execution_count": 7,
   "id": "5c4ad9a2",
   "metadata": {},
   "outputs": [],
   "source": [
    "global_birth_trim = global_birth_trim.loc[global_birth.country.isin(contra_country)]"
   ]
  },
  {
   "cell_type": "code",
   "execution_count": 8,
   "id": "f357abbe",
   "metadata": {},
   "outputs": [],
   "source": [
    "birth_country = global_birth_trim.country.to_list()"
   ]
  },
  {
   "cell_type": "code",
   "execution_count": 9,
   "id": "d012618a",
   "metadata": {},
   "outputs": [],
   "source": [
    "global_contra_trim = global_contra_trim.loc[global_contra_trim.country.isin(birth_country)]"
   ]
  },
  {
   "cell_type": "code",
   "execution_count": 10,
   "id": "a19f5e4f",
   "metadata": {
    "scrolled": true
   },
   "outputs": [
    {
     "data": {
      "text/plain": [
       "(212, 62)"
      ]
     },
     "execution_count": 10,
     "metadata": {},
     "output_type": "execute_result"
    }
   ],
   "source": [
    "global_birth.shape"
   ]
  },
  {
   "cell_type": "code",
   "execution_count": 11,
   "id": "9f020e44",
   "metadata": {},
   "outputs": [],
   "source": [
    "global_birth_trim = global_birth_trim.dropna()"
   ]
  },
  {
   "cell_type": "code",
   "execution_count": 12,
   "id": "e315f690",
   "metadata": {
    "scrolled": true
   },
   "outputs": [
    {
     "data": {
      "text/plain": [
       "Index(['country', '1999', '2000', '2001', '2002', '2003', '2004', '2005',\n",
       "       '2006', '2007', '2008', '2009', '2010', '2011', '2012', '2013', '2014',\n",
       "       '2015', '2016', '2017', '2018', '2019'],\n",
       "      dtype='object')"
      ]
     },
     "execution_count": 12,
     "metadata": {},
     "output_type": "execute_result"
    }
   ],
   "source": [
    "global_contra_trim.columns"
   ]
  },
  {
   "cell_type": "code",
   "execution_count": 13,
   "id": "a9d3ba6a",
   "metadata": {},
   "outputs": [],
   "source": [
    "years = ['1999','2000', '2001', '2002', '2003', '2004', '2005', '2006',\n",
    "       '2007', '2008', '2009', '2010', '2011', '2012', '2013', '2014', '2015',\n",
    "       '2016', '2017', '2018', '2019']"
   ]
  },
  {
   "cell_type": "code",
   "execution_count": 14,
   "id": "856e964a",
   "metadata": {
    "scrolled": true
   },
   "outputs": [],
   "source": [
    "global_contra_melt = global_contra_trim.melt(id_vars = 'country', value_vars=years).dropna()"
   ]
  },
  {
   "cell_type": "code",
   "execution_count": 15,
   "id": "f324d941",
   "metadata": {},
   "outputs": [],
   "source": [
    "global_contra_melt.variable = global_contra_melt.variable.astype(int)"
   ]
  },
  {
   "cell_type": "code",
   "execution_count": 16,
   "id": "c62f8946",
   "metadata": {},
   "outputs": [],
   "source": [
    "global_contra_melt = global_contra_melt.rename(columns={'variable':'year'})"
   ]
  },
  {
   "cell_type": "code",
   "execution_count": 17,
   "id": "7777ba89",
   "metadata": {},
   "outputs": [],
   "source": [
    "global_contra_max = global_contra_melt.groupby('country')['year'].max().to_frame().reset_index().rename(columns = {'variable':'year'})"
   ]
  },
  {
   "cell_type": "code",
   "execution_count": 18,
   "id": "fe81bac9",
   "metadata": {},
   "outputs": [],
   "source": [
    "global_contra_final = pd.merge(global_contra_max,global_contra_melt, on=['country','year'], how='inner')"
   ]
  },
  {
   "cell_type": "code",
   "execution_count": 19,
   "id": "674f0e26",
   "metadata": {},
   "outputs": [],
   "source": [
    "us_birth = global_birth.dropna()"
   ]
  },
  {
   "cell_type": "code",
   "execution_count": 20,
   "id": "e5b731c1",
   "metadata": {},
   "outputs": [],
   "source": [
    "us_birth_rates = us_birth.loc[us_birth.country == 'United States']"
   ]
  },
  {
   "cell_type": "code",
   "execution_count": 21,
   "id": "61e9cb7b",
   "metadata": {},
   "outputs": [],
   "source": [
    "us_birth_rates = us_birth_rates.melt().drop(index = 0).rename(columns = {'variable':'year','value':'birth_rate'})"
   ]
  },
  {
   "cell_type": "code",
   "execution_count": 22,
   "id": "81d5d7b5",
   "metadata": {
    "scrolled": true
   },
   "outputs": [
    {
     "data": {
      "text/html": [
       "<div>\n",
       "<style scoped>\n",
       "    .dataframe tbody tr th:only-of-type {\n",
       "        vertical-align: middle;\n",
       "    }\n",
       "\n",
       "    .dataframe tbody tr th {\n",
       "        vertical-align: top;\n",
       "    }\n",
       "\n",
       "    .dataframe thead th {\n",
       "        text-align: right;\n",
       "    }\n",
       "</style>\n",
       "<table border=\"1\" class=\"dataframe\">\n",
       "  <thead>\n",
       "    <tr style=\"text-align: right;\">\n",
       "      <th></th>\n",
       "      <th>year</th>\n",
       "      <th>birth_rate</th>\n",
       "    </tr>\n",
       "  </thead>\n",
       "  <tbody>\n",
       "    <tr>\n",
       "      <th>1</th>\n",
       "      <td>1959</td>\n",
       "      <td>23.7</td>\n",
       "    </tr>\n",
       "    <tr>\n",
       "      <th>2</th>\n",
       "      <td>1960</td>\n",
       "      <td>23.3</td>\n",
       "    </tr>\n",
       "    <tr>\n",
       "      <th>3</th>\n",
       "      <td>1961</td>\n",
       "      <td>22.4</td>\n",
       "    </tr>\n",
       "    <tr>\n",
       "      <th>4</th>\n",
       "      <td>1962</td>\n",
       "      <td>21.7</td>\n",
       "    </tr>\n",
       "    <tr>\n",
       "      <th>5</th>\n",
       "      <td>1963</td>\n",
       "      <td>21.1</td>\n",
       "    </tr>\n",
       "    <tr>\n",
       "      <th>...</th>\n",
       "      <td>...</td>\n",
       "      <td>...</td>\n",
       "    </tr>\n",
       "    <tr>\n",
       "      <th>57</th>\n",
       "      <td>2015</td>\n",
       "      <td>12.2</td>\n",
       "    </tr>\n",
       "    <tr>\n",
       "      <th>58</th>\n",
       "      <td>2016</td>\n",
       "      <td>11.8</td>\n",
       "    </tr>\n",
       "    <tr>\n",
       "      <th>59</th>\n",
       "      <td>2017</td>\n",
       "      <td>11.6</td>\n",
       "    </tr>\n",
       "    <tr>\n",
       "      <th>60</th>\n",
       "      <td>2018</td>\n",
       "      <td>11.4</td>\n",
       "    </tr>\n",
       "    <tr>\n",
       "      <th>61</th>\n",
       "      <td>2019</td>\n",
       "      <td>10.9</td>\n",
       "    </tr>\n",
       "  </tbody>\n",
       "</table>\n",
       "<p>61 rows × 2 columns</p>\n",
       "</div>"
      ],
      "text/plain": [
       "    year birth_rate\n",
       "1   1959       23.7\n",
       "2   1960       23.3\n",
       "3   1961       22.4\n",
       "4   1962       21.7\n",
       "5   1963       21.1\n",
       "..   ...        ...\n",
       "57  2015       12.2\n",
       "58  2016       11.8\n",
       "59  2017       11.6\n",
       "60  2018       11.4\n",
       "61  2019       10.9\n",
       "\n",
       "[61 rows x 2 columns]"
      ]
     },
     "execution_count": 22,
     "metadata": {},
     "output_type": "execute_result"
    }
   ],
   "source": [
    "us_birth_rates"
   ]
  },
  {
   "cell_type": "code",
   "execution_count": 29,
   "id": "2f8defe0",
   "metadata": {
    "scrolled": true
   },
   "outputs": [
    {
     "data": {
      "text/html": [
       "<div>\n",
       "<style scoped>\n",
       "    .dataframe tbody tr th:only-of-type {\n",
       "        vertical-align: middle;\n",
       "    }\n",
       "\n",
       "    .dataframe tbody tr th {\n",
       "        vertical-align: top;\n",
       "    }\n",
       "\n",
       "    .dataframe thead th {\n",
       "        text-align: right;\n",
       "    }\n",
       "</style>\n",
       "<table border=\"1\" class=\"dataframe\">\n",
       "  <thead>\n",
       "    <tr style=\"text-align: right;\">\n",
       "      <th></th>\n",
       "      <th>country</th>\n",
       "      <th>1999</th>\n",
       "      <th>2000</th>\n",
       "      <th>2001</th>\n",
       "      <th>2002</th>\n",
       "      <th>2003</th>\n",
       "      <th>2004</th>\n",
       "      <th>2005</th>\n",
       "      <th>2006</th>\n",
       "      <th>2007</th>\n",
       "      <th>...</th>\n",
       "      <th>2010</th>\n",
       "      <th>2011</th>\n",
       "      <th>2012</th>\n",
       "      <th>2013</th>\n",
       "      <th>2014</th>\n",
       "      <th>2015</th>\n",
       "      <th>2016</th>\n",
       "      <th>2017</th>\n",
       "      <th>2018</th>\n",
       "      <th>2019</th>\n",
       "    </tr>\n",
       "  </thead>\n",
       "  <tbody>\n",
       "    <tr>\n",
       "      <th>140</th>\n",
       "      <td>Niger</td>\n",
       "      <td>53.5</td>\n",
       "      <td>53.2</td>\n",
       "      <td>52.9</td>\n",
       "      <td>52.6</td>\n",
       "      <td>52.2</td>\n",
       "      <td>51.8</td>\n",
       "      <td>51.4</td>\n",
       "      <td>51.0</td>\n",
       "      <td>50.6</td>\n",
       "      <td>...</td>\n",
       "      <td>49.4</td>\n",
       "      <td>48.9</td>\n",
       "      <td>48.5</td>\n",
       "      <td>48.0</td>\n",
       "      <td>47.5</td>\n",
       "      <td>47.0</td>\n",
       "      <td>46.5</td>\n",
       "      <td>46.1</td>\n",
       "      <td>45.6</td>\n",
       "      <td>45.2</td>\n",
       "    </tr>\n",
       "  </tbody>\n",
       "</table>\n",
       "<p>1 rows × 22 columns</p>\n",
       "</div>"
      ],
      "text/plain": [
       "    country  1999  2000  2001  2002  2003  2004  2005  2006  2007  ...  2010  \\\n",
       "140   Niger  53.5  53.2  52.9  52.6  52.2  51.8  51.4  51.0  50.6  ...  49.4   \n",
       "\n",
       "     2011  2012  2013  2014  2015  2016  2017  2018  2019  \n",
       "140  48.9  48.5  48.0  47.5  47.0  46.5  46.1  45.6  45.2  \n",
       "\n",
       "[1 rows x 22 columns]"
      ]
     },
     "execution_count": 29,
     "metadata": {},
     "output_type": "execute_result"
    }
   ],
   "source": [
    "global_birth_trim.loc[global_birth_trim['2019'] == global_birth_trim['2019'].max()]"
   ]
  },
  {
   "cell_type": "code",
   "execution_count": 32,
   "id": "44ac3c5a",
   "metadata": {},
   "outputs": [
    {
     "data": {
      "text/html": [
       "<div>\n",
       "<style scoped>\n",
       "    .dataframe tbody tr th:only-of-type {\n",
       "        vertical-align: middle;\n",
       "    }\n",
       "\n",
       "    .dataframe tbody tr th {\n",
       "        vertical-align: top;\n",
       "    }\n",
       "\n",
       "    .dataframe thead th {\n",
       "        text-align: right;\n",
       "    }\n",
       "</style>\n",
       "<table border=\"1\" class=\"dataframe\">\n",
       "  <thead>\n",
       "    <tr style=\"text-align: right;\">\n",
       "      <th></th>\n",
       "      <th>country</th>\n",
       "      <th>year</th>\n",
       "      <th>value</th>\n",
       "    </tr>\n",
       "  </thead>\n",
       "  <tbody>\n",
       "    <tr>\n",
       "      <th>41</th>\n",
       "      <td>Czech Republic</td>\n",
       "      <td>2007</td>\n",
       "      <td>86.3</td>\n",
       "    </tr>\n",
       "  </tbody>\n",
       "</table>\n",
       "</div>"
      ],
      "text/plain": [
       "           country  year  value\n",
       "41  Czech Republic  2007   86.3"
      ]
     },
     "execution_count": 32,
     "metadata": {},
     "output_type": "execute_result"
    }
   ],
   "source": [
    "global_contra_final.loc[global_contra_final.value == global_contra_final.value.max()]"
   ]
  },
  {
   "cell_type": "code",
   "execution_count": 24,
   "id": "c6b36487",
   "metadata": {},
   "outputs": [],
   "source": [
    "us_birth_rates.to_csv('viz_tables/us_birth_rates.csv')"
   ]
  },
  {
   "cell_type": "code",
   "execution_count": 25,
   "id": "a68a0f22",
   "metadata": {},
   "outputs": [],
   "source": [
    "global_birth_trim.to_csv('viz_tables/global_birth_rates.csv')"
   ]
  },
  {
   "cell_type": "code",
   "execution_count": 26,
   "id": "e6726740",
   "metadata": {},
   "outputs": [],
   "source": [
    "global_contra_final.to_csv('viz_tables/global_contra_rates.csv')"
   ]
  }
 ],
 "metadata": {
  "kernelspec": {
   "display_name": "Python 3 (ipykernel)",
   "language": "python",
   "name": "python3"
  },
  "language_info": {
   "codemirror_mode": {
    "name": "ipython",
    "version": 3
   },
   "file_extension": ".py",
   "mimetype": "text/x-python",
   "name": "python",
   "nbconvert_exporter": "python",
   "pygments_lexer": "ipython3",
   "version": "3.9.7"
  }
 },
 "nbformat": 4,
 "nbformat_minor": 5
}
